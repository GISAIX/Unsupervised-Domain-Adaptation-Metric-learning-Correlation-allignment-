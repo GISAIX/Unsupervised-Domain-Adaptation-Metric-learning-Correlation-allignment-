{
 "cells": [
  {
   "cell_type": "code",
   "execution_count": 81,
   "metadata": {},
   "outputs": [],
   "source": [
    "from __future__ import absolute_import\n",
    "from __future__ import print_function\n",
    "import numpy as np\n",
    "import numpy\n",
    "import PIL\n",
    "from PIL import Image\n",
    "np.random.seed(1337)  # for reproducibility\n",
    "\n",
    "import random\n",
    "from keras.datasets import mnist\n",
    "from keras.models import Sequential, Model\n",
    "from keras.layers import Dense, Dropout, Input, Lambda\n",
    "from keras.layers.convolutional import Conv2D\n",
    "from keras.layers.convolutional import MaxPooling2D\n",
    "from keras.layers import Flatten\n",
    "from keras.optimizers import RMSprop\n",
    "from keras import backend as K\n",
    "from keras.layers import Concatenate, Dense, LSTM, Input, concatenate\n",
    "\n",
    "\n",
    "def conc_shape(shapes):\n",
    "    shape1, shape2 = shapes\n",
    "    return(shape1[0], 256)\n",
    "\n",
    "def conc_output(vects):\n",
    "    x, y = vects\n",
    "    conc = concatenate([x,y])\n",
    "    return conc\n",
    "    \n",
    "\n",
    "def eucl_dist_output_shape(shapes):\n",
    "    shape1, shape2 = shapes\n",
    "    return (shape1[0], 1)\n",
    "\n",
    "def euclidean_distance(x, y):\n",
    "     return K.sqrt(K.sum(K.square(x - y), axis=1, keepdims=True))\n",
    "\n",
    "\n",
    "\n",
    "#def softmax(z): return np.exp(z)/((np.exp(z)).sum())\n",
    "\n",
    "def contrastive_loss1(p ,q, y_true):\n",
    "    '''Contrastive loss from Hadsell-et-al.'06\n",
    "    http://yann.lecun.com/exdb/publis/pdf/hadsell-chopra-lecun-06.pdf\n",
    "    '''\n",
    "    y_pred = euclidean_distance(p, q)\n",
    "    #print(y_pred)\n",
    "    #y_pred = tf.reshape(y_pred, [p.shape[0],1])\n",
    "    margin = 1\n",
    "    \n",
    "    return (y_true *K.square(y_pred) +(1 - y_true) *K.square(K.maximum(margin - y_pred, 0)))\n",
    "\n",
    "def contrastive_loss(y_true, y_pred):\n",
    "    '''Contrastive loss from Hadsell-et-al.'06\n",
    "    http://yann.lecun.com/exdb/publis/pdf/hadsell-chopra-lecun-06.pdf\n",
    "    '''\n",
    "    margin = 1\n",
    "    return K.mean(y_true * K.square(y_pred) + (1 - y_true) * K.square(K.maximum(margin - y_pred, 0)))\n",
    "\n",
    "def kl_divergence_loss(p, q):\n",
    "    '''Kullback Leiber Divergence loss'''\n",
    "    \n",
    "    p = K.clip(p, K.epsilon(), 1)\n",
    "    q= K.clip(q, K.epsilon(), 1)\n",
    "    \n",
    "    return p*K.log(p/q)\n",
    "\n",
    "def total_loss1(Y_true, Y_pred):\n",
    "    p = Y_pred[:,0:128]\n",
    "    q = Y_pred[:,128:256]\n",
    "    y_true = Y_true[:,0]\n",
    "    isSame = Y_true[:,1]\n",
    "    \n",
    "    return total_loss(y_true, isSame, p, q)\n",
    "    \n",
    "def total_loss(y_true, isSame, p, q):\n",
    "    y_pred = euclidean_distance(p, q)\n",
    "    \n",
    "    \n",
    "    margin = 1\n",
    "    p = K.clip(p, K.epsilon(), 1)\n",
    "    q= K.clip(q, K.epsilon(), 1)\n",
    "    return K.mean(isSame*(contrastive_loss(y_true, y_pred)) + (1-isSame)*(kl_divergence_loss(p,q)))\n",
    "    \n",
    "    #return K.mean(isSame*(y_true *K.square(y_pred) +(1 - y_true) *K.square(K.maximum(margin - y_pred, 0))) + (1-isSame)*(p*K.log(p/q)))\n",
    "\n",
    "def create_pairs(x, digit_indices):\n",
    "    '''Positive and negative pair creation.\n",
    "    Alternates between positive and negative pairs.\n",
    "    '''\n",
    "    pairs = []\n",
    "    labels = []\n",
    "    n = min([len(digit_indices[d]) for d in range(10)]) - 1\n",
    "    for d in range(10):\n",
    "        for i in range(n):\n",
    "            z1, z2 = digit_indices[d][i], digit_indices[d][i + 1]\n",
    "            pairs += [[x[z1], x[z2]]]\n",
    "            inc = random.randrange(1, 10)\n",
    "            dn = (d + inc) % 10\n",
    "            z1, z2 = digit_indices[d][i], digit_indices[dn][i]\n",
    "            pairs += [[x[z1], x[z2]]]\n",
    "            labels += [1, 0]\n",
    "    return np.array(pairs), np.array(labels)\n",
    "\n",
    "\n",
    "def create_base_network():\n",
    "    '''Base network to be shared (eq. to feature extraction).\n",
    "    '''\n",
    "    seq = Sequential()\n",
    "    seq.add(Conv2D(30, (5, 5), input_shape=(28, 28,1), activation='relu'))\n",
    "    seq.add(MaxPooling2D(pool_size=(2, 2)))\n",
    "    seq.add(Dropout(0.2))\n",
    "    seq.add(Flatten())\n",
    "    seq.add(Dense(128, activation='relu'))\n",
    "    seq.add(Dropout(0.1))\n",
    "    seq.add(Dense(128, activation='relu'))\n",
    "    return seq\n",
    "\n",
    "\n",
    "def compute_accuracy(predictions, labels):\n",
    "    '''Compute classification accuracy with a fixed threshold on distances.\n",
    "    '''\n",
    "    return labels[predictions.ravel() < 0.5].mean()\n",
    "\n"
   ]
  },
  {
   "cell_type": "code",
   "execution_count": 91,
   "metadata": {},
   "outputs": [],
   "source": [
    "nb_epoch=5"
   ]
  },
  {
   "cell_type": "code",
   "execution_count": 93,
   "metadata": {},
   "outputs": [
    {
     "name": "stdout",
     "output_type": "stream",
     "text": [
      "(12800, 2)\n"
     ]
    }
   ],
   "source": [
    "print(tr_final[0:12800,].shape)"
   ]
  },
  {
   "cell_type": "code",
   "execution_count": 94,
   "metadata": {},
   "outputs": [
    {
     "name": "stderr",
     "output_type": "stream",
     "text": [
      "/home/aniruddha/anaconda3/envs/tensorflow/lib/python3.5/site-packages/ipykernel_launcher.py:7: UserWarning: The `nb_epoch` argument in `fit` has been renamed `epochs`.\n",
      "  import sys\n"
     ]
    },
    {
     "name": "stdout",
     "output_type": "stream",
     "text": [
      "Epoch 1/5\n",
      "12800/12800 [==============================] - 9s 739us/step - loss: 0.2531\n",
      "Epoch 2/5\n",
      "12800/12800 [==============================] - 9s 728us/step - loss: 0.2527\n",
      "Epoch 3/5\n",
      "12800/12800 [==============================] - 9s 732us/step - loss: 0.2527\n",
      "Epoch 4/5\n",
      "12800/12800 [==============================] - 9s 735us/step - loss: 0.2526\n",
      "Epoch 5/5\n",
      "12800/12800 [==============================] - 10s 754us/step - loss: 0.2525\n"
     ]
    },
    {
     "data": {
      "text/plain": [
       "<keras.callbacks.History at 0x7f519435feb8>"
      ]
     },
     "execution_count": 94,
     "metadata": {},
     "output_type": "execute_result"
    }
   ],
   "source": [
    "# train\n",
    "rms = RMSprop()\n",
    "model.compile(loss=total_loss1, optimizer=rms)\n",
    "model.fit([tr_pairs1[0:12800,0], tr_pairs1[0:12800, 1]], tr_final[0:12800,],\n",
    "          #validation_data=([te_pairs1[:,0], te_pairs1[:, 1]], te_final),\n",
    "          batch_size=128,\n",
    "          nb_epoch=nb_epoch)\n",
    "\n"
   ]
  },
  {
   "cell_type": "code",
   "execution_count": null,
   "metadata": {},
   "outputs": [],
   "source": []
  },
  {
   "cell_type": "code",
   "execution_count": 89,
   "metadata": {},
   "outputs": [
    {
     "name": "stdout",
     "output_type": "stream",
     "text": [
      "(17820, 28, 28, 1)\n",
      "(17820, 28, 28, 1)\n",
      "(17820, 2)\n"
     ]
    }
   ],
   "source": [
    "print(te_pairs1[:,1].shape)\n",
    "print(te_pairs1[:,0].shape)\n",
    "print(te_final.shape)"
   ]
  },
  {
   "cell_type": "code",
   "execution_count": 19,
   "metadata": {},
   "outputs": [],
   "source": [
    "seed=7\n",
    "numpy.random.seed(seed)"
   ]
  },
  {
   "cell_type": "code",
   "execution_count": 20,
   "metadata": {},
   "outputs": [],
   "source": [
    "(X_train, y_train), (X_test, y_test) = mnist.load_data()\n",
    "X_train = X_train.reshape(60000, 784)\n",
    "X_test = X_test.reshape(10000, 784)\n",
    "\n",
    "X_test = X_test.astype('float32')\n",
    "X_train = X_train.astype('float32')"
   ]
  },
  {
   "cell_type": "code",
   "execution_count": 21,
   "metadata": {},
   "outputs": [
    {
     "name": "stdout",
     "output_type": "stream",
     "text": [
      "(60000, 784)\n",
      "(10000, 784)\n"
     ]
    }
   ],
   "source": [
    "#X_train = X_train.reshape(X_train.shape[0], 1, 28, 28).astype('float32')\n",
    "#X_test = X_test.reshape(X_test.shape[0], 1, 28, 28).astype('float32')\n",
    "\n",
    "print(X_train.shape)\n",
    "print(X_test.shape)"
   ]
  },
  {
   "cell_type": "code",
   "execution_count": 22,
   "metadata": {},
   "outputs": [],
   "source": [
    "X_train=X_train/255\n",
    "X_test=X_test/255"
   ]
  },
  {
   "cell_type": "code",
   "execution_count": 23,
   "metadata": {},
   "outputs": [
    {
     "name": "stdout",
     "output_type": "stream",
     "text": [
      "[5 0 4 ... 5 6 8]\n"
     ]
    }
   ],
   "source": [
    "print(y_train)"
   ]
  },
  {
   "cell_type": "code",
   "execution_count": 24,
   "metadata": {},
   "outputs": [],
   "source": [
    "input_dim = 784\n",
    "nb_epoch = 20"
   ]
  },
  {
   "cell_type": "code",
   "execution_count": 25,
   "metadata": {},
   "outputs": [],
   "source": [
    "# create training+test positive and negative pairs\n",
    "digit_indices = [np.where(y_train == i)[0] for i in range(10)]\n",
    "tr_pairs, tr_y = create_pairs(X_train, digit_indices)\n",
    "\n",
    "digit_indices = [np.where(y_test == i)[0] for i in range(10)]\n",
    "te_pairs, te_y = create_pairs(X_test, digit_indices)"
   ]
  },
  {
   "cell_type": "code",
   "execution_count": 26,
   "metadata": {},
   "outputs": [],
   "source": [
    "base_network = create_base_network()"
   ]
  },
  {
   "cell_type": "code",
   "execution_count": 27,
   "metadata": {},
   "outputs": [
    {
     "name": "stdout",
     "output_type": "stream",
     "text": [
      "(28, 28, 1)\n"
     ]
    }
   ],
   "source": [
    "\n",
    "X_temp=X_train.reshape(-1,28,28,1)\n",
    "input_dim = X_temp.shape[1:]\n",
    "print(input_dim)"
   ]
  },
  {
   "cell_type": "code",
   "execution_count": 28,
   "metadata": {},
   "outputs": [
    {
     "name": "stdout",
     "output_type": "stream",
     "text": [
      "(?, 28, 28, 1)\n"
     ]
    }
   ],
   "source": [
    "\n",
    "# network definition\n",
    "base_network = create_base_network()\n",
    "\n",
    "input_a = Input(shape=input_dim)\n",
    "input_b = Input(shape=input_dim)\n",
    "\n",
    "#input_a=K.reshape(input_a,(28,28,1))\n",
    "#input_b=K.reshape(input_b,(28,28,1))\n",
    "# because we re-use the same instance `base_network`,\n",
    "# the weights of the network\n",
    "# will be shared across the two branches\n",
    "print(input_b.shape)"
   ]
  },
  {
   "cell_type": "code",
   "execution_count": 48,
   "metadata": {},
   "outputs": [
    {
     "name": "stderr",
     "output_type": "stream",
     "text": [
      "/home/aniruddha/anaconda3/envs/tensorflow/lib/python3.5/site-packages/ipykernel_launcher.py:6: UserWarning: Update your `Model` call to the Keras 2 API: `Model(outputs=Tensor(\"la..., inputs=[<tf.Tenso...)`\n",
      "  \n"
     ]
    }
   ],
   "source": [
    "processed_a = base_network(input_a)\n",
    "processed_b = base_network(input_b)\n",
    "\n",
    "distance = Lambda(conc_output, output_shape=conc_shape)([processed_a, processed_b])\n",
    "\n",
    "model = Model(input=[input_a, input_b], output=distance)"
   ]
  },
  {
   "cell_type": "code",
   "execution_count": 49,
   "metadata": {},
   "outputs": [
    {
     "data": {
      "text/plain": [
       "TensorShape([Dimension(None), Dimension(128)])"
      ]
     },
     "execution_count": 49,
     "metadata": {},
     "output_type": "execute_result"
    }
   ],
   "source": [
    "processed_a.shape"
   ]
  },
  {
   "cell_type": "code",
   "execution_count": 50,
   "metadata": {},
   "outputs": [
    {
     "data": {
      "text/plain": [
       "TensorShape([Dimension(None), Dimension(256)])"
      ]
     },
     "execution_count": 50,
     "metadata": {},
     "output_type": "execute_result"
    }
   ],
   "source": [
    "distance.shape"
   ]
  },
  {
   "cell_type": "code",
   "execution_count": 118,
   "metadata": {},
   "outputs": [
    {
     "name": "stderr",
     "output_type": "stream",
     "text": [
      "/home/aniruddha/anaconda3/envs/tensorflow/lib/python3.5/site-packages/ipykernel_launcher.py:1: UserWarning: Update your `Model` call to the Keras 2 API: `Model(outputs=Tensor(\"se..., inputs=Tensor(\"in...)`\n",
      "  \"\"\"Entry point for launching an IPython kernel.\n"
     ]
    }
   ],
   "source": [
    "test_model = Model(input = input_a, output = processed_a)"
   ]
  },
  {
   "cell_type": "code",
   "execution_count": 113,
   "metadata": {},
   "outputs": [
    {
     "name": "stderr",
     "output_type": "stream",
     "text": [
      "/home/aniruddha/anaconda3/envs/tensorflow/lib/python3.5/site-packages/ipykernel_launcher.py:1: UserWarning: Update your `Model` call to the Keras 2 API: `Model(outputs=Tensor(\"se..., inputs=Tensor(\"in...)`\n",
      "  \"\"\"Entry point for launching an IPython kernel.\n"
     ]
    }
   ],
   "source": [
    "test_model1 = Model(input = input_b, output = processed_b)"
   ]
  },
  {
   "cell_type": "code",
   "execution_count": 52,
   "metadata": {},
   "outputs": [
    {
     "name": "stdout",
     "output_type": "stream",
     "text": [
      "(108400, 2, 28, 28, 1)\n",
      "(17820, 2, 28, 28, 1)\n"
     ]
    }
   ],
   "source": [
    "tr_pairs1=tr_pairs.reshape(-1,2,28,28,1)\n",
    "te_pairs1=te_pairs.reshape(-1,2,28,28,1)\n",
    "\n",
    "print(tr_pairs1.shape)\n",
    "print(te_pairs1.shape)"
   ]
  },
  {
   "cell_type": "code",
   "execution_count": 53,
   "metadata": {},
   "outputs": [
    {
     "name": "stdout",
     "output_type": "stream",
     "text": [
      "(108400, 28, 28, 1)\n"
     ]
    }
   ],
   "source": [
    "print(tr_pairs1[:,0].shape)"
   ]
  },
  {
   "cell_type": "code",
   "execution_count": 86,
   "metadata": {},
   "outputs": [
    {
     "name": "stdout",
     "output_type": "stream",
     "text": [
      "846.875\n",
      "139.21875\n"
     ]
    }
   ],
   "source": [
    "print(108400/128)\n",
    "print(17820/128)"
   ]
  },
  {
   "cell_type": "code",
   "execution_count": 54,
   "metadata": {},
   "outputs": [
    {
     "name": "stdout",
     "output_type": "stream",
     "text": [
      "[[0. 0. 0. ... 0. 0. 0.]\n",
      " [0. 0. 0. ... 0. 0. 0.]\n",
      " [0. 0. 0. ... 0. 0. 0.]\n",
      " ...\n",
      " [0. 0. 0. ... 0. 0. 0.]\n",
      " [0. 0. 0. ... 0. 0. 0.]\n",
      " [0. 0. 0. ... 0. 0. 0.]]\n"
     ]
    }
   ],
   "source": [
    "print(tr_pairs[:, 1])"
   ]
  },
  {
   "cell_type": "code",
   "execution_count": 55,
   "metadata": {},
   "outputs": [
    {
     "name": "stdout",
     "output_type": "stream",
     "text": [
      "[1 0 1 ... 0 1 0]\n"
     ]
    }
   ],
   "source": [
    "print(tr_y)"
   ]
  },
  {
   "cell_type": "code",
   "execution_count": 57,
   "metadata": {},
   "outputs": [
    {
     "name": "stdout",
     "output_type": "stream",
     "text": [
      "(108400,)\n",
      "(17820,)\n",
      "(108400,)\n"
     ]
    }
   ],
   "source": [
    "tr_same = []\n",
    "for i in range(tr_y.shape[0]):\n",
    "    tr_same += [1]\n",
    "te_same = []\n",
    "for i in range(te_y.shape[0]):\n",
    "    te_same += [1]\n",
    "tr_same = np.array(tr_same)\n",
    "te_same = np.array(te_same)\n",
    "print(tr_same.shape)\n",
    "print(te_same.shape)\n",
    "print(tr_y.shape)\n"
   ]
  },
  {
   "cell_type": "code",
   "execution_count": 58,
   "metadata": {},
   "outputs": [
    {
     "name": "stdout",
     "output_type": "stream",
     "text": [
      "[1 1 1 ... 1 1 1]\n"
     ]
    }
   ],
   "source": [
    "print(tr_same)"
   ]
  },
  {
   "cell_type": "code",
   "execution_count": 59,
   "metadata": {},
   "outputs": [
    {
     "data": {
      "image/svg+xml": [
       "<svg height=\"191pt\" viewBox=\"0.00 0.00 276.00 191.00\" width=\"276pt\" xmlns=\"http://www.w3.org/2000/svg\" xmlns:xlink=\"http://www.w3.org/1999/xlink\">\n",
       "<g class=\"graph\" id=\"graph0\" transform=\"scale(1 1) rotate(0) translate(4 187)\">\n",
       "<title>G</title>\n",
       "<polygon fill=\"#ffffff\" points=\"-4,4 -4,-187 272,-187 272,4 -4,4\" stroke=\"transparent\"/>\n",
       "<!-- 139988628200360 -->\n",
       "<g class=\"node\" id=\"node1\">\n",
       "<title>139988628200360</title>\n",
       "<polygon fill=\"none\" points=\"0,-146.5 0,-182.5 125,-182.5 125,-146.5 0,-146.5\" stroke=\"#000000\"/>\n",
       "<text fill=\"#000000\" font-family=\"Times,serif\" font-size=\"14.00\" text-anchor=\"middle\" x=\"62.5\" y=\"-160.8\">input_3: InputLayer</text>\n",
       "</g>\n",
       "<!-- 139988628200920 -->\n",
       "<g class=\"node\" id=\"node3\">\n",
       "<title>139988628200920</title>\n",
       "<polygon fill=\"none\" points=\"59,-73.5 59,-109.5 208,-109.5 208,-73.5 59,-73.5\" stroke=\"#000000\"/>\n",
       "<text fill=\"#000000\" font-family=\"Times,serif\" font-size=\"14.00\" text-anchor=\"middle\" x=\"133.5\" y=\"-87.8\">sequential_2: Sequential</text>\n",
       "</g>\n",
       "<!-- 139988628200360&#45;&gt;139988628200920 -->\n",
       "<g class=\"edge\" id=\"edge1\">\n",
       "<title>139988628200360-&gt;139988628200920</title>\n",
       "<path d=\"M80.0506,-146.4551C88.755,-137.5054 99.4132,-126.547 108.9156,-116.7769\" fill=\"none\" stroke=\"#000000\"/>\n",
       "<polygon fill=\"#000000\" points=\"111.4421,-119.1992 115.9053,-109.5904 106.424,-114.3187 111.4421,-119.1992\" stroke=\"#000000\"/>\n",
       "</g>\n",
       "<!-- 139988628530960 -->\n",
       "<g class=\"node\" id=\"node2\">\n",
       "<title>139988628530960</title>\n",
       "<polygon fill=\"none\" points=\"143,-146.5 143,-182.5 268,-182.5 268,-146.5 143,-146.5\" stroke=\"#000000\"/>\n",
       "<text fill=\"#000000\" font-family=\"Times,serif\" font-size=\"14.00\" text-anchor=\"middle\" x=\"205.5\" y=\"-160.8\">input_4: InputLayer</text>\n",
       "</g>\n",
       "<!-- 139988628530960&#45;&gt;139988628200920 -->\n",
       "<g class=\"edge\" id=\"edge2\">\n",
       "<title>139988628530960-&gt;139988628200920</title>\n",
       "<path d=\"M187.7022,-146.4551C178.8752,-137.5054 168.0669,-126.547 158.4307,-116.7769\" fill=\"none\" stroke=\"#000000\"/>\n",
       "<polygon fill=\"#000000\" points=\"160.8566,-114.2523 151.3425,-109.5904 155.8728,-119.1678 160.8566,-114.2523\" stroke=\"#000000\"/>\n",
       "</g>\n",
       "<!-- 139988592537552 -->\n",
       "<g class=\"node\" id=\"node4\">\n",
       "<title>139988592537552</title>\n",
       "<polygon fill=\"none\" points=\"72,-.5 72,-36.5 195,-36.5 195,-.5 72,-.5\" stroke=\"#000000\"/>\n",
       "<text fill=\"#000000\" font-family=\"Times,serif\" font-size=\"14.00\" text-anchor=\"middle\" x=\"133.5\" y=\"-14.8\">lambda_8: Lambda</text>\n",
       "</g>\n",
       "<!-- 139988628200920&#45;&gt;139988592537552 -->\n",
       "<g class=\"edge\" id=\"edge3\">\n",
       "<title>139988628200920-&gt;139988592537552</title>\n",
       "<path d=\"M133.5,-73.4551C133.5,-65.3828 133.5,-55.6764 133.5,-46.6817\" fill=\"none\" stroke=\"#000000\"/>\n",
       "<polygon fill=\"#000000\" points=\"137.0001,-46.5903 133.5,-36.5904 130.0001,-46.5904 137.0001,-46.5903\" stroke=\"#000000\"/>\n",
       "</g>\n",
       "</g>\n",
       "</svg>"
      ],
      "text/plain": [
       "<IPython.core.display.SVG object>"
      ]
     },
     "execution_count": 59,
     "metadata": {},
     "output_type": "execute_result"
    }
   ],
   "source": [
    "from IPython.display import SVG\n",
    "from keras.utils.vis_utils import model_to_dot\n",
    "\n",
    "SVG(model_to_dot(model).create(prog='dot', format='svg'))"
   ]
  },
  {
   "cell_type": "code",
   "execution_count": 60,
   "metadata": {},
   "outputs": [
    {
     "data": {
      "image/svg+xml": [
       "<svg height=\"556pt\" viewBox=\"0.00 0.00 215.00 556.00\" width=\"215pt\" xmlns=\"http://www.w3.org/2000/svg\" xmlns:xlink=\"http://www.w3.org/1999/xlink\">\n",
       "<g class=\"graph\" id=\"graph0\" transform=\"scale(1 1) rotate(0) translate(4 552)\">\n",
       "<title>G</title>\n",
       "<polygon fill=\"#ffffff\" points=\"-4,4 -4,-552 211,-552 211,4 -4,4\" stroke=\"transparent\"/>\n",
       "<!-- 139988628198568 -->\n",
       "<g class=\"node\" id=\"node1\">\n",
       "<title>139988628198568</title>\n",
       "<polygon fill=\"none\" points=\"17.5,-511.5 17.5,-547.5 189.5,-547.5 189.5,-511.5 17.5,-511.5\" stroke=\"#000000\"/>\n",
       "<text fill=\"#000000\" font-family=\"Times,serif\" font-size=\"14.00\" text-anchor=\"middle\" x=\"103.5\" y=\"-525.8\">conv2d_2_input: InputLayer</text>\n",
       "</g>\n",
       "<!-- 139988628200192 -->\n",
       "<g class=\"node\" id=\"node2\">\n",
       "<title>139988628200192</title>\n",
       "<polygon fill=\"none\" points=\"42,-438.5 42,-474.5 165,-474.5 165,-438.5 42,-438.5\" stroke=\"#000000\"/>\n",
       "<text fill=\"#000000\" font-family=\"Times,serif\" font-size=\"14.00\" text-anchor=\"middle\" x=\"103.5\" y=\"-452.8\">conv2d_2: Conv2D</text>\n",
       "</g>\n",
       "<!-- 139988628198568&#45;&gt;139988628200192 -->\n",
       "<g class=\"edge\" id=\"edge1\">\n",
       "<title>139988628198568-&gt;139988628200192</title>\n",
       "<path d=\"M103.5,-511.4551C103.5,-503.3828 103.5,-493.6764 103.5,-484.6817\" fill=\"none\" stroke=\"#000000\"/>\n",
       "<polygon fill=\"#000000\" points=\"107.0001,-484.5903 103.5,-474.5904 100.0001,-484.5904 107.0001,-484.5903\" stroke=\"#000000\"/>\n",
       "</g>\n",
       "<!-- 139988628198848 -->\n",
       "<g class=\"node\" id=\"node3\">\n",
       "<title>139988628198848</title>\n",
       "<polygon fill=\"none\" points=\"0,-365.5 0,-401.5 207,-401.5 207,-365.5 0,-365.5\" stroke=\"#000000\"/>\n",
       "<text fill=\"#000000\" font-family=\"Times,serif\" font-size=\"14.00\" text-anchor=\"middle\" x=\"103.5\" y=\"-379.8\">max_pooling2d_2: MaxPooling2D</text>\n",
       "</g>\n",
       "<!-- 139988628200192&#45;&gt;139988628198848 -->\n",
       "<g class=\"edge\" id=\"edge2\">\n",
       "<title>139988628200192-&gt;139988628198848</title>\n",
       "<path d=\"M103.5,-438.4551C103.5,-430.3828 103.5,-420.6764 103.5,-411.6817\" fill=\"none\" stroke=\"#000000\"/>\n",
       "<polygon fill=\"#000000\" points=\"107.0001,-411.5903 103.5,-401.5904 100.0001,-411.5904 107.0001,-411.5903\" stroke=\"#000000\"/>\n",
       "</g>\n",
       "<!-- 139988628212984 -->\n",
       "<g class=\"node\" id=\"node4\">\n",
       "<title>139988628212984</title>\n",
       "<polygon fill=\"none\" points=\"41,-292.5 41,-328.5 166,-328.5 166,-292.5 41,-292.5\" stroke=\"#000000\"/>\n",
       "<text fill=\"#000000\" font-family=\"Times,serif\" font-size=\"14.00\" text-anchor=\"middle\" x=\"103.5\" y=\"-306.8\">dropout_3: Dropout</text>\n",
       "</g>\n",
       "<!-- 139988628198848&#45;&gt;139988628212984 -->\n",
       "<g class=\"edge\" id=\"edge3\">\n",
       "<title>139988628198848-&gt;139988628212984</title>\n",
       "<path d=\"M103.5,-365.4551C103.5,-357.3828 103.5,-347.6764 103.5,-338.6817\" fill=\"none\" stroke=\"#000000\"/>\n",
       "<polygon fill=\"#000000\" points=\"107.0001,-338.5903 103.5,-328.5904 100.0001,-338.5904 107.0001,-338.5903\" stroke=\"#000000\"/>\n",
       "</g>\n",
       "<!-- 139988628211640 -->\n",
       "<g class=\"node\" id=\"node5\">\n",
       "<title>139988628211640</title>\n",
       "<polygon fill=\"none\" points=\"48.5,-219.5 48.5,-255.5 158.5,-255.5 158.5,-219.5 48.5,-219.5\" stroke=\"#000000\"/>\n",
       "<text fill=\"#000000\" font-family=\"Times,serif\" font-size=\"14.00\" text-anchor=\"middle\" x=\"103.5\" y=\"-233.8\">flatten_2: Flatten</text>\n",
       "</g>\n",
       "<!-- 139988628212984&#45;&gt;139988628211640 -->\n",
       "<g class=\"edge\" id=\"edge4\">\n",
       "<title>139988628212984-&gt;139988628211640</title>\n",
       "<path d=\"M103.5,-292.4551C103.5,-284.3828 103.5,-274.6764 103.5,-265.6817\" fill=\"none\" stroke=\"#000000\"/>\n",
       "<polygon fill=\"#000000\" points=\"107.0001,-265.5903 103.5,-255.5904 100.0001,-265.5904 107.0001,-265.5903\" stroke=\"#000000\"/>\n",
       "</g>\n",
       "<!-- 139988628644192 -->\n",
       "<g class=\"node\" id=\"node6\">\n",
       "<title>139988628644192</title>\n",
       "<polygon fill=\"none\" points=\"52.5,-146.5 52.5,-182.5 154.5,-182.5 154.5,-146.5 52.5,-146.5\" stroke=\"#000000\"/>\n",
       "<text fill=\"#000000\" font-family=\"Times,serif\" font-size=\"14.00\" text-anchor=\"middle\" x=\"103.5\" y=\"-160.8\">dense_6: Dense</text>\n",
       "</g>\n",
       "<!-- 139988628211640&#45;&gt;139988628644192 -->\n",
       "<g class=\"edge\" id=\"edge5\">\n",
       "<title>139988628211640-&gt;139988628644192</title>\n",
       "<path d=\"M103.5,-219.4551C103.5,-211.3828 103.5,-201.6764 103.5,-192.6817\" fill=\"none\" stroke=\"#000000\"/>\n",
       "<polygon fill=\"#000000\" points=\"107.0001,-192.5903 103.5,-182.5904 100.0001,-192.5904 107.0001,-192.5903\" stroke=\"#000000\"/>\n",
       "</g>\n",
       "<!-- 139988628278184 -->\n",
       "<g class=\"node\" id=\"node7\">\n",
       "<title>139988628278184</title>\n",
       "<polygon fill=\"none\" points=\"41,-73.5 41,-109.5 166,-109.5 166,-73.5 41,-73.5\" stroke=\"#000000\"/>\n",
       "<text fill=\"#000000\" font-family=\"Times,serif\" font-size=\"14.00\" text-anchor=\"middle\" x=\"103.5\" y=\"-87.8\">dropout_4: Dropout</text>\n",
       "</g>\n",
       "<!-- 139988628644192&#45;&gt;139988628278184 -->\n",
       "<g class=\"edge\" id=\"edge6\">\n",
       "<title>139988628644192-&gt;139988628278184</title>\n",
       "<path d=\"M103.5,-146.4551C103.5,-138.3828 103.5,-128.6764 103.5,-119.6817\" fill=\"none\" stroke=\"#000000\"/>\n",
       "<polygon fill=\"#000000\" points=\"107.0001,-119.5903 103.5,-109.5904 100.0001,-119.5904 107.0001,-119.5903\" stroke=\"#000000\"/>\n",
       "</g>\n",
       "<!-- 139988628959752 -->\n",
       "<g class=\"node\" id=\"node8\">\n",
       "<title>139988628959752</title>\n",
       "<polygon fill=\"none\" points=\"52.5,-.5 52.5,-36.5 154.5,-36.5 154.5,-.5 52.5,-.5\" stroke=\"#000000\"/>\n",
       "<text fill=\"#000000\" font-family=\"Times,serif\" font-size=\"14.00\" text-anchor=\"middle\" x=\"103.5\" y=\"-14.8\">dense_7: Dense</text>\n",
       "</g>\n",
       "<!-- 139988628278184&#45;&gt;139988628959752 -->\n",
       "<g class=\"edge\" id=\"edge7\">\n",
       "<title>139988628278184-&gt;139988628959752</title>\n",
       "<path d=\"M103.5,-73.4551C103.5,-65.3828 103.5,-55.6764 103.5,-46.6817\" fill=\"none\" stroke=\"#000000\"/>\n",
       "<polygon fill=\"#000000\" points=\"107.0001,-46.5903 103.5,-36.5904 100.0001,-46.5904 107.0001,-46.5903\" stroke=\"#000000\"/>\n",
       "</g>\n",
       "</g>\n",
       "</svg>"
      ],
      "text/plain": [
       "<IPython.core.display.SVG object>"
      ]
     },
     "execution_count": 60,
     "metadata": {},
     "output_type": "execute_result"
    }
   ],
   "source": [
    "from IPython.display import SVG\n",
    "from keras.utils.vis_utils import model_to_dot\n",
    "\n",
    "SVG(model_to_dot(base_network).create(prog='dot', format='svg'))"
   ]
  },
  {
   "cell_type": "code",
   "execution_count": 96,
   "metadata": {},
   "outputs": [],
   "source": [
    "nb_epoch=10"
   ]
  },
  {
   "cell_type": "code",
   "execution_count": 62,
   "metadata": {},
   "outputs": [
    {
     "name": "stdout",
     "output_type": "stream",
     "text": [
      "(108400,)\n",
      "(108400,)\n",
      "[1 1 1 ... 1 1 1]\n"
     ]
    }
   ],
   "source": [
    "print(tr_same.shape)\n",
    "print(tr_y.shape)\n",
    "print(tr_same)"
   ]
  },
  {
   "cell_type": "code",
   "execution_count": 69,
   "metadata": {},
   "outputs": [],
   "source": [
    "tr_y = tr_y.reshape(-1,1)\n",
    "tr_same = tr_same.reshape(-1,1)"
   ]
  },
  {
   "cell_type": "code",
   "execution_count": 63,
   "metadata": {},
   "outputs": [
    {
     "data": {
      "text/plain": [
       "<tf.Tensor 'lambda_8/concatenate_15/concat:0' shape=(?, 256) dtype=float32>"
      ]
     },
     "execution_count": 63,
     "metadata": {},
     "output_type": "execute_result"
    }
   ],
   "source": [
    "model.output"
   ]
  },
  {
   "cell_type": "code",
   "execution_count": 70,
   "metadata": {},
   "outputs": [
    {
     "name": "stdout",
     "output_type": "stream",
     "text": [
      "(108400, 2)\n"
     ]
    }
   ],
   "source": [
    "tr_final = np.concatenate((tr_y, tr_same), axis=1)\n",
    "print(tr_final.shape)"
   ]
  },
  {
   "cell_type": "code",
   "execution_count": 71,
   "metadata": {},
   "outputs": [
    {
     "name": "stdout",
     "output_type": "stream",
     "text": [
      "(17820, 2)\n"
     ]
    }
   ],
   "source": [
    "te_y = te_y.reshape(-1,1)\n",
    "te_same = te_same.reshape(-1,1)\n",
    "te_final = np.concatenate((te_y, te_same), axis=1)\n",
    "print(te_final.shape)"
   ]
  },
  {
   "cell_type": "code",
   "execution_count": null,
   "metadata": {},
   "outputs": [],
   "source": [
    "17792, 108288"
   ]
  },
  {
   "cell_type": "code",
   "execution_count": 95,
   "metadata": {},
   "outputs": [
    {
     "name": "stdout",
     "output_type": "stream",
     "text": [
      "(17792, 2)\n"
     ]
    }
   ],
   "source": [
    "print(tr_final[0:17792].shape)"
   ]
  },
  {
   "cell_type": "code",
   "execution_count": 126,
   "metadata": {},
   "outputs": [
    {
     "name": "stdout",
     "output_type": "stream",
     "text": [
      "(108400, 2)\n"
     ]
    }
   ],
   "source": [
    "print(tr_final.shape)"
   ]
  },
  {
   "cell_type": "code",
   "execution_count": 98,
   "metadata": {},
   "outputs": [
    {
     "name": "stderr",
     "output_type": "stream",
     "text": [
      "/home/aniruddha/anaconda3/envs/tensorflow/lib/python3.5/site-packages/ipykernel_launcher.py:7: UserWarning: The `nb_epoch` argument in `fit` has been renamed `epochs`.\n",
      "  import sys\n"
     ]
    },
    {
     "name": "stdout",
     "output_type": "stream",
     "text": [
      "Train on 108288 samples, validate on 17792 samples\n",
      "Epoch 1/10\n",
      "108288/108288 [==============================] - 83s 764us/step - loss: 0.2527 - val_loss: 0.2619\n",
      "Epoch 2/10\n",
      "108288/108288 [==============================] - 83s 767us/step - loss: 0.2524 - val_loss: 0.2630\n",
      "Epoch 3/10\n",
      "108288/108288 [==============================] - 83s 769us/step - loss: 0.2523 - val_loss: 0.2613\n",
      "Epoch 4/10\n",
      "108288/108288 [==============================] - 84s 774us/step - loss: 0.2522 - val_loss: 0.2594\n",
      "Epoch 5/10\n",
      "108288/108288 [==============================] - 76s 705us/step - loss: 0.2522 - val_loss: 0.2564\n",
      "Epoch 6/10\n",
      "108288/108288 [==============================] - 76s 705us/step - loss: 0.2522 - val_loss: 0.2580\n",
      "Epoch 7/10\n",
      "108288/108288 [==============================] - 81s 745us/step - loss: 0.2520 - val_loss: 0.2577\n",
      "Epoch 8/10\n",
      "108288/108288 [==============================] - 83s 766us/step - loss: 0.2519 - val_loss: 0.2537\n",
      "Epoch 9/10\n",
      "108288/108288 [==============================] - 83s 770us/step - loss: 0.2519 - val_loss: 0.2595\n",
      "Epoch 10/10\n",
      "108288/108288 [==============================] - 84s 776us/step - loss: 0.2519 - val_loss: 0.2544\n"
     ]
    },
    {
     "data": {
      "text/plain": [
       "<keras.callbacks.History at 0x7f519438edd8>"
      ]
     },
     "execution_count": 98,
     "metadata": {},
     "output_type": "execute_result"
    }
   ],
   "source": [
    "# train\n",
    "rms = RMSprop()\n",
    "model.compile(loss=total_loss1, optimizer=rms)\n",
    "model.fit([tr_pairs1[0:108288,0], tr_pairs1[0:108288, 1]], tr_final[0:108288],\n",
    "          validation_data=([te_pairs1[0:17792,0], te_pairs1[0:17792, 1]], tr_final[0:17792]),\n",
    "          batch_size=128,\n",
    "          nb_epoch=nb_epoch)\n",
    "\n"
   ]
  },
  {
   "cell_type": "code",
   "execution_count": 99,
   "metadata": {},
   "outputs": [
    {
     "ename": "IndexError",
     "evalue": "boolean index did not match indexed array along dimension 0; dimension is 108400 but corresponding boolean dimension is 27750400",
     "output_type": "error",
     "traceback": [
      "\u001b[0;31m---------------------------------------------------------------------------\u001b[0m",
      "\u001b[0;31mIndexError\u001b[0m                                Traceback (most recent call last)",
      "\u001b[0;32m<ipython-input-99-6d2fbceb093e>\u001b[0m in \u001b[0;36m<module>\u001b[0;34m()\u001b[0m\n\u001b[1;32m      1\u001b[0m \u001b[0;31m# compute final accuracy on training and test sets\u001b[0m\u001b[0;34m\u001b[0m\u001b[0;34m\u001b[0m\u001b[0m\n\u001b[1;32m      2\u001b[0m \u001b[0mpred\u001b[0m \u001b[0;34m=\u001b[0m \u001b[0mmodel\u001b[0m\u001b[0;34m.\u001b[0m\u001b[0mpredict\u001b[0m\u001b[0;34m(\u001b[0m\u001b[0;34m[\u001b[0m\u001b[0mtr_pairs1\u001b[0m\u001b[0;34m[\u001b[0m\u001b[0;34m:\u001b[0m\u001b[0;34m,\u001b[0m\u001b[0;36m0\u001b[0m\u001b[0;34m]\u001b[0m\u001b[0;34m,\u001b[0m \u001b[0mtr_pairs1\u001b[0m\u001b[0;34m[\u001b[0m\u001b[0;34m:\u001b[0m\u001b[0;34m,\u001b[0m \u001b[0;36m1\u001b[0m\u001b[0;34m]\u001b[0m\u001b[0;34m]\u001b[0m\u001b[0;34m)\u001b[0m\u001b[0;34m\u001b[0m\u001b[0m\n\u001b[0;32m----> 3\u001b[0;31m \u001b[0mtr_acc\u001b[0m \u001b[0;34m=\u001b[0m \u001b[0mcompute_accuracy\u001b[0m\u001b[0;34m(\u001b[0m\u001b[0mpred\u001b[0m\u001b[0;34m,\u001b[0m \u001b[0mtr_y\u001b[0m\u001b[0;34m)\u001b[0m\u001b[0;34m\u001b[0m\u001b[0m\n\u001b[0m\u001b[1;32m      4\u001b[0m \u001b[0mpred\u001b[0m \u001b[0;34m=\u001b[0m \u001b[0mmodel\u001b[0m\u001b[0;34m.\u001b[0m\u001b[0mpredict\u001b[0m\u001b[0;34m(\u001b[0m\u001b[0;34m[\u001b[0m\u001b[0mte_pairs1\u001b[0m\u001b[0;34m[\u001b[0m\u001b[0;34m:\u001b[0m\u001b[0;34m,\u001b[0m\u001b[0;36m0\u001b[0m\u001b[0;34m]\u001b[0m\u001b[0;34m,\u001b[0m \u001b[0mte_pairs1\u001b[0m\u001b[0;34m[\u001b[0m\u001b[0;34m:\u001b[0m\u001b[0;34m,\u001b[0m \u001b[0;36m1\u001b[0m\u001b[0;34m]\u001b[0m\u001b[0;34m]\u001b[0m\u001b[0;34m)\u001b[0m\u001b[0;34m\u001b[0m\u001b[0m\n\u001b[1;32m      5\u001b[0m \u001b[0mte_acc\u001b[0m \u001b[0;34m=\u001b[0m \u001b[0mcompute_accuracy\u001b[0m\u001b[0;34m(\u001b[0m\u001b[0mpred\u001b[0m\u001b[0;34m,\u001b[0m \u001b[0mte_y\u001b[0m\u001b[0;34m)\u001b[0m\u001b[0;34m\u001b[0m\u001b[0m\n",
      "\u001b[0;32m<ipython-input-81-30b18debef5b>\u001b[0m in \u001b[0;36mcompute_accuracy\u001b[0;34m(predictions, labels)\u001b[0m\n\u001b[1;32m    121\u001b[0m     '''Compute classification accuracy with a fixed threshold on distances.\n\u001b[1;32m    122\u001b[0m     '''\n\u001b[0;32m--> 123\u001b[0;31m     \u001b[0;32mreturn\u001b[0m \u001b[0mlabels\u001b[0m\u001b[0;34m[\u001b[0m\u001b[0mpredictions\u001b[0m\u001b[0;34m.\u001b[0m\u001b[0mravel\u001b[0m\u001b[0;34m(\u001b[0m\u001b[0;34m)\u001b[0m \u001b[0;34m<\u001b[0m \u001b[0;36m0.5\u001b[0m\u001b[0;34m]\u001b[0m\u001b[0;34m.\u001b[0m\u001b[0mmean\u001b[0m\u001b[0;34m(\u001b[0m\u001b[0;34m)\u001b[0m\u001b[0;34m\u001b[0m\u001b[0m\n\u001b[0m\u001b[1;32m    124\u001b[0m \u001b[0;34m\u001b[0m\u001b[0m\n",
      "\u001b[0;31mIndexError\u001b[0m: boolean index did not match indexed array along dimension 0; dimension is 108400 but corresponding boolean dimension is 27750400"
     ]
    }
   ],
   "source": [
    "# compute final accuracy on training and test sets\n",
    "pred = model.predict([tr_pairs1[:,0], tr_pairs1[:, 1]])\n",
    "tr_acc = compute_accuracy(pred, tr_y)\n",
    "pred = model.predict([te_pairs1[:,0], te_pairs1[:, 1]])\n",
    "te_acc = compute_accuracy(pred, te_y)\n",
    "\n",
    "print('* Accuracy on training set: %0.2f%%' % (100 * tr_acc))\n",
    "print('* Accuracy on test set: %0.2f%%' % (100 * te_acc))"
   ]
  },
  {
   "cell_type": "code",
   "execution_count": 100,
   "metadata": {},
   "outputs": [
    {
     "name": "stdout",
     "output_type": "stream",
     "text": [
      "2000\n",
      "[0 0 0 ... 9 9 9]\n"
     ]
    }
   ],
   "source": [
    "y_test1=[]\n",
    "for i in range(0,10):\n",
    "    for j in range(1,201):\n",
    "        y_test1.append(i)\n",
    "y_test1=np.array(y_test1)\n",
    "print(y_test1.size)\n",
    "print(y_test1)"
   ]
  },
  {
   "cell_type": "code",
   "execution_count": 101,
   "metadata": {},
   "outputs": [
    {
     "name": "stdout",
     "output_type": "stream",
     "text": [
      "(2000, 784)\n",
      "(10000, 784)\n"
     ]
    }
   ],
   "source": [
    "X_test1=[]\n",
    "for i in range(0,10):\n",
    "    for j in range(1,201):\n",
    "        img = PIL.Image.open(\"/home/aniruddha/Documents/USPSdataset/%d/%d.jpg\" %(i,j)).convert(\"L\")\n",
    "        arr = np.array(img)\n",
    "        # ravel to convert 28x28 to 784 1D array\n",
    "        arr=arr.ravel()\n",
    "        X_test1.append(arr)\n",
    "X_test1=np.array(X_test1)\n",
    "print(X_test1.shape)\n",
    "print(X_test.shape)"
   ]
  },
  {
   "cell_type": "code",
   "execution_count": 102,
   "metadata": {},
   "outputs": [
    {
     "name": "stdout",
     "output_type": "stream",
     "text": [
      "(10000, 784)\n"
     ]
    }
   ],
   "source": [
    "X_test1 = X_test1.reshape(2000, 784)\n",
    "X_test1 = X_test1.astype('float32')\n",
    "X_test1 /= 255\n",
    "print(X_test.shape)\n",
    "\n",
    "\n",
    "digit_indices = [np.where(y_test1 == i)[0] for i in range(10)]\n",
    "te_pairs, te_y = create_pairs(X_test1, digit_indices)"
   ]
  },
  {
   "cell_type": "code",
   "execution_count": 103,
   "metadata": {},
   "outputs": [
    {
     "name": "stdout",
     "output_type": "stream",
     "text": [
      "(3980, 2, 28, 28, 1)\n"
     ]
    }
   ],
   "source": [
    "te_pairs2=te_pairs.reshape(-1,2,28,28,1)\n",
    "\n",
    "print(te_pairs2.shape)"
   ]
  },
  {
   "cell_type": "code",
   "execution_count": 104,
   "metadata": {},
   "outputs": [
    {
     "ename": "IndexError",
     "evalue": "boolean index did not match indexed array along dimension 0; dimension is 3980 but corresponding boolean dimension is 1018880",
     "output_type": "error",
     "traceback": [
      "\u001b[0;31m---------------------------------------------------------------------------\u001b[0m",
      "\u001b[0;31mIndexError\u001b[0m                                Traceback (most recent call last)",
      "\u001b[0;32m<ipython-input-104-ca9ea7dc151d>\u001b[0m in \u001b[0;36m<module>\u001b[0;34m()\u001b[0m\n\u001b[1;32m      1\u001b[0m \u001b[0mpred\u001b[0m \u001b[0;34m=\u001b[0m \u001b[0mmodel\u001b[0m\u001b[0;34m.\u001b[0m\u001b[0mpredict\u001b[0m\u001b[0;34m(\u001b[0m\u001b[0;34m[\u001b[0m\u001b[0mte_pairs2\u001b[0m\u001b[0;34m[\u001b[0m\u001b[0;34m:\u001b[0m\u001b[0;34m,\u001b[0m \u001b[0;36m0\u001b[0m\u001b[0;34m]\u001b[0m\u001b[0;34m,\u001b[0m \u001b[0mte_pairs2\u001b[0m\u001b[0;34m[\u001b[0m\u001b[0;34m:\u001b[0m\u001b[0;34m,\u001b[0m \u001b[0;36m1\u001b[0m\u001b[0;34m]\u001b[0m\u001b[0;34m]\u001b[0m\u001b[0;34m)\u001b[0m\u001b[0;34m\u001b[0m\u001b[0m\n\u001b[0;32m----> 2\u001b[0;31m \u001b[0mte_acc\u001b[0m \u001b[0;34m=\u001b[0m \u001b[0mcompute_accuracy\u001b[0m\u001b[0;34m(\u001b[0m\u001b[0mpred\u001b[0m\u001b[0;34m,\u001b[0m \u001b[0mte_y\u001b[0m\u001b[0;34m)\u001b[0m\u001b[0;34m\u001b[0m\u001b[0m\n\u001b[0m\u001b[1;32m      3\u001b[0m \u001b[0;34m\u001b[0m\u001b[0m\n\u001b[1;32m      4\u001b[0m \u001b[0;31m# compute accuracy on new USPS dataset to check degree of transfer learning\u001b[0m\u001b[0;34m\u001b[0m\u001b[0;34m\u001b[0m\u001b[0m\n\u001b[1;32m      5\u001b[0m \u001b[0;31m# model only trained on MNIST dataset\u001b[0m\u001b[0;34m\u001b[0m\u001b[0;34m\u001b[0m\u001b[0m\n",
      "\u001b[0;32m<ipython-input-81-30b18debef5b>\u001b[0m in \u001b[0;36mcompute_accuracy\u001b[0;34m(predictions, labels)\u001b[0m\n\u001b[1;32m    121\u001b[0m     '''Compute classification accuracy with a fixed threshold on distances.\n\u001b[1;32m    122\u001b[0m     '''\n\u001b[0;32m--> 123\u001b[0;31m     \u001b[0;32mreturn\u001b[0m \u001b[0mlabels\u001b[0m\u001b[0;34m[\u001b[0m\u001b[0mpredictions\u001b[0m\u001b[0;34m.\u001b[0m\u001b[0mravel\u001b[0m\u001b[0;34m(\u001b[0m\u001b[0;34m)\u001b[0m \u001b[0;34m<\u001b[0m \u001b[0;36m0.5\u001b[0m\u001b[0;34m]\u001b[0m\u001b[0;34m.\u001b[0m\u001b[0mmean\u001b[0m\u001b[0;34m(\u001b[0m\u001b[0;34m)\u001b[0m\u001b[0;34m\u001b[0m\u001b[0m\n\u001b[0m\u001b[1;32m    124\u001b[0m \u001b[0;34m\u001b[0m\u001b[0m\n",
      "\u001b[0;31mIndexError\u001b[0m: boolean index did not match indexed array along dimension 0; dimension is 3980 but corresponding boolean dimension is 1018880"
     ]
    }
   ],
   "source": [
    "pred = model.predict([te_pairs2[:, 0], te_pairs2[:, 1]])\n",
    "te_acc = compute_accuracy(pred, te_y)\n",
    "\n",
    "# compute accuracy on new USPS dataset to check degree of transfer learning\n",
    "# model only trained on MNIST dataset\n",
    "print('* Accuracy on test set: %0.2f%%' % (100 * te_acc))"
   ]
  },
  {
   "cell_type": "code",
   "execution_count": 105,
   "metadata": {},
   "outputs": [],
   "source": [
    "%matplotlib inline\n",
    "\n",
    "from time import time\n",
    "\n",
    "import numpy as np\n",
    "import matplotlib.pyplot as plt\n",
    "from matplotlib import offsetbox\n",
    "from sklearn import manifold, datasets, decomposition, ensemble, discriminant_analysis, random_projection"
   ]
  },
  {
   "cell_type": "code",
   "execution_count": 106,
   "metadata": {},
   "outputs": [],
   "source": [
    "def plot_embedding(mu, Y, title=None):\n",
    "    num_class = 1000 # data points per class\n",
    "#     x_min, x_max = np.min(mu, 0), np.max(mu, 0)\n",
    "#     mu = (mu - x_min) / (x_max - x_min)\n",
    "    \n",
    "#     classes = [0, 1, 2, 3, 4, 6, 7, 8, 9, 10, 11, 12, 15, 16, 18, 19, \n",
    "#                20, 21, 22, 25, 26, 27, 28, 29, 30, 31, 32, 34, 35, 36, 37, 39, 40, 42, 43, 44, 45, 46, 48, 49]\n",
    "    \n",
    "    classes = [0,1,2,3,4,5,6,7,8,9]\n",
    "    data = [[] for i in classes]\n",
    "    for i, y in enumerate(Y):\n",
    "        data[classes.index(y)].append(np.array(mu[i]))\n",
    "            \n",
    "    colors = ['b', 'g', 'r', 'c', 'm', 'y', 'k', 'olive', 'orange', 'mediumpurple']\n",
    "    l = [i for i in range(10)]\n",
    "    alphas = 0.3 * np.ones(10)\n",
    "\n",
    "    fig = plt.figure()\n",
    "    ax = fig.add_subplot(111)\n",
    "    ax.set_aspect(1)\n",
    "    font_size = 13\n",
    "    for i in range(10):\n",
    "        temp = np.array(data[i])\n",
    "        l[i] = plt.scatter(temp[:num_class, 0], temp[:num_class, 1], s = 5, c = colors[i], edgecolors = 'face', alpha=alphas[i])\n",
    "    leg = plt.legend((l[0],l[1],l[2],l[3],l[4],l[5],l[6],l[7],l[8],l[9]), \n",
    "               ('0','1','2','3','4','5','6','7','8','9'), loc='center left', bbox_to_anchor=(1, 0.5), fontsize=font_size)\n",
    "    leg.get_frame().set_linewidth(0.0)\n",
    "    plt.xticks(fontsize=font_size)\n",
    "    plt.yticks(fontsize=font_size)"
   ]
  },
  {
   "cell_type": "code",
   "execution_count": 122,
   "metadata": {},
   "outputs": [],
   "source": [
    "X_test1=X_test1.reshape(-1,28,28,1)"
   ]
  },
  {
   "cell_type": "code",
   "execution_count": 110,
   "metadata": {},
   "outputs": [
    {
     "name": "stdout",
     "output_type": "stream",
     "text": [
      "(10000, 784)\n"
     ]
    }
   ],
   "source": [
    "print(X_test.shape)\n",
    "X_test = X_test.reshape(-1,28,28,1)"
   ]
  },
  {
   "cell_type": "code",
   "execution_count": 123,
   "metadata": {},
   "outputs": [],
   "source": [
    "processed=test_model.predict(X_test1)"
   ]
  },
  {
   "cell_type": "code",
   "execution_count": 112,
   "metadata": {},
   "outputs": [
    {
     "name": "stdout",
     "output_type": "stream",
     "text": [
      "Computing t-SNE embedding\n"
     ]
    },
    {
     "data": {
      "image/png": "[encoded data removed]",
      "text/plain": [
       "<matplotlib.figure.Figure at 0x7f510cd255f8>"
      ]
     },
     "metadata": {},
     "output_type": "display_data"
    }
   ],
   "source": [
    "print(\"Computing t-SNE embedding\")\n",
    "tsne_pred = manifold.TSNE(n_components=2, init='pca', random_state=0)\n",
    "t0 = time()\n",
    "X_tsne_pred = tsne_pred.fit_transform(processed)\n",
    "\n",
    "plot_embedding(X_tsne_pred, y_test1,\n",
    "               \"t-SNE embedding of the digits (time %.2fs)\" %\n",
    "               (time() - t0))"
   ]
  },
  {
   "cell_type": "code",
   "execution_count": 125,
   "metadata": {},
   "outputs": [
    {
     "name": "stdout",
     "output_type": "stream",
     "text": [
      "Computing t-SNE embedding\n"
     ]
    },
    {
     "data": {
      "image/png": "[encoded data removed]",
      "text/plain": [
       "<matplotlib.figure.Figure at 0x7f5101f0fef0>"
      ]
     },
     "metadata": {},
     "output_type": "display_data"
    }
   ],
   "source": [
    "print(\"Computing t-SNE embedding\")\n",
    "tsne_pred = manifold.TSNE(n_components=2, init='pca', random_state=0)\n",
    "t0 = time()\n",
    "X_tsne_pred = tsne_pred.fit_transform(processed)\n",
    "\n",
    "plot_embedding(X_tsne_pred, y_test1,\n",
    "               \"t-SNE embedding of the digits (time %.2fs)\" %\n",
    "               (time() - t0))"
   ]
  },
  {
   "cell_type": "code",
   "execution_count": 49,
   "metadata": {},
   "outputs": [],
   "source": [
    "X_train11=X_train.reshape(-1,28,28,1)\n",
    "X_test11=X_test.reshape(-1,28,28,1)"
   ]
  },
  {
   "cell_type": "code",
   "execution_count": 50,
   "metadata": {},
   "outputs": [],
   "source": [
    "processed_train=test_model.predict(X_train11)\n",
    "processed_test=test_model.predict(X_test11)"
   ]
  },
  {
   "cell_type": "code",
   "execution_count": 51,
   "metadata": {},
   "outputs": [
    {
     "name": "stdout",
     "output_type": "stream",
     "text": [
      "128\n",
      "(60000, 128)\n",
      "(10000, 128)\n"
     ]
    }
   ],
   "source": [
    "num_pixels = 128\n",
    "processed_train = processed_train.reshape(processed_train.shape[0], num_pixels).astype('float32')\n",
    "processed_test = processed_test.reshape(processed_test.shape[0], num_pixels).astype('float32')\n",
    "\n",
    "print(num_pixels)\n",
    "print(processed_train.shape)\n",
    "print(processed_test.shape)"
   ]
  },
  {
   "cell_type": "code",
   "execution_count": 52,
   "metadata": {},
   "outputs": [],
   "source": [
    "from keras.utils import np_utils\n",
    "y_train1 = np_utils.to_categorical(y_train)\n",
    "y_test1 = np_utils.to_categorical(y_test)\n",
    "num_classes = 10"
   ]
  },
  {
   "cell_type": "code",
   "execution_count": 53,
   "metadata": {},
   "outputs": [],
   "source": [
    "# define baseline model\n",
    "def baseline_model1():\n",
    "\t# create model\n",
    "\tmodel = Sequential()\n",
    "\tmodel.add(Dense(num_pixels, input_dim=num_pixels, kernel_initializer='normal', activation='relu'))\n",
    "\tmodel.add(Dense(num_classes, kernel_initializer='normal', activation='softmax'))\n",
    "\t# Compile model\n",
    "\tmodel.compile(loss='categorical_crossentropy', optimizer='adam', metrics=['accuracy'])\n",
    "\treturn model"
   ]
  },
  {
   "cell_type": "code",
   "execution_count": 54,
   "metadata": {},
   "outputs": [
    {
     "name": "stdout",
     "output_type": "stream",
     "text": [
      "Train on 60000 samples, validate on 10000 samples\n",
      "Epoch 1/10\n",
      "60000/60000 [==============================] - 1s 15us/step - loss: 0.6548 - acc: 0.9789 - val_loss: 0.0565 - val_acc: 0.9901\n",
      "Epoch 2/10\n",
      "60000/60000 [==============================] - 1s 12us/step - loss: 0.0228 - acc: 0.9968 - val_loss: 0.0400 - val_acc: 0.9900\n",
      "Epoch 3/10\n",
      "60000/60000 [==============================] - 1s 12us/step - loss: 0.0160 - acc: 0.9968 - val_loss: 0.0392 - val_acc: 0.9904\n",
      "Epoch 4/10\n",
      "60000/60000 [==============================] - 1s 14us/step - loss: 0.0148 - acc: 0.9968 - val_loss: 0.0391 - val_acc: 0.9903\n",
      "Epoch 5/10\n",
      "60000/60000 [==============================] - 1s 17us/step - loss: 0.0143 - acc: 0.9968 - val_loss: 0.0399 - val_acc: 0.9906\n",
      "Epoch 6/10\n",
      "60000/60000 [==============================] - 1s 15us/step - loss: 0.0141 - acc: 0.9968 - val_loss: 0.0398 - val_acc: 0.9905\n",
      "Epoch 7/10\n",
      "60000/60000 [==============================] - 1s 18us/step - loss: 0.0140 - acc: 0.9968 - val_loss: 0.0400 - val_acc: 0.9905\n",
      "Epoch 8/10\n",
      "60000/60000 [==============================] - 1s 19us/step - loss: 0.0139 - acc: 0.9968 - val_loss: 0.0402 - val_acc: 0.9906\n",
      "Epoch 9/10\n",
      "60000/60000 [==============================] - 1s 17us/step - loss: 0.0137 - acc: 0.9968 - val_loss: 0.0404 - val_acc: 0.9906\n",
      "Epoch 10/10\n",
      "60000/60000 [==============================] - 1s 15us/step - loss: 0.0137 - acc: 0.9969 - val_loss: 0.0410 - val_acc: 0.9906\n",
      "10000/10000 [==============================] - 0s 23us/step\n",
      "60000/60000 [==============================] - 1s 21us/step\n"
     ]
    }
   ],
   "source": [
    "\n",
    "# build the model\n",
    "model1 = baseline_model1()\n",
    "# Fit the model\n",
    "model1.fit(processed_train, y_train1, validation_data=(processed_test, y_test1), epochs=10, batch_size=200, verbose=1)\n",
    "# Final evaluation of the model\n",
    "scores_test = model1.evaluate(processed_test, y_test1, verbose=1)\n",
    "scores_train = model1.evaluate(processed_train, y_train1, verbose=1)\n"
   ]
  },
  {
   "cell_type": "code",
   "execution_count": 55,
   "metadata": {},
   "outputs": [
    {
     "name": "stdout",
     "output_type": "stream",
     "text": [
      "* Accuracy on training set: 99.69%\n",
      "* Accuracy on test set: 99.06%\n"
     ]
    }
   ],
   "source": [
    "#scores_train=scores_train/1.0\n",
    "#scores_test=scores_test/1.0\n",
    "print('* Accuracy on training set: %0.2f%%' % (100 * scores_train[1]))\n",
    "print('* Accuracy on test set: %0.2f%%' % (100 * scores_test[1]))"
   ]
  },
  {
   "cell_type": "code",
   "execution_count": 56,
   "metadata": {},
   "outputs": [
    {
     "name": "stdout",
     "output_type": "stream",
     "text": [
      "2000\n"
     ]
    }
   ],
   "source": [
    "y_test2=[]\n",
    "for i in range(0,10):\n",
    "    for j in range(1,201):\n",
    "        y_test2.append(i)\n",
    "y_test2=np.array(y_test2)\n",
    "print(y_test2.size)"
   ]
  },
  {
   "cell_type": "code",
   "execution_count": 57,
   "metadata": {},
   "outputs": [],
   "source": [
    "from keras.utils import np_utils\n",
    "y_test2 = np_utils.to_categorical(y_test2)\n",
    "num_classes = 10"
   ]
  },
  {
   "cell_type": "code",
   "execution_count": 58,
   "metadata": {},
   "outputs": [
    {
     "name": "stdout",
     "output_type": "stream",
     "text": [
      "2000/2000 [==============================] - 0s 27us/step\n",
      "* Accuracy on test USPS set: 62.95%\n"
     ]
    }
   ],
   "source": [
    "scores_test_USPS=model1.evaluate(processed, y_test2, verbose=1)\n",
    "print('* Accuracy on test USPS set: %0.2f%%' % (100 * scores_test_USPS[1]))"
   ]
  },
  {
   "cell_type": "code",
   "execution_count": 1,
   "metadata": {},
   "outputs": [
    {
     "name": "stderr",
     "output_type": "stream",
     "text": [
      "/home/aniruddha/anaconda3/envs/tensorflow/lib/python3.5/site-packages/h5py/__init__.py:36: FutureWarning: Conversion of the second argument of issubdtype from `float` to `np.floating` is deprecated. In future, it will be treated as `np.float64 == np.dtype(float).type`.\n",
      "  from ._conv import register_converters as _register_converters\n",
      "Using TensorFlow backend.\n"
     ]
    }
   ],
   "source": [
    "import keras\n",
    "\n",
    "input1 = keras.layers.Input(shape=(16,))\n",
    "x1 = keras.layers.Dense(8, activation='relu')(input1)\n",
    "input2 = keras.layers.Input(shape=(32,))\n",
    "x2 = keras.layers.Dense(8, activation='relu')(input2)\n",
    "added = keras.layers.Add()([x1, x2])  # equivalent to added = keras.layers.add([x1, x2])\n",
    "\n",
    "out = keras.layers.Dense(4)(added)\n",
    "model = keras.models.Model(inputs=[input1, input2], outputs=out)"
   ]
  },
  {
   "cell_type": "code",
   "execution_count": 4,
   "metadata": {},
   "outputs": [
    {
     "name": "stdout",
     "output_type": "stream",
     "text": [
      "(?, 8)\n",
      "(?, 8)\n"
     ]
    }
   ],
   "source": [
    "print(added.shape)\n",
    "print(x1.shape)"
   ]
  },
  {
   "cell_type": "code",
   "execution_count": 15,
   "metadata": {},
   "outputs": [
    {
     "name": "stdout",
     "output_type": "stream",
     "text": [
      "(?, 16)\n",
      "(?, 8)\n",
      "(?, 8)\n"
     ]
    }
   ],
   "source": [
    "from keras.layers import Concatenate, Dense, LSTM, Input, concatenate\n",
    "conc = concatenate([x1,x2])\n",
    "print(conc.shape)\n",
    "a = conc[:,0:8]\n",
    "b = conc[:,8:16]\n",
    "print(a.shape)\n",
    "print(b.shape)"
   ]
  },
  {
   "cell_type": "code",
   "execution_count": 1,
   "metadata": {},
   "outputs": [
    {
     "name": "stderr",
     "output_type": "stream",
     "text": [
      "/home/aniruddha/anaconda3/envs/tensorflow/lib/python3.5/site-packages/h5py/__init__.py:36: FutureWarning: Conversion of the second argument of issubdtype from `float` to `np.floating` is deprecated. In future, it will be treated as `np.float64 == np.dtype(float).type`.\n",
      "  from ._conv import register_converters as _register_converters\n"
     ]
    },
    {
     "name": "stdout",
     "output_type": "stream",
     "text": [
      "[[21.439995  -5.4399986 -4.880001 ]\n",
      " [-5.4399986  2.6400013  8.68     ]\n",
      " [-4.880001   8.68      58.960007 ]]\n",
      "[[21.44 -5.44 -4.88]\n",
      " [-5.44  2.64  8.68]\n",
      " [-4.88  8.68 58.96]]\n"
     ]
    }
   ],
   "source": [
    "import numpy as np\n",
    "import tensorflow as tf\n",
    "\n",
    "def tf_cov(x):\n",
    "    mean_x = tf.reduce_mean(x, axis=0, keep_dims=True)\n",
    "    mx = tf.matmul(tf.transpose(mean_x), mean_x)\n",
    "    vx = tf.matmul(tf.transpose(x), x)/tf.cast(tf.shape(x)[0], tf.float32)\n",
    "    cov_xx = vx - mx\n",
    "    loss = tf.reduce_mean(tf.matmul(cov_xx,cov_xx))\n",
    "    return cov_xx\n",
    "\n",
    "data = np.array([[1., 4, 2], [5, 6, 24], [15, 1, 5], [7,3,8], [9,4,7]])\n",
    "\n",
    "with tf.Session() as sess:\n",
    "    print(sess.run(tf_cov(tf.constant(data, dtype=tf.float32))))\n",
    "\n",
    "\n",
    "## validating with numpy solution\n",
    "pc = np.cov(data.T, bias=True)\n",
    "print(pc)"
   ]
  },
  {
   "cell_type": "code",
   "execution_count": 15,
   "metadata": {},
   "outputs": [
    {
     "name": "stdout",
     "output_type": "stream",
     "text": [
      "5\n",
      "(5, 3)\n",
      "[[-110.100006  -73.4      -176.3     ]\n",
      " [ -73.4       -29.099998  -71.95    ]\n",
      " [-176.3       -71.95     -137.9     ]]\n"
     ]
    }
   ],
   "source": [
    "def a(x):\n",
    "    n = x.shape[0]\n",
    "    transx = tf.transpose(x)\n",
    "    mul1 = tf.matmul(transx, x)\n",
    "    one = x*0 + 1\n",
    "    print(one.shape)\n",
    "    mul2 = tf.matmul(tf.transpose(one), x)\n",
    "    mul3 = tf.matmul(tf.transpose(one), x)\n",
    "    val = tf.matmul(tf.transpose(mul2), mul3)\n",
    "    val = val/5\n",
    "    final = (mul1-val)/4\n",
    "    \n",
    "    return final\n",
    "\n",
    "\n",
    "\n",
    "data = np.array([[1., 4, 2], [5, 6, 24], [15, 1, 5], [7,3,8], [9,4,7]])\n",
    "print(data.shape[0])\n",
    "\n",
    "with tf.Session() as sess:\n",
    "    print(sess.run(a(tf.constant(data, dtype=tf.float32))))"
   ]
  },
  {
   "cell_type": "code",
   "execution_count": 18,
   "metadata": {},
   "outputs": [
    {
     "name": "stdout",
     "output_type": "stream",
     "text": [
      "1\n",
      "(1, 3)\n",
      "0.031759255\n"
     ]
    }
   ],
   "source": [
    "def a(x):\n",
    "    n = x.shape[0]\n",
    "    transx = tf.transpose(x)\n",
    "    mul1 = tf.matmul(transx, x)\n",
    "    one = x*0 + 1\n",
    "    print(one.shape)\n",
    "    mul2 = tf.matmul(tf.transpose(one), x)\n",
    "    mul3 = tf.matmul(tf.transpose(one), x)\n",
    "    val = tf.matmul(tf.transpose(mul2), mul3)\n",
    "    val = val/5\n",
    "    final = (mul1-val)/4\n",
    "    final1 = tf.reduce_mean(tf.matmul(final, final))\n",
    "    \n",
    "    # divide by 1/d^2\n",
    "    return final1/(4*3*3)\n",
    "\n",
    "\n",
    "\n",
    "data = np.array([[1., 4, 2]])\n",
    "print(data.shape[0])\n",
    "\n",
    "with tf.Session() as sess:\n",
    "    print(sess.run(a(tf.constant(data, dtype=tf.float32))))"
   ]
  },
  {
   "cell_type": "code",
   "execution_count": 21,
   "metadata": {},
   "outputs": [
    {
     "data": {
      "text/plain": [
       "(10, 10)"
      ]
     },
     "execution_count": 21,
     "metadata": {},
     "output_type": "execute_result"
    }
   ],
   "source": [
    "import keras.backend as K\n",
    "import numpy as np\n",
    "A = np.random.rand(10,1)\n",
    "B = np.random.rand(1,10)\n",
    "\n",
    "x = K.variable(value=A)\n",
    "y = K.variable(value=B)\n",
    "\n",
    "z = K.dot(x,y)\n",
    "\n",
    "# Here you need to use K.eval() instead of z.eval() because this uses the backend session\n",
    "K.eval(z).shape"
   ]
  },
  {
   "cell_type": "code",
   "execution_count": null,
   "metadata": {},
   "outputs": [],
   "source": []
  }
 ],
 "metadata": {
  "kernelspec": {
   "display_name": "Python 3",
   "language": "python",
   "name": "python3"
  },
  "language_info": {
   "codemirror_mode": {
    "name": "ipython",
    "version": 3
   },
   "file_extension": ".py",
   "mimetype": "text/x-python",
   "name": "python",
   "nbconvert_exporter": "python",
   "pygments_lexer": "ipython3",
   "version": "3.5.4"
  }
 },
 "nbformat": 4,
 "nbformat_minor": 2
}
