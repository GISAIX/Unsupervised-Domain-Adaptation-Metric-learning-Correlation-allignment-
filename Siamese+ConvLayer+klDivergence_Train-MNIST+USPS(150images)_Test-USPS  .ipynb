{
 "cells": [
  {
   "cell_type": "code",
   "execution_count": 1,
   "metadata": {},
   "outputs": [
    {
     "name": "stderr",
     "output_type": "stream",
     "text": [
      "/home/aniruddha/anaconda3/envs/tensorflow/lib/python3.5/site-packages/h5py/__init__.py:36: FutureWarning: Conversion of the second argument of issubdtype from `float` to `np.floating` is deprecated. In future, it will be treated as `np.float64 == np.dtype(float).type`.\n",
      "  from ._conv import register_converters as _register_converters\n",
      "Using TensorFlow backend.\n"
     ]
    }
   ],
   "source": [
    "from __future__ import absolute_import\n",
    "from __future__ import print_function\n",
    "import numpy as np\n",
    "import numpy\n",
    "import PIL\n",
    "from PIL import Image\n",
    "np.random.seed(1337)  # for reproducibility\n",
    "\n",
    "import random\n",
    "from keras.datasets import mnist\n",
    "from keras.models import Sequential, Model\n",
    "from keras.layers import Dense, Dropout, Input, Lambda\n",
    "from keras.layers.convolutional import Conv2D\n",
    "from keras.layers.convolutional import MaxPooling2D\n",
    "from keras.layers import Flatten\n",
    "from keras.optimizers import RMSprop\n",
    "from keras import backend as K\n",
    "\n",
    "\n",
    "def euclidean_distance(vects):\n",
    "    x, y = vects\n",
    "    return K.sqrt(K.sum(K.square(x - y), axis=1, keepdims=True))\n",
    "\n",
    "\n",
    "def eucl_dist_output_shape(shapes):\n",
    "    shape1, shape2 = shapes\n",
    "    return (shape1[0], 1)\n",
    "\n",
    "#def softmax(z): return np.exp(z)/((np.exp(z)).sum())\n",
    "\n",
    "def contrastive_loss(y_true, y_pred):\n",
    "    '''Contrastive loss from Hadsell-et-al.'06\n",
    "    http://yann.lecun.com/exdb/publis/pdf/hadsell-chopra-lecun-06.pdf\n",
    "    '''\n",
    "    margin = 1\n",
    "    return K.mean(y_true * K.square(y_pred) + (1 - y_true) * K.square(K.maximum(margin - y_pred, 0)))\n",
    "\n",
    "def kullback_leibler_divergence(y_true, y_pred):\n",
    "    y_true = K.clip(y_true, K.epsilon(), 1)\n",
    "    y_pred = K.clip(y_pred, K.epsilon(), 1)\n",
    "    return K.sum(y_true * K.log(y_true / y_pred), axis=-1)\n",
    "\n",
    "def total_loss(y_true, y_pred):\n",
    "    return (contrastive_loss(y_true, y_pred) + 0.05*kullback_leibler_divergence(y_true, y_pred))\n",
    "\n",
    "def create_pairs(x, digit_indices):\n",
    "    '''Positive and negative pair creation.\n",
    "    Alternates between positive and negative pairs.\n",
    "    '''\n",
    "    pairs = []\n",
    "    labels = []\n",
    "    n = min([len(digit_indices[d]) for d in range(10)]) - 1\n",
    "    for d in range(10):\n",
    "        for i in range(n):\n",
    "            z1, z2 = digit_indices[d][i], digit_indices[d][i + 1]\n",
    "            pairs += [[x[z1], x[z2]]]\n",
    "            inc = random.randrange(1, 10)\n",
    "            dn = (d + inc) % 10\n",
    "            z1, z2 = digit_indices[d][i], digit_indices[dn][i]\n",
    "            pairs += [[x[z1], x[z2]]]\n",
    "            labels += [1, 0]\n",
    "    return np.array(pairs), np.array(labels)\n",
    "\n",
    "\n",
    "def create_base_network():\n",
    "    '''Base network to be shared (eq. to feature extraction).\n",
    "    '''\n",
    "    seq = Sequential()\n",
    "    seq.add(Conv2D(30, (5, 5), input_shape=(28, 28,1), activation='relu'))\n",
    "    seq.add(MaxPooling2D(pool_size=(2, 2)))\n",
    "    seq.add(Dropout(0.2))\n",
    "    seq.add(Flatten())\n",
    "    seq.add(Dense(128, activation='relu'))\n",
    "    seq.add(Dropout(0.1))\n",
    "    seq.add(Dense(128, activation='relu'))\n",
    "    return seq\n",
    "\n",
    "def compute_accuracy(predictions, labels):\n",
    "    '''Compute classification accuracy with a fixed threshold on distances.\n",
    "    '''\n",
    "    return labels[predictions.ravel() < 0.5].mean()\n",
    "\n"
   ]
  },
  {
   "cell_type": "code",
   "execution_count": 2,
   "metadata": {},
   "outputs": [
    {
     "data": {
      "text/plain": [
       "1e-07"
      ]
     },
     "execution_count": 2,
     "metadata": {},
     "output_type": "execute_result"
    }
   ],
   "source": [
    "from keras import backend as K\n",
    "K.epsilon()"
   ]
  },
  {
   "cell_type": "code",
   "execution_count": 3,
   "metadata": {},
   "outputs": [],
   "source": [
    "seed=7\n",
    "numpy.random.seed(seed)"
   ]
  },
  {
   "cell_type": "code",
   "execution_count": 4,
   "metadata": {},
   "outputs": [],
   "source": [
    "(X_train, y_train), (X_test, y_test) = mnist.load_data()\n",
    "X_train = X_train.reshape(60000, 784)\n",
    "X_test = X_test.reshape(10000, 784)\n",
    "\n",
    "X_test = X_test.astype('float32')"
   ]
  },
  {
   "cell_type": "code",
   "execution_count": 5,
   "metadata": {},
   "outputs": [
    {
     "name": "stdout",
     "output_type": "stream",
     "text": [
      "(60150, 784)\n"
     ]
    }
   ],
   "source": [
    "X_train=list(X_train)\n",
    "for i in range(0,10):\n",
    "    for j in range(201,216):\n",
    "        img = PIL.Image.open(\"/home/aniruddha/Documents/USPSdataset/%d/%d.jpg\" %(i,j)).convert(\"L\")\n",
    "        arr = np.array(img)\n",
    "        # ravel to convert 28x28 to 784 1D array\n",
    "        arr=arr.ravel()\n",
    "        X_train.append(arr)\n",
    "X_train=np.array(X_train)\n",
    "X_train=X_train.reshape(60150,784)\n",
    "X_train=X_train.astype('float32')\n",
    "\n",
    "print(X_train.shape)"
   ]
  },
  {
   "cell_type": "code",
   "execution_count": 6,
   "metadata": {},
   "outputs": [
    {
     "name": "stdout",
     "output_type": "stream",
     "text": [
      "(60150, 784)\n",
      "(10000, 784)\n"
     ]
    }
   ],
   "source": [
    "#X_train = X_train.reshape(X_train.shape[0], 1, 28, 28).astype('float32')\n",
    "#X_test = X_test.reshape(X_test.shape[0], 1, 28, 28).astype('float32')\n",
    "\n",
    "print(X_train.shape)\n",
    "print(X_test.shape)"
   ]
  },
  {
   "cell_type": "code",
   "execution_count": 7,
   "metadata": {},
   "outputs": [],
   "source": [
    "X_train=X_train/255\n",
    "X_test=X_test/255"
   ]
  },
  {
   "cell_type": "code",
   "execution_count": 8,
   "metadata": {},
   "outputs": [
    {
     "name": "stdout",
     "output_type": "stream",
     "text": [
      "(60150,)\n",
      "(10000,)\n"
     ]
    }
   ],
   "source": [
    "y_train=list(y_train)\n",
    "\n",
    "for i in range(0,10):\n",
    "    for j in range(201,216):\n",
    "        y_train.append(i)\n",
    "        \n",
    "y_train=np.array(y_train)\n",
    "\n",
    "num_classes = 10\n",
    "print(y_train.shape)\n",
    "print(y_test.shape)"
   ]
  },
  {
   "cell_type": "code",
   "execution_count": 9,
   "metadata": {},
   "outputs": [
    {
     "name": "stdout",
     "output_type": "stream",
     "text": [
      "[5 0 4 ... 9 9 9]\n",
      "1.0\n"
     ]
    }
   ],
   "source": [
    "print(y_train)\n",
    "print(X_train.max())"
   ]
  },
  {
   "cell_type": "code",
   "execution_count": 10,
   "metadata": {},
   "outputs": [],
   "source": [
    "input_dim = 784\n",
    "nb_epoch = 20"
   ]
  },
  {
   "cell_type": "code",
   "execution_count": 11,
   "metadata": {},
   "outputs": [],
   "source": [
    "# create training+test positive and negative pairs\n",
    "digit_indices = [np.where(y_train == i)[0] for i in range(10)]\n",
    "tr_pairs, tr_y = create_pairs(X_train, digit_indices)\n",
    "\n",
    "digit_indices = [np.where(y_test == i)[0] for i in range(10)]\n",
    "te_pairs, te_y = create_pairs(X_test, digit_indices)"
   ]
  },
  {
   "cell_type": "code",
   "execution_count": 57,
   "metadata": {},
   "outputs": [
    {
     "name": "stdout",
     "output_type": "stream",
     "text": [
      "(17820,)\n"
     ]
    }
   ],
   "source": [
    "print(te_y.shape)"
   ]
  },
  {
   "cell_type": "code",
   "execution_count": 58,
   "metadata": {},
   "outputs": [
    {
     "name": "stdout",
     "output_type": "stream",
     "text": [
      "(17820, 2, 784)\n"
     ]
    }
   ],
   "source": [
    "print(te_pairs.shape)"
   ]
  },
  {
   "cell_type": "code",
   "execution_count": 12,
   "metadata": {},
   "outputs": [],
   "source": [
    "base_network = create_base_network()"
   ]
  },
  {
   "cell_type": "code",
   "execution_count": 13,
   "metadata": {},
   "outputs": [
    {
     "name": "stdout",
     "output_type": "stream",
     "text": [
      "(28, 28, 1)\n"
     ]
    }
   ],
   "source": [
    "\n",
    "X_temp=X_train.reshape(-1,28,28,1)\n",
    "input_dim = X_temp.shape[1:]\n",
    "print(input_dim)"
   ]
  },
  {
   "cell_type": "code",
   "execution_count": 14,
   "metadata": {},
   "outputs": [
    {
     "name": "stdout",
     "output_type": "stream",
     "text": [
      "(?, 28, 28, 1)\n"
     ]
    }
   ],
   "source": [
    "\n",
    "# network definition\n",
    "base_network = create_base_network()\n",
    "\n",
    "input_a = Input(shape=input_dim)\n",
    "input_b = Input(shape=input_dim)\n",
    "\n",
    "#input_a=K.reshape(input_a,(28,28,1))\n",
    "#input_b=K.reshape(input_b,(28,28,1))\n",
    "# because we re-use the same instance `base_network`,\n",
    "# the weights of the network\n",
    "# will be shared across the two branches\n",
    "print(input_b.shape)"
   ]
  },
  {
   "cell_type": "code",
   "execution_count": 15,
   "metadata": {},
   "outputs": [],
   "source": [
    "processed_a = base_network(input_a)\n",
    "processed_b = base_network(input_b)\n"
   ]
  },
  {
   "cell_type": "code",
   "execution_count": 16,
   "metadata": {},
   "outputs": [
    {
     "name": "stdout",
     "output_type": "stream",
     "text": [
      "(?, 128)\n"
     ]
    }
   ],
   "source": [
    "print(processed_a.shape)"
   ]
  },
  {
   "cell_type": "code",
   "execution_count": 64,
   "metadata": {},
   "outputs": [
    {
     "name": "stdout",
     "output_type": "stream",
     "text": [
      "Tensor(\"Sum_2:0\", shape=(?,), dtype=float32)\n"
     ]
    }
   ],
   "source": [
    "loss_AtoB = kullback_leibler_divergence(processed_a,processed_b)\n",
    "loss_BtoA = kullback_leibler_divergence(processed_b,processed_a)\n",
    "\n",
    "print(loss_AtoB)"
   ]
  },
  {
   "cell_type": "code",
   "execution_count": 65,
   "metadata": {},
   "outputs": [
    {
     "name": "stdout",
     "output_type": "stream",
     "text": [
      "(?,)\n"
     ]
    }
   ],
   "source": [
    "klDivergence_loss = loss_AtoB + loss_BtoA\n",
    "print(klDivergence_loss.shape)"
   ]
  },
  {
   "cell_type": "code",
   "execution_count": 17,
   "metadata": {},
   "outputs": [
    {
     "name": "stderr",
     "output_type": "stream",
     "text": [
      "/home/aniruddha/anaconda3/envs/tensorflow/lib/python3.5/site-packages/ipykernel_launcher.py:4: UserWarning: Update your `Model` call to the Keras 2 API: `Model(inputs=[<tf.Tenso..., outputs=Tensor(\"la...)`\n",
      "  after removing the cwd from sys.path.\n"
     ]
    }
   ],
   "source": [
    "distance = Lambda(euclidean_distance, output_shape=eucl_dist_output_shape)([processed_a, processed_b])\n",
    "\n",
    "\n",
    "model = Model(input=[input_a, input_b], output=distance)"
   ]
  },
  {
   "cell_type": "code",
   "execution_count": 18,
   "metadata": {},
   "outputs": [
    {
     "name": "stdout",
     "output_type": "stream",
     "text": [
      "(?, 1)\n"
     ]
    }
   ],
   "source": [
    "print(distance.shape)"
   ]
  },
  {
   "cell_type": "code",
   "execution_count": 19,
   "metadata": {},
   "outputs": [
    {
     "name": "stderr",
     "output_type": "stream",
     "text": [
      "/home/aniruddha/anaconda3/envs/tensorflow/lib/python3.5/site-packages/ipykernel_launcher.py:1: UserWarning: Update your `Model` call to the Keras 2 API: `Model(inputs=Tensor(\"in..., outputs=Tensor(\"se...)`\n",
      "  \"\"\"Entry point for launching an IPython kernel.\n"
     ]
    }
   ],
   "source": [
    "test_model = Model(input = input_a, output = processed_a)"
   ]
  },
  {
   "cell_type": "code",
   "execution_count": 20,
   "metadata": {},
   "outputs": [
    {
     "name": "stdout",
     "output_type": "stream",
     "text": [
      "(108700, 2, 28, 28, 1)\n",
      "(17820, 2, 28, 28, 1)\n"
     ]
    }
   ],
   "source": [
    "tr_pairs1=tr_pairs.reshape(-1,2,28,28,1)\n",
    "te_pairs1=te_pairs.reshape(-1,2,28,28,1)\n",
    "\n",
    "print(tr_pairs1.shape)\n",
    "print(te_pairs1.shape)"
   ]
  },
  {
   "cell_type": "code",
   "execution_count": 70,
   "metadata": {},
   "outputs": [
    {
     "name": "stdout",
     "output_type": "stream",
     "text": [
      "(108700, 28, 28, 1)\n"
     ]
    }
   ],
   "source": [
    "print(tr_pairs1[:,0].shape)"
   ]
  },
  {
   "cell_type": "code",
   "execution_count": 71,
   "metadata": {},
   "outputs": [
    {
     "name": "stdout",
     "output_type": "stream",
     "text": [
      "[[0. 0. 0. ... 0. 0. 0.]\n",
      " [0. 0. 0. ... 0. 0. 0.]\n",
      " [0. 0. 0. ... 0. 0. 0.]\n",
      " ...\n",
      " [0. 0. 0. ... 0. 0. 0.]\n",
      " [0. 0. 0. ... 0. 0. 0.]\n",
      " [0. 0. 0. ... 0. 0. 0.]]\n"
     ]
    }
   ],
   "source": [
    "print(tr_pairs[:, 1])"
   ]
  },
  {
   "cell_type": "code",
   "execution_count": 72,
   "metadata": {},
   "outputs": [
    {
     "data": {
      "image/svg+xml": [
       "<svg height=\"191pt\" viewBox=\"0.00 0.00 276.00 191.00\" width=\"276pt\" xmlns=\"http://www.w3.org/2000/svg\" xmlns:xlink=\"http://www.w3.org/1999/xlink\">\n",
       "<g class=\"graph\" id=\"graph0\" transform=\"scale(1 1) rotate(0) translate(4 187)\">\n",
       "<title>G</title>\n",
       "<polygon fill=\"#ffffff\" points=\"-4,4 -4,-187 272,-187 272,4 -4,4\" stroke=\"transparent\"/>\n",
       "<!-- 140612998079320 -->\n",
       "<g class=\"node\" id=\"node1\">\n",
       "<title>140612998079320</title>\n",
       "<polygon fill=\"none\" points=\"0,-146.5 0,-182.5 125,-182.5 125,-146.5 0,-146.5\" stroke=\"#000000\"/>\n",
       "<text fill=\"#000000\" font-family=\"Times,serif\" font-size=\"14.00\" text-anchor=\"middle\" x=\"62.5\" y=\"-160.8\">input_3: InputLayer</text>\n",
       "</g>\n",
       "<!-- 140612998081000 -->\n",
       "<g class=\"node\" id=\"node3\">\n",
       "<title>140612998081000</title>\n",
       "<polygon fill=\"none\" points=\"59,-73.5 59,-109.5 208,-109.5 208,-73.5 59,-73.5\" stroke=\"#000000\"/>\n",
       "<text fill=\"#000000\" font-family=\"Times,serif\" font-size=\"14.00\" text-anchor=\"middle\" x=\"133.5\" y=\"-87.8\">sequential_5: Sequential</text>\n",
       "</g>\n",
       "<!-- 140612998079320&#45;&gt;140612998081000 -->\n",
       "<g class=\"edge\" id=\"edge1\">\n",
       "<title>140612998079320-&gt;140612998081000</title>\n",
       "<path d=\"M80.0506,-146.4551C88.755,-137.5054 99.4132,-126.547 108.9156,-116.7769\" fill=\"none\" stroke=\"#000000\"/>\n",
       "<polygon fill=\"#000000\" points=\"111.4421,-119.1992 115.9053,-109.5904 106.424,-114.3187 111.4421,-119.1992\" stroke=\"#000000\"/>\n",
       "</g>\n",
       "<!-- 140613044639224 -->\n",
       "<g class=\"node\" id=\"node2\">\n",
       "<title>140613044639224</title>\n",
       "<polygon fill=\"none\" points=\"143,-146.5 143,-182.5 268,-182.5 268,-146.5 143,-146.5\" stroke=\"#000000\"/>\n",
       "<text fill=\"#000000\" font-family=\"Times,serif\" font-size=\"14.00\" text-anchor=\"middle\" x=\"205.5\" y=\"-160.8\">input_4: InputLayer</text>\n",
       "</g>\n",
       "<!-- 140613044639224&#45;&gt;140612998081000 -->\n",
       "<g class=\"edge\" id=\"edge2\">\n",
       "<title>140613044639224-&gt;140612998081000</title>\n",
       "<path d=\"M187.7022,-146.4551C178.8752,-137.5054 168.0669,-126.547 158.4307,-116.7769\" fill=\"none\" stroke=\"#000000\"/>\n",
       "<polygon fill=\"#000000\" points=\"160.8566,-114.2523 151.3425,-109.5904 155.8728,-119.1678 160.8566,-114.2523\" stroke=\"#000000\"/>\n",
       "</g>\n",
       "<!-- 140613046712808 -->\n",
       "<g class=\"node\" id=\"node4\">\n",
       "<title>140613046712808</title>\n",
       "<polygon fill=\"none\" points=\"72,-.5 72,-36.5 195,-36.5 195,-.5 72,-.5\" stroke=\"#000000\"/>\n",
       "<text fill=\"#000000\" font-family=\"Times,serif\" font-size=\"14.00\" text-anchor=\"middle\" x=\"133.5\" y=\"-14.8\">lambda_2: Lambda</text>\n",
       "</g>\n",
       "<!-- 140612998081000&#45;&gt;140613046712808 -->\n",
       "<g class=\"edge\" id=\"edge3\">\n",
       "<title>140612998081000-&gt;140613046712808</title>\n",
       "<path d=\"M133.5,-73.4551C133.5,-65.3828 133.5,-55.6764 133.5,-46.6817\" fill=\"none\" stroke=\"#000000\"/>\n",
       "<polygon fill=\"#000000\" points=\"137.0001,-46.5903 133.5,-36.5904 130.0001,-46.5904 137.0001,-46.5903\" stroke=\"#000000\"/>\n",
       "</g>\n",
       "</g>\n",
       "</svg>"
      ],
      "text/plain": [
       "<IPython.core.display.SVG object>"
      ]
     },
     "execution_count": 72,
     "metadata": {},
     "output_type": "execute_result"
    }
   ],
   "source": [
    "from IPython.display import SVG\n",
    "from keras.utils.vis_utils import model_to_dot\n",
    "\n",
    "SVG(model_to_dot(model).create(prog='dot', format='svg'))"
   ]
  },
  {
   "cell_type": "code",
   "execution_count": 73,
   "metadata": {},
   "outputs": [
    {
     "data": {
      "image/svg+xml": [
       "<svg height=\"556pt\" viewBox=\"0.00 0.00 215.00 556.00\" width=\"215pt\" xmlns=\"http://www.w3.org/2000/svg\" xmlns:xlink=\"http://www.w3.org/1999/xlink\">\n",
       "<g class=\"graph\" id=\"graph0\" transform=\"scale(1 1) rotate(0) translate(4 552)\">\n",
       "<title>G</title>\n",
       "<polygon fill=\"#ffffff\" points=\"-4,4 -4,-552 211,-552 211,4 -4,4\" stroke=\"transparent\"/>\n",
       "<!-- 140612998080832 -->\n",
       "<g class=\"node\" id=\"node1\">\n",
       "<title>140612998080832</title>\n",
       "<polygon fill=\"none\" points=\"17.5,-511.5 17.5,-547.5 189.5,-547.5 189.5,-511.5 17.5,-511.5\" stroke=\"#000000\"/>\n",
       "<text fill=\"#000000\" font-family=\"Times,serif\" font-size=\"14.00\" text-anchor=\"middle\" x=\"103.5\" y=\"-525.8\">conv2d_4_input: InputLayer</text>\n",
       "</g>\n",
       "<!-- 140612998080440 -->\n",
       "<g class=\"node\" id=\"node2\">\n",
       "<title>140612998080440</title>\n",
       "<polygon fill=\"none\" points=\"42,-438.5 42,-474.5 165,-474.5 165,-438.5 42,-438.5\" stroke=\"#000000\"/>\n",
       "<text fill=\"#000000\" font-family=\"Times,serif\" font-size=\"14.00\" text-anchor=\"middle\" x=\"103.5\" y=\"-452.8\">conv2d_4: Conv2D</text>\n",
       "</g>\n",
       "<!-- 140612998080832&#45;&gt;140612998080440 -->\n",
       "<g class=\"edge\" id=\"edge1\">\n",
       "<title>140612998080832-&gt;140612998080440</title>\n",
       "<path d=\"M103.5,-511.4551C103.5,-503.3828 103.5,-493.6764 103.5,-484.6817\" fill=\"none\" stroke=\"#000000\"/>\n",
       "<polygon fill=\"#000000\" points=\"107.0001,-484.5903 103.5,-474.5904 100.0001,-484.5904 107.0001,-484.5903\" stroke=\"#000000\"/>\n",
       "</g>\n",
       "<!-- 140612998081112 -->\n",
       "<g class=\"node\" id=\"node3\">\n",
       "<title>140612998081112</title>\n",
       "<polygon fill=\"none\" points=\"0,-365.5 0,-401.5 207,-401.5 207,-365.5 0,-365.5\" stroke=\"#000000\"/>\n",
       "<text fill=\"#000000\" font-family=\"Times,serif\" font-size=\"14.00\" text-anchor=\"middle\" x=\"103.5\" y=\"-379.8\">max_pooling2d_4: MaxPooling2D</text>\n",
       "</g>\n",
       "<!-- 140612998080440&#45;&gt;140612998081112 -->\n",
       "<g class=\"edge\" id=\"edge2\">\n",
       "<title>140612998080440-&gt;140612998081112</title>\n",
       "<path d=\"M103.5,-438.4551C103.5,-430.3828 103.5,-420.6764 103.5,-411.6817\" fill=\"none\" stroke=\"#000000\"/>\n",
       "<polygon fill=\"#000000\" points=\"107.0001,-411.5903 103.5,-401.5904 100.0001,-411.5904 107.0001,-411.5903\" stroke=\"#000000\"/>\n",
       "</g>\n",
       "<!-- 140612997708992 -->\n",
       "<g class=\"node\" id=\"node4\">\n",
       "<title>140612997708992</title>\n",
       "<polygon fill=\"none\" points=\"41,-292.5 41,-328.5 166,-328.5 166,-292.5 41,-292.5\" stroke=\"#000000\"/>\n",
       "<text fill=\"#000000\" font-family=\"Times,serif\" font-size=\"14.00\" text-anchor=\"middle\" x=\"103.5\" y=\"-306.8\">dropout_7: Dropout</text>\n",
       "</g>\n",
       "<!-- 140612998081112&#45;&gt;140612997708992 -->\n",
       "<g class=\"edge\" id=\"edge3\">\n",
       "<title>140612998081112-&gt;140612997708992</title>\n",
       "<path d=\"M103.5,-365.4551C103.5,-357.3828 103.5,-347.6764 103.5,-338.6817\" fill=\"none\" stroke=\"#000000\"/>\n",
       "<polygon fill=\"#000000\" points=\"107.0001,-338.5903 103.5,-328.5904 100.0001,-338.5904 107.0001,-338.5903\" stroke=\"#000000\"/>\n",
       "</g>\n",
       "<!-- 140612997707984 -->\n",
       "<g class=\"node\" id=\"node5\">\n",
       "<title>140612997707984</title>\n",
       "<polygon fill=\"none\" points=\"48.5,-219.5 48.5,-255.5 158.5,-255.5 158.5,-219.5 48.5,-219.5\" stroke=\"#000000\"/>\n",
       "<text fill=\"#000000\" font-family=\"Times,serif\" font-size=\"14.00\" text-anchor=\"middle\" x=\"103.5\" y=\"-233.8\">flatten_4: Flatten</text>\n",
       "</g>\n",
       "<!-- 140612997708992&#45;&gt;140612997707984 -->\n",
       "<g class=\"edge\" id=\"edge4\">\n",
       "<title>140612997708992-&gt;140612997707984</title>\n",
       "<path d=\"M103.5,-292.4551C103.5,-284.3828 103.5,-274.6764 103.5,-265.6817\" fill=\"none\" stroke=\"#000000\"/>\n",
       "<polygon fill=\"#000000\" points=\"107.0001,-265.5903 103.5,-255.5904 100.0001,-265.5904 107.0001,-265.5903\" stroke=\"#000000\"/>\n",
       "</g>\n",
       "<!-- 140612992378192 -->\n",
       "<g class=\"node\" id=\"node6\">\n",
       "<title>140612992378192</title>\n",
       "<polygon fill=\"none\" points=\"52.5,-146.5 52.5,-182.5 154.5,-182.5 154.5,-146.5 52.5,-146.5\" stroke=\"#000000\"/>\n",
       "<text fill=\"#000000\" font-family=\"Times,serif\" font-size=\"14.00\" text-anchor=\"middle\" x=\"103.5\" y=\"-160.8\">dense_7: Dense</text>\n",
       "</g>\n",
       "<!-- 140612997707984&#45;&gt;140612992378192 -->\n",
       "<g class=\"edge\" id=\"edge5\">\n",
       "<title>140612997707984-&gt;140612992378192</title>\n",
       "<path d=\"M103.5,-219.4551C103.5,-211.3828 103.5,-201.6764 103.5,-192.6817\" fill=\"none\" stroke=\"#000000\"/>\n",
       "<polygon fill=\"#000000\" points=\"107.0001,-192.5903 103.5,-182.5904 100.0001,-192.5904 107.0001,-192.5903\" stroke=\"#000000\"/>\n",
       "</g>\n",
       "<!-- 140612998141544 -->\n",
       "<g class=\"node\" id=\"node7\">\n",
       "<title>140612998141544</title>\n",
       "<polygon fill=\"none\" points=\"41,-73.5 41,-109.5 166,-109.5 166,-73.5 41,-73.5\" stroke=\"#000000\"/>\n",
       "<text fill=\"#000000\" font-family=\"Times,serif\" font-size=\"14.00\" text-anchor=\"middle\" x=\"103.5\" y=\"-87.8\">dropout_8: Dropout</text>\n",
       "</g>\n",
       "<!-- 140612992378192&#45;&gt;140612998141544 -->\n",
       "<g class=\"edge\" id=\"edge6\">\n",
       "<title>140612992378192-&gt;140612998141544</title>\n",
       "<path d=\"M103.5,-146.4551C103.5,-138.3828 103.5,-128.6764 103.5,-119.6817\" fill=\"none\" stroke=\"#000000\"/>\n",
       "<polygon fill=\"#000000\" points=\"107.0001,-119.5903 103.5,-109.5904 100.0001,-119.5904 107.0001,-119.5903\" stroke=\"#000000\"/>\n",
       "</g>\n",
       "<!-- 140613043053680 -->\n",
       "<g class=\"node\" id=\"node8\">\n",
       "<title>140613043053680</title>\n",
       "<polygon fill=\"none\" points=\"52.5,-.5 52.5,-36.5 154.5,-36.5 154.5,-.5 52.5,-.5\" stroke=\"#000000\"/>\n",
       "<text fill=\"#000000\" font-family=\"Times,serif\" font-size=\"14.00\" text-anchor=\"middle\" x=\"103.5\" y=\"-14.8\">dense_8: Dense</text>\n",
       "</g>\n",
       "<!-- 140612998141544&#45;&gt;140613043053680 -->\n",
       "<g class=\"edge\" id=\"edge7\">\n",
       "<title>140612998141544-&gt;140613043053680</title>\n",
       "<path d=\"M103.5,-73.4551C103.5,-65.3828 103.5,-55.6764 103.5,-46.6817\" fill=\"none\" stroke=\"#000000\"/>\n",
       "<polygon fill=\"#000000\" points=\"107.0001,-46.5903 103.5,-36.5904 100.0001,-46.5904 107.0001,-46.5903\" stroke=\"#000000\"/>\n",
       "</g>\n",
       "</g>\n",
       "</svg>"
      ],
      "text/plain": [
       "<IPython.core.display.SVG object>"
      ]
     },
     "execution_count": 73,
     "metadata": {},
     "output_type": "execute_result"
    }
   ],
   "source": [
    "from IPython.display import SVG\n",
    "from keras.utils.vis_utils import model_to_dot\n",
    "\n",
    "SVG(model_to_dot(base_network).create(prog='dot', format='svg'))"
   ]
  },
  {
   "cell_type": "code",
   "execution_count": 119,
   "metadata": {},
   "outputs": [],
   "source": [
    "nb_epoch=10"
   ]
  },
  {
   "cell_type": "code",
   "execution_count": 21,
   "metadata": {},
   "outputs": [
    {
     "name": "stderr",
     "output_type": "stream",
     "text": [
      "/home/aniruddha/anaconda3/envs/tensorflow/lib/python3.5/site-packages/ipykernel_launcher.py:7: UserWarning: The `nb_epoch` argument in `fit` has been renamed `epochs`.\n",
      "  import sys\n"
     ]
    },
    {
     "name": "stdout",
     "output_type": "stream",
     "text": [
      "Train on 108700 samples, validate on 17820 samples\n",
      "Epoch 1/20\n",
      "108700/108700 [==============================] - 82s 754us/step - loss: 0.0984 - val_loss: 0.0756\n",
      "Epoch 2/20\n",
      "108700/108700 [==============================] - 77s 713us/step - loss: 0.0720 - val_loss: 0.0720\n",
      "Epoch 3/20\n",
      "108700/108700 [==============================] - 79s 726us/step - loss: 0.0680 - val_loss: 0.0712\n",
      "Epoch 4/20\n",
      "108700/108700 [==============================] - 77s 710us/step - loss: 0.0661 - val_loss: 0.0702\n",
      "Epoch 5/20\n",
      "108700/108700 [==============================] - 77s 707us/step - loss: 0.0653 - val_loss: 0.0703\n",
      "Epoch 6/20\n",
      "108700/108700 [==============================] - 78s 716us/step - loss: 0.0645 - val_loss: 0.0701\n",
      "Epoch 7/20\n",
      "108700/108700 [==============================] - 76s 701us/step - loss: 0.0641 - val_loss: 0.0696\n",
      "Epoch 8/20\n",
      "108700/108700 [==============================] - 74s 684us/step - loss: 0.0637 - val_loss: 0.0698\n",
      "Epoch 9/20\n",
      "108700/108700 [==============================] - 74s 684us/step - loss: 0.0634 - val_loss: 0.0708\n",
      "Epoch 10/20\n",
      "108700/108700 [==============================] - 76s 698us/step - loss: 0.0632 - val_loss: 0.0707\n",
      "Epoch 11/20\n",
      "108700/108700 [==============================] - 77s 707us/step - loss: 0.0630 - val_loss: 0.0696\n",
      "Epoch 12/20\n",
      "108700/108700 [==============================] - 76s 701us/step - loss: 0.0629 - val_loss: 0.0696\n",
      "Epoch 13/20\n",
      "108700/108700 [==============================] - 78s 719us/step - loss: 0.0628 - val_loss: 0.0700\n",
      "Epoch 14/20\n",
      "108700/108700 [==============================] - 82s 756us/step - loss: 0.0628 - val_loss: 0.0701\n",
      "Epoch 15/20\n",
      "108700/108700 [==============================] - 79s 729us/step - loss: 0.0627 - val_loss: 0.0699\n",
      "Epoch 16/20\n",
      "108700/108700 [==============================] - 77s 709us/step - loss: 0.0625 - val_loss: 0.0700\n",
      "Epoch 17/20\n",
      "108700/108700 [==============================] - 80s 735us/step - loss: 0.0624 - val_loss: 0.0706\n",
      "Epoch 18/20\n",
      "108700/108700 [==============================] - 79s 730us/step - loss: 0.0624 - val_loss: 0.0708\n",
      "Epoch 19/20\n",
      "108700/108700 [==============================] - 73s 668us/step - loss: 0.0625 - val_loss: 0.0695\n",
      "Epoch 20/20\n",
      "108700/108700 [==============================] - 73s 669us/step - loss: 0.0625 - val_loss: 0.0701\n"
     ]
    }
   ],
   "source": [
    "# train 10 epochs\n",
    "rms = RMSprop()\n",
    "model.compile(loss= total_loss , optimizer=rms)\n",
    "history = model.fit([tr_pairs1[:,0], tr_pairs1[:, 1]], tr_y,\n",
    "          validation_data=([te_pairs1[:,0], te_pairs1[:, 1]], te_y),\n",
    "          batch_size=128,\n",
    "          nb_epoch=nb_epoch)\n",
    "\n"
   ]
  },
  {
   "cell_type": "code",
   "execution_count": 120,
   "metadata": {
    "scrolled": true
   },
   "outputs": [
    {
     "name": "stderr",
     "output_type": "stream",
     "text": [
      "/home/aniruddha/anaconda3/envs/tensorflow/lib/python3.5/site-packages/ipykernel_launcher.py:7: UserWarning: The `nb_epoch` argument in `fit` has been renamed `epochs`.\n",
      "  import sys\n"
     ]
    },
    {
     "name": "stdout",
     "output_type": "stream",
     "text": [
      "Train on 108700 samples, validate on 17820 samples\n",
      "Epoch 1/20\n",
      "108700/108700 [==============================] - 83s 765us/step - loss: 0.4276 - val_loss: 0.4571\n",
      "Epoch 2/20\n",
      "108700/108700 [==============================] - 82s 752us/step - loss: 0.4274 - val_loss: 0.4563\n",
      "Epoch 3/20\n",
      "108700/108700 [==============================] - 82s 754us/step - loss: 0.4273 - val_loss: 0.4553\n",
      "Epoch 4/20\n",
      "108700/108700 [==============================] - 82s 754us/step - loss: 0.4272 - val_loss: 0.4480\n",
      "Epoch 5/20\n",
      "108700/108700 [==============================] - 80s 732us/step - loss: 0.4271 - val_loss: 0.4568\n",
      "Epoch 6/20\n",
      "108700/108700 [==============================] - 74s 683us/step - loss: 0.4270 - val_loss: 0.4519\n",
      "Epoch 7/20\n",
      "108700/108700 [==============================] - 74s 684us/step - loss: 0.4269 - val_loss: 0.4528\n",
      "Epoch 8/20\n",
      "108700/108700 [==============================] - 74s 683us/step - loss: 0.4269 - val_loss: 0.4458\n",
      "Epoch 9/20\n",
      "108700/108700 [==============================] - 74s 684us/step - loss: 0.4269 - val_loss: 0.4494\n",
      "Epoch 10/20\n",
      "108700/108700 [==============================] - 82s 757us/step - loss: 0.4268 - val_loss: 0.4526\n",
      "Epoch 11/20\n",
      "108700/108700 [==============================] - 96s 883us/step - loss: 0.4267 - val_loss: 0.4525\n",
      "Epoch 12/20\n",
      "108700/108700 [==============================] - 96s 884us/step - loss: 0.4267 - val_loss: 0.4517\n",
      "Epoch 13/20\n",
      "108700/108700 [==============================] - 90s 832us/step - loss: 0.4267 - val_loss: 0.4531\n",
      "Epoch 14/20\n",
      "108700/108700 [==============================] - 91s 833us/step - loss: 0.4266 - val_loss: 0.4442\n",
      "Epoch 15/20\n",
      "108700/108700 [==============================] - 86s 790us/step - loss: 0.4266 - val_loss: 0.4529\n",
      "Epoch 16/20\n",
      "108700/108700 [==============================] - 90s 824us/step - loss: 0.4266 - val_loss: 0.4471\n",
      "Epoch 17/20\n",
      "108700/108700 [==============================] - 90s 832us/step - loss: 0.4266 - val_loss: 0.4491\n",
      "Epoch 18/20\n",
      "108700/108700 [==============================] - 90s 828us/step - loss: 0.4265 - val_loss: 0.4448\n",
      "Epoch 19/20\n",
      "108700/108700 [==============================] - 88s 814us/step - loss: 0.4265 - val_loss: 0.4497\n",
      "Epoch 20/20\n",
      "108700/108700 [==============================] - 88s 806us/step - loss: 0.4265 - val_loss: 0.4437\n"
     ]
    }
   ],
   "source": [
    "# train\n",
    "rms = RMSprop()\n",
    "model.compile(loss= total_loss , optimizer=rms)\n",
    "history = model.fit([tr_pairs1[:,0], tr_pairs1[:, 1]], tr_y,\n",
    "          validation_data=([te_pairs1[:,0], te_pairs1[:, 1]], te_y),\n",
    "          batch_size=128,\n",
    "          nb_epoch=nb_epoch)\n",
    "\n"
   ]
  },
  {
   "cell_type": "code",
   "execution_count": 26,
   "metadata": {},
   "outputs": [],
   "source": [
    "model.save('Siamese+Conv_Train-mnist_150usps_Test-usps.hf')"
   ]
  },
  {
   "cell_type": "code",
   "execution_count": 49,
   "metadata": {},
   "outputs": [],
   "source": [
    "model.save('Siamese+Conv_Train-mnist_150usps_Test-usps.h5')"
   ]
  },
  {
   "cell_type": "code",
   "execution_count": 76,
   "metadata": {},
   "outputs": [
    {
     "name": "stdout",
     "output_type": "stream",
     "text": [
      "dict_keys(['val_loss', 'loss'])\n"
     ]
    }
   ],
   "source": [
    "print(history.history.keys())"
   ]
  },
  {
   "cell_type": "code",
   "execution_count": 101,
   "metadata": {},
   "outputs": [
    {
     "name": "stdout",
     "output_type": "stream",
     "text": [
      "* Accuracy on training set: 100.00%\n",
      "* Accuracy on test set: 100.00%\n"
     ]
    }
   ],
   "source": [
    "# compute final accuracy on training and test sets\n",
    "pred = model.predict([tr_pairs1[:,0], tr_pairs1[:, 1]])\n",
    "tr_acc = compute_accuracy(pred, tr_y)\n",
    "pred = model.predict([te_pairs1[:,0], te_pairs1[:, 1]])\n",
    "te_acc = compute_accuracy(pred, te_y)\n",
    "\n",
    "print('* Accuracy on training set: %0.2f%%' % (100 * tr_acc))\n",
    "print('* Accuracy on test set: %0.2f%%' % (100 * te_acc))"
   ]
  },
  {
   "cell_type": "code",
   "execution_count": 22,
   "metadata": {},
   "outputs": [
    {
     "name": "stdout",
     "output_type": "stream",
     "text": [
      "* Accuracy on training set: 100.00%\n",
      "* Accuracy on test set: 99.86%\n"
     ]
    }
   ],
   "source": [
    "# compute final accuracy on training and test sets # most recent\n",
    "pred = model.predict([tr_pairs1[:,0], tr_pairs1[:, 1]])\n",
    "tr_acc = compute_accuracy(pred, tr_y)\n",
    "pred = model.predict([te_pairs1[:,0], te_pairs1[:, 1]])\n",
    "te_acc = compute_accuracy(pred, te_y)\n",
    "\n",
    "print('* Accuracy on training set: %0.2f%%' % (100 * tr_acc))\n",
    "print('* Accuracy on test set: %0.2f%%' % (100 * te_acc))"
   ]
  },
  {
   "cell_type": "code",
   "execution_count": 121,
   "metadata": {},
   "outputs": [
    {
     "name": "stdout",
     "output_type": "stream",
     "text": [
      "* Accuracy on training set: 100.00%\n",
      "* Accuracy on test set: 100.00%\n"
     ]
    }
   ],
   "source": [
    "# compute final accuracy on training and test sets\n",
    "pred = model.predict([tr_pairs1[:,0], tr_pairs1[:, 1]])\n",
    "tr_acc = compute_accuracy(pred, tr_y)\n",
    "pred = model.predict([te_pairs1[:,0], te_pairs1[:, 1]])\n",
    "te_acc = compute_accuracy(pred, te_y)\n",
    "\n",
    "print('* Accuracy on training set: %0.2f%%' % (100 * tr_acc))\n",
    "print('* Accuracy on test set: %0.2f%%' % (100 * te_acc))"
   ]
  },
  {
   "cell_type": "code",
   "execution_count": 102,
   "metadata": {},
   "outputs": [
    {
     "data": {
      "text/plain": [
       "1.0"
      ]
     },
     "execution_count": 102,
     "metadata": {},
     "output_type": "execute_result"
    }
   ],
   "source": [
    "te_y[pred.ravel() < 0.5].mean()"
   ]
  },
  {
   "cell_type": "code",
   "execution_count": 103,
   "metadata": {},
   "outputs": [
    {
     "name": "stdout",
     "output_type": "stream",
     "text": [
      "[1 0 1 ... 0 1 0]\n"
     ]
    }
   ],
   "source": [
    "print(te_y)"
   ]
  },
  {
   "cell_type": "code",
   "execution_count": 105,
   "metadata": {},
   "outputs": [
    {
     "name": "stdout",
     "output_type": "stream",
     "text": [
      "1.4079148\n"
     ]
    }
   ],
   "source": [
    "print(pred.max())"
   ]
  },
  {
   "cell_type": "code",
   "execution_count": 23,
   "metadata": {},
   "outputs": [
    {
     "name": "stdout",
     "output_type": "stream",
     "text": [
      "2000\n",
      "[0 0 0 ... 9 9 9]\n"
     ]
    }
   ],
   "source": [
    "y_test1=[]\n",
    "for i in range(0,10):\n",
    "    for j in range(1,201):\n",
    "        y_test1.append(i)\n",
    "y_test1=np.array(y_test1)\n",
    "print(y_test1.size)\n",
    "print(y_test1)"
   ]
  },
  {
   "cell_type": "code",
   "execution_count": 24,
   "metadata": {},
   "outputs": [
    {
     "name": "stdout",
     "output_type": "stream",
     "text": [
      "(2000, 784)\n",
      "(10000, 784)\n"
     ]
    }
   ],
   "source": [
    "X_test1=[]\n",
    "for i in range(0,10):\n",
    "    for j in range(1,201):\n",
    "        img = PIL.Image.open(\"/home/aniruddha/Documents/USPSdataset/%d/%d.jpg\" %(i,j)).convert(\"L\")\n",
    "        arr = np.array(img)\n",
    "        # ravel to convert 28x28 to 784 1D array\n",
    "        arr=arr.ravel()\n",
    "        X_test1.append(arr)\n",
    "X_test1=np.array(X_test1)\n",
    "print(X_test1.shape)\n",
    "print(X_test.shape)"
   ]
  },
  {
   "cell_type": "code",
   "execution_count": 25,
   "metadata": {},
   "outputs": [
    {
     "name": "stdout",
     "output_type": "stream",
     "text": [
      "(10000, 784)\n"
     ]
    }
   ],
   "source": [
    "X_test1 = X_test1.reshape(2000, 784)\n",
    "X_test1 = X_test1.astype('float32')\n",
    "X_test1 /= 255\n",
    "print(X_test.shape)\n",
    "\n",
    "\n",
    "digit_indices = [np.where(y_test1 == i)[0] for i in range(10)]\n",
    "te_pairs, te_y = create_pairs(X_test1, digit_indices)"
   ]
  },
  {
   "cell_type": "code",
   "execution_count": 26,
   "metadata": {},
   "outputs": [
    {
     "name": "stdout",
     "output_type": "stream",
     "text": [
      "(3980, 2, 28, 28, 1)\n"
     ]
    }
   ],
   "source": [
    "te_pairs2=te_pairs.reshape(-1,2,28,28,1)\n",
    "\n",
    "print(te_pairs2.shape)"
   ]
  },
  {
   "cell_type": "code",
   "execution_count": 27,
   "metadata": {},
   "outputs": [
    {
     "name": "stdout",
     "output_type": "stream",
     "text": [
      "* Accuracy on test set: 88.44%\n"
     ]
    }
   ],
   "source": [
    "pred = model.predict([te_pairs2[:, 0], te_pairs2[:, 1]])\n",
    "te_acc = compute_accuracy(pred, te_y)\n",
    "\n",
    "# compute accuracy on new USPS dataset to check degree of transfer learning\n",
    "# model only trained on MNIST dataset\n",
    "print('* Accuracy on test set: %0.2f%%' % (100 * te_acc))"
   ]
  },
  {
   "cell_type": "code",
   "execution_count": 28,
   "metadata": {},
   "outputs": [],
   "source": [
    "%matplotlib inline\n",
    "\n",
    "from time import time\n",
    "\n",
    "import numpy as np\n",
    "import matplotlib.pyplot as plt\n",
    "from matplotlib import offsetbox\n",
    "from sklearn import manifold, datasets, decomposition, ensemble, discriminant_analysis, random_projection"
   ]
  },
  {
   "cell_type": "code",
   "execution_count": 29,
   "metadata": {},
   "outputs": [],
   "source": [
    "def plot_embedding(mu, Y, title=None):\n",
    "    num_class = 1000 # data points per class\n",
    "#     x_min, x_max = np.min(mu, 0), np.max(mu, 0)\n",
    "#     mu = (mu - x_min) / (x_max - x_min)\n",
    "    \n",
    "#     classes = [0, 1, 2, 3, 4, 6, 7, 8, 9, 10, 11, 12, 15, 16, 18, 19, \n",
    "#                20, 21, 22, 25, 26, 27, 28, 29, 30, 31, 32, 34, 35, 36, 37, 39, 40, 42, 43, 44, 45, 46, 48, 49]\n",
    "    \n",
    "    classes = [0,1,2,3,4,5,6,7,8,9]\n",
    "    data = [[] for i in classes]\n",
    "    for i, y in enumerate(Y):\n",
    "        data[classes.index(y)].append(np.array(mu[i]))\n",
    "            \n",
    "    colors = ['b', 'g', 'r', 'c', 'm', 'y', 'k', 'olive', 'orange', 'mediumpurple']\n",
    "    l = [i for i in range(10)]\n",
    "    alphas = 0.3 * np.ones(10)\n",
    "\n",
    "    fig = plt.figure()\n",
    "    ax = fig.add_subplot(111)\n",
    "    ax.set_aspect(1)\n",
    "    font_size = 13\n",
    "    for i in range(10):\n",
    "        temp = np.array(data[i])\n",
    "        l[i] = plt.scatter(temp[:num_class, 0], temp[:num_class, 1], s = 5, c = colors[i], edgecolors = 'face', alpha=alphas[i])\n",
    "    leg = plt.legend((l[0],l[1],l[2],l[3],l[4],l[5],l[6],l[7],l[8],l[9]), \n",
    "               ('0','1','2','3','4','5','6','7','8','9'), loc='center left', bbox_to_anchor=(1, 0.5), fontsize=font_size)\n",
    "    leg.get_frame().set_linewidth(0.0)\n",
    "    plt.xticks(fontsize=font_size)\n",
    "    plt.yticks(fontsize=font_size)"
   ]
  },
  {
   "cell_type": "code",
   "execution_count": 30,
   "metadata": {},
   "outputs": [],
   "source": [
    "X_test1=X_test1.reshape(-1,28,28,1)"
   ]
  },
  {
   "cell_type": "code",
   "execution_count": 31,
   "metadata": {},
   "outputs": [],
   "source": [
    "test_model.compile(loss=contrastive_loss, optimizer=rms)\n",
    "processed=test_model.predict(X_test1)"
   ]
  },
  {
   "cell_type": "code",
   "execution_count": 96,
   "metadata": {},
   "outputs": [
    {
     "name": "stdout",
     "output_type": "stream",
     "text": [
      "Computing t-SNE embedding\n"
     ]
    },
    {
     "data": {
      "image/png": "[encoded data removed]",
      "text/plain": [
       "<matplotlib.figure.Figure at 0x7fe2ecc49828>"
      ]
     },
     "metadata": {},
     "output_type": "display_data"
    }
   ],
   "source": [
    "print(\"Computing t-SNE embedding\")\n",
    "tsne_pred = manifold.TSNE(n_components=2, init='pca', random_state=0)\n",
    "t0 = time()\n",
    "X_tsne_pred = tsne_pred.fit_transform(processed)\n",
    "\n",
    "plot_embedding(X_tsne_pred, y_test1,\n",
    "               \"t-SNE embedding of the digits (time %.2fs)\" %\n",
    "               (time() - t0))"
   ]
  },
  {
   "cell_type": "code",
   "execution_count": 129,
   "metadata": {},
   "outputs": [
    {
     "name": "stdout",
     "output_type": "stream",
     "text": [
      "Computing t-SNE embedding\n"
     ]
    },
    {
     "data": {
      "image/png": "[encoded data removed]",
      "text/plain": [
       "<matplotlib.figure.Figure at 0x7fe3034b16a0>"
      ]
     },
     "metadata": {},
     "output_type": "display_data"
    }
   ],
   "source": [
    "print(\"Computing t-SNE embedding\")\n",
    "tsne_pred = manifold.TSNE(n_components=2, init='pca', random_state=0)\n",
    "t0 = time()\n",
    "X_tsne_pred = tsne_pred.fit_transform(processed)\n",
    "\n",
    "plot_embedding(X_tsne_pred, y_test1,\n",
    "               \"t-SNE embedding of the digits (time %.2fs)\" %\n",
    "               (time() - t0))"
   ]
  },
  {
   "cell_type": "code",
   "execution_count": 32,
   "metadata": {},
   "outputs": [
    {
     "name": "stdout",
     "output_type": "stream",
     "text": [
      "Computing t-SNE embedding\n"
     ]
    },
    {
     "data": {
      "image/png": "[encoded data removed]",
      "text/plain": [
       "<matplotlib.figure.Figure at 0x7f3a4e91cc50>"
      ]
     },
     "metadata": {},
     "output_type": "display_data"
    }
   ],
   "source": [
    "print(\"Computing t-SNE embedding\")\n",
    "tsne_pred = manifold.TSNE(n_components=2, init='pca', random_state=0)\n",
    "t0 = time()\n",
    "X_tsne_pred = tsne_pred.fit_transform(processed)\n",
    "\n",
    "plot_embedding(X_tsne_pred, y_test1,\n",
    "               \"t-SNE embedding of the digits (time %.2fs)\" %\n",
    "               (time() - t0))"
   ]
  },
  {
   "cell_type": "code",
   "execution_count": 33,
   "metadata": {},
   "outputs": [],
   "source": [
    "X_train11=X_train.reshape(-1,28,28,1)\n",
    "X_test11=X_test.reshape(-1,28,28,1)"
   ]
  },
  {
   "cell_type": "code",
   "execution_count": 34,
   "metadata": {},
   "outputs": [],
   "source": [
    "processed_train=test_model.predict(X_train11)\n",
    "processed_test=test_model.predict(X_test11)"
   ]
  },
  {
   "cell_type": "code",
   "execution_count": 35,
   "metadata": {},
   "outputs": [
    {
     "name": "stdout",
     "output_type": "stream",
     "text": [
      "128\n",
      "(60150, 128)\n",
      "(10000, 128)\n"
     ]
    }
   ],
   "source": [
    "num_pixels = 128\n",
    "processed_train = processed_train.reshape(processed_train.shape[0], num_pixels).astype('float32')\n",
    "processed_test = processed_test.reshape(processed_test.shape[0], num_pixels).astype('float32')\n",
    "\n",
    "print(num_pixels)\n",
    "print(processed_train.shape)\n",
    "print(processed_test.shape)"
   ]
  },
  {
   "cell_type": "code",
   "execution_count": 36,
   "metadata": {},
   "outputs": [],
   "source": [
    "from keras.utils import np_utils\n",
    "y_train1 = np_utils.to_categorical(y_train)\n",
    "y_test1 = np_utils.to_categorical(y_test)\n",
    "num_classes = 10"
   ]
  },
  {
   "cell_type": "code",
   "execution_count": 37,
   "metadata": {},
   "outputs": [],
   "source": [
    "# define baseline model\n",
    "def baseline_model1():\n",
    "\t# create model\n",
    "\tmodel = Sequential()\n",
    "\tmodel.add(Dense(num_pixels, input_dim=num_pixels, kernel_initializer='normal', activation='relu'))\n",
    "\tmodel.add(Dense(num_classes, kernel_initializer='normal', activation='softmax'))\n",
    "\t# Compile model\n",
    "\tmodel.compile(loss='categorical_crossentropy', optimizer='adam', metrics=['accuracy'])\n",
    "\treturn model"
   ]
  },
  {
   "cell_type": "code",
   "execution_count": 111,
   "metadata": {
    "scrolled": true
   },
   "outputs": [
    {
     "name": "stdout",
     "output_type": "stream",
     "text": [
      "Train on 60150 samples, validate on 10000 samples\n",
      "Epoch 1/10\n",
      " - 1s - loss: 0.7087 - acc: 0.9637 - val_loss: 0.0825 - val_acc: 0.9860\n",
      "Epoch 2/10\n",
      " - 1s - loss: 0.0417 - acc: 0.9934 - val_loss: 0.0516 - val_acc: 0.9862\n",
      "Epoch 3/10\n",
      " - 1s - loss: 0.0271 - acc: 0.9938 - val_loss: 0.0457 - val_acc: 0.9865\n",
      "Epoch 4/10\n",
      " - 1s - loss: 0.0230 - acc: 0.9940 - val_loss: 0.0445 - val_acc: 0.9870\n",
      "Epoch 5/10\n",
      " - 1s - loss: 0.0210 - acc: 0.9942 - val_loss: 0.0440 - val_acc: 0.9861\n",
      "Epoch 6/10\n",
      " - 1s - loss: 0.0197 - acc: 0.9944 - val_loss: 0.0428 - val_acc: 0.9866\n",
      "Epoch 7/10\n",
      " - 1s - loss: 0.0188 - acc: 0.9947 - val_loss: 0.0419 - val_acc: 0.9872\n",
      "Epoch 8/10\n",
      " - 1s - loss: 0.0181 - acc: 0.9948 - val_loss: 0.0421 - val_acc: 0.9876\n",
      "Epoch 9/10\n",
      " - 1s - loss: 0.0176 - acc: 0.9949 - val_loss: 0.0428 - val_acc: 0.9875\n",
      "Epoch 10/10\n",
      " - 1s - loss: 0.0171 - acc: 0.9950 - val_loss: 0.0421 - val_acc: 0.9876\n",
      "10000/10000 [==============================] - 0s 23us/step\n",
      "60150/60150 [==============================] - 1s 19us/step\n"
     ]
    }
   ],
   "source": [
    "\n",
    "# build the model\n",
    "model1 = baseline_model1()\n",
    "# Fit the model\n",
    "model1.fit(processed_train, y_train1, validation_data=(processed_test, y_test1), epochs=10, batch_size=200, verbose=2)\n",
    "# Final evaluation of the model\n",
    "scores_test = model1.evaluate(processed_test, y_test1, verbose=1)\n",
    "scores_train = model1.evaluate(processed_train, y_train1, verbose=1)\n"
   ]
  },
  {
   "cell_type": "code",
   "execution_count": 135,
   "metadata": {},
   "outputs": [
    {
     "name": "stdout",
     "output_type": "stream",
     "text": [
      "Train on 60150 samples, validate on 10000 samples\n",
      "Epoch 1/10\n",
      " - 1s - loss: 0.7673 - acc: 0.9597 - val_loss: 0.0905 - val_acc: 0.9849\n",
      "Epoch 2/10\n",
      " - 1s - loss: 0.0367 - acc: 0.9961 - val_loss: 0.0541 - val_acc: 0.9848\n",
      "Epoch 3/10\n",
      " - 1s - loss: 0.0203 - acc: 0.9962 - val_loss: 0.0489 - val_acc: 0.9850\n",
      "Epoch 4/10\n",
      " - 1s - loss: 0.0161 - acc: 0.9964 - val_loss: 0.0473 - val_acc: 0.9857\n",
      "Epoch 5/10\n",
      " - 1s - loss: 0.0141 - acc: 0.9965 - val_loss: 0.0478 - val_acc: 0.9851\n",
      "Epoch 6/10\n",
      " - 1s - loss: 0.0130 - acc: 0.9966 - val_loss: 0.0476 - val_acc: 0.9857\n",
      "Epoch 7/10\n",
      " - 1s - loss: 0.0122 - acc: 0.9970 - val_loss: 0.0483 - val_acc: 0.9858\n",
      "Epoch 8/10\n",
      " - 1s - loss: 0.0115 - acc: 0.9968 - val_loss: 0.0488 - val_acc: 0.9856\n",
      "Epoch 9/10\n",
      " - 1s - loss: 0.0110 - acc: 0.9969 - val_loss: 0.0507 - val_acc: 0.9850\n",
      "Epoch 10/10\n",
      " - 1s - loss: 0.0106 - acc: 0.9970 - val_loss: 0.0499 - val_acc: 0.9860\n",
      "10000/10000 [==============================] - 0s 24us/step\n",
      "60150/60150 [==============================] - 1s 22us/step\n"
     ]
    }
   ],
   "source": [
    "\n",
    "# build the model\n",
    "model1 = baseline_model1()\n",
    "# Fit the model\n",
    "model1.fit(processed_train, y_train1, validation_data=(processed_test, y_test1), epochs=10, batch_size=200, verbose=2)\n",
    "# Final evaluation of the model\n",
    "scores_test = model1.evaluate(processed_test, y_test1, verbose=1)\n",
    "scores_train = model1.evaluate(processed_train, y_train1, verbose=1)\n"
   ]
  },
  {
   "cell_type": "code",
   "execution_count": 38,
   "metadata": {},
   "outputs": [
    {
     "name": "stdout",
     "output_type": "stream",
     "text": [
      "Train on 60150 samples, validate on 10000 samples\n",
      "Epoch 1/10\n",
      " - 1s - loss: 0.6037 - acc: 0.9876 - val_loss: 0.0539 - val_acc: 0.9900\n",
      "Epoch 2/10\n",
      " - 1s - loss: 0.0164 - acc: 0.9980 - val_loss: 0.0407 - val_acc: 0.9900\n",
      "Epoch 3/10\n",
      " - 1s - loss: 0.0104 - acc: 0.9981 - val_loss: 0.0394 - val_acc: 0.9900\n",
      "Epoch 4/10\n",
      " - 1s - loss: 0.0090 - acc: 0.9982 - val_loss: 0.0397 - val_acc: 0.9896\n",
      "Epoch 5/10\n",
      " - 1s - loss: 0.0085 - acc: 0.9981 - val_loss: 0.0398 - val_acc: 0.9898\n",
      "Epoch 6/10\n",
      " - 1s - loss: 0.0082 - acc: 0.9981 - val_loss: 0.0406 - val_acc: 0.9899\n",
      "Epoch 7/10\n",
      " - 1s - loss: 0.0080 - acc: 0.9982 - val_loss: 0.0408 - val_acc: 0.9894\n",
      "Epoch 8/10\n",
      " - 1s - loss: 0.0079 - acc: 0.9981 - val_loss: 0.0408 - val_acc: 0.9898\n",
      "Epoch 9/10\n",
      " - 1s - loss: 0.0078 - acc: 0.9982 - val_loss: 0.0416 - val_acc: 0.9895\n",
      "Epoch 10/10\n",
      " - 1s - loss: 0.0077 - acc: 0.9982 - val_loss: 0.0419 - val_acc: 0.9897\n",
      "10000/10000 [==============================] - 0s 20us/step\n",
      "60150/60150 [==============================] - 1s 21us/step\n"
     ]
    }
   ],
   "source": [
    "\n",
    "# build the model\n",
    "model1 = baseline_model1()\n",
    "# Fit the model\n",
    "model1.fit(processed_train, y_train1, validation_data=(processed_test, y_test1), epochs=10, batch_size=200, verbose=2)\n",
    "# Final evaluation of the model\n",
    "scores_test = model1.evaluate(processed_test, y_test1, verbose=1)\n",
    "scores_train = model1.evaluate(processed_train, y_train1, verbose=1)\n"
   ]
  },
  {
   "cell_type": "code",
   "execution_count": 112,
   "metadata": {},
   "outputs": [
    {
     "name": "stdout",
     "output_type": "stream",
     "text": [
      "* Accuracy on training set: 99.52%\n",
      "* Accuracy on test set: 98.76%\n"
     ]
    }
   ],
   "source": [
    "#scores_train=scores_train/1.0\n",
    "#scores_test=scores_test/1.0\n",
    "print('* Accuracy on training set: %0.2f%%' % (100 * scores_train[1]))\n",
    "print('* Accuracy on test set: %0.2f%%' % (100 * scores_test[1]))"
   ]
  },
  {
   "cell_type": "code",
   "execution_count": 136,
   "metadata": {},
   "outputs": [
    {
     "name": "stdout",
     "output_type": "stream",
     "text": [
      "* Accuracy on training set: 99.71%\n",
      "* Accuracy on test set: 98.60%\n"
     ]
    }
   ],
   "source": [
    "#scores_train=scores_train/1.0\n",
    "#scores_test=scores_test/1.0\n",
    "print('* Accuracy on training set: %0.2f%%' % (100 * scores_train[1]))\n",
    "print('* Accuracy on test set: %0.2f%%' % (100 * scores_test[1]))"
   ]
  },
  {
   "cell_type": "code",
   "execution_count": 39,
   "metadata": {},
   "outputs": [
    {
     "name": "stdout",
     "output_type": "stream",
     "text": [
      "* Accuracy on training set: 99.82%\n",
      "* Accuracy on test set: 98.97%\n"
     ]
    }
   ],
   "source": [
    "#scores_train=scores_train/1.0\n",
    "#scores_test=scores_test/1.0\n",
    "print('* Accuracy on training set: %0.2f%%' % (100 * scores_train[1]))\n",
    "print('* Accuracy on test set: %0.2f%%' % (100 * scores_test[1]))"
   ]
  },
  {
   "cell_type": "code",
   "execution_count": 40,
   "metadata": {},
   "outputs": [
    {
     "name": "stdout",
     "output_type": "stream",
     "text": [
      "2000\n"
     ]
    }
   ],
   "source": [
    "y_test2=[]\n",
    "for i in range(0,10):\n",
    "    for j in range(1,201):\n",
    "        y_test2.append(i)\n",
    "y_test2=np.array(y_test2)\n",
    "print(y_test2.size)"
   ]
  },
  {
   "cell_type": "code",
   "execution_count": 41,
   "metadata": {},
   "outputs": [],
   "source": [
    "from keras.utils import np_utils\n",
    "y_test2 = np_utils.to_categorical(y_test2)\n",
    "num_classes = 10"
   ]
  },
  {
   "cell_type": "code",
   "execution_count": 116,
   "metadata": {},
   "outputs": [
    {
     "name": "stdout",
     "output_type": "stream",
     "text": [
      "2000/2000 [==============================] - 0s 25us/step\n",
      "* Accuracy on test USPS set: 65.65%\n"
     ]
    }
   ],
   "source": [
    "scores_test_USPS=model1.evaluate(processed, y_test2, verbose=1)\n",
    "print('* Accuracy on test USPS set: %0.2f%%' % (100 * scores_test_USPS[1]))"
   ]
  },
  {
   "cell_type": "code",
   "execution_count": 139,
   "metadata": {},
   "outputs": [
    {
     "name": "stdout",
     "output_type": "stream",
     "text": [
      "2000/2000 [==============================] - 0s 26us/step\n",
      "* Accuracy on test USPS set: 65.00%\n"
     ]
    }
   ],
   "source": [
    "scores_test_USPS=model1.evaluate(processed, y_test2, verbose=1)\n",
    "print('* Accuracy on test USPS set: %0.2f%%' % (100 * scores_test_USPS[1]))"
   ]
  },
  {
   "cell_type": "code",
   "execution_count": 42,
   "metadata": {},
   "outputs": [
    {
     "name": "stdout",
     "output_type": "stream",
     "text": [
      "2000/2000 [==============================] - 0s 26us/step\n",
      "* Accuracy on test USPS set: 65.95%\n"
     ]
    }
   ],
   "source": [
    "scores_test_USPS=model1.evaluate(processed, y_test2, verbose=1)\n",
    "print('* Accuracy on test USPS set: %0.2f%%' % (100 * scores_test_USPS[1]))"
   ]
  },
  {
   "cell_type": "code",
   "execution_count": 141,
   "metadata": {},
   "outputs": [
    {
     "name": "stdout",
     "output_type": "stream",
     "text": [
      "[1.420579885482788, 0.65]\n"
     ]
    }
   ],
   "source": [
    "print(scores_test_USPS)"
   ]
  }
 ],
 "metadata": {
  "kernelspec": {
   "display_name": "Python 3",
   "language": "python",
   "name": "python3"
  },
  "language_info": {
   "codemirror_mode": {
    "name": "ipython",
    "version": 3
   },
   "file_extension": ".py",
   "mimetype": "text/x-python",
   "name": "python",
   "nbconvert_exporter": "python",
   "pygments_lexer": "ipython3",
   "version": "3.5.4"
  }
 },
 "nbformat": 4,
 "nbformat_minor": 2
}
