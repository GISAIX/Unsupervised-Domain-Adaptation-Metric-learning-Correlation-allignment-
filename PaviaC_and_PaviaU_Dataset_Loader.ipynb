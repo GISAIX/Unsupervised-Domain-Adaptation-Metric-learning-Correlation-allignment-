{
 "cells": [
  {
   "cell_type": "code",
   "execution_count": 1,
   "metadata": {},
   "outputs": [
    {
     "name": "stderr",
     "output_type": "stream",
     "text": [
      "/home/aniruddha/anaconda3/envs/tensorflow/lib/python3.5/site-packages/h5py/__init__.py:36: FutureWarning: Conversion of the second argument of issubdtype from `float` to `np.floating` is deprecated. In future, it will be treated as `np.float64 == np.dtype(float).type`.\n",
      "  from ._conv import register_converters as _register_converters\n",
      "Using TensorFlow backend.\n"
     ]
    }
   ],
   "source": [
    "from __future__ import absolute_import\n",
    "from __future__ import print_function\n",
    "import numpy as np\n",
    "import numpy\n",
    "import PIL\n",
    "from PIL import Image\n",
    "np.random.seed(1337)  # for reproducibility\n",
    "\n",
    "import random\n",
    "from keras.datasets import mnist\n",
    "from keras.models import Sequential, Model\n",
    "from keras.layers import Dense, Dropout, Input, Lambda\n",
    "from keras.layers.convolutional import Conv2D\n",
    "from keras.layers.convolutional import MaxPooling2D\n",
    "from keras.layers import Flatten\n",
    "from keras.optimizers import RMSprop\n",
    "from keras import backend as K\n",
    "from keras.layers import Concatenate, Dense, LSTM, Input, concatenate\n"
   ]
  },
  {
   "cell_type": "code",
   "execution_count": 2,
   "metadata": {},
   "outputs": [],
   "source": [
    "import scipy.io\n",
    "mat = scipy.io.loadmat('/home/aniruddha/deep-learning-projects/Siamese_Networks/Dataset/PaviaCentre.mat')"
   ]
  },
  {
   "cell_type": "code",
   "execution_count": 3,
   "metadata": {},
   "outputs": [
    {
     "name": "stdout",
     "output_type": "stream",
     "text": [
      "(1096, 715, 102)\n"
     ]
    }
   ],
   "source": [
    "arr = mat['pavia']\n",
    "arr = np.array(arr)\n",
    "print(arr.shape)"
   ]
  },
  {
   "cell_type": "code",
   "execution_count": 4,
   "metadata": {},
   "outputs": [
    {
     "name": "stdout",
     "output_type": "stream",
     "text": [
      "[329 280 299 265 148 107  87 176 277 284 227 229 264 304 345 364 373 363\n",
      " 342 364 412 436 409 407 425 434 445 452 454 464 478 481 468 494 523 530\n",
      " 515 507 509 497 459 435 401 352 342 341 336 345 345 340 339 327 324 306\n",
      " 283 284 287 272 261 260 257 233 227 235 230 217 221 217 191 171 169 172\n",
      " 154 135 128 127 104  91 107 110  96  91 104 125 123  86  77  98 108  98\n",
      "  98 100 111 106  75  80  99 111 114 133 127 100]\n"
     ]
    }
   ],
   "source": [
    "print(arr[100][300])"
   ]
  },
  {
   "cell_type": "code",
   "execution_count": 5,
   "metadata": {},
   "outputs": [
    {
     "name": "stdout",
     "output_type": "stream",
     "text": [
      "[ 762  799  610  534  550  581  593  566  604  632  661  628  621  652\n",
      "  646  621  627  664  691  689  709  744  753  753  745  751  751  746\n",
      "  767  805  827  849  878  919  959 1002 1049 1089 1126 1171 1214 1249\n",
      " 1282 1325 1362 1382 1395 1402 1419 1411 1429 1469 1465 1472 1479 1497\n",
      " 1508 1526 1527 1511 1530 1566 1585 1601 1599 1582 1626 1685 1719 1716\n",
      " 1723 1762 1782 1762 1742 1765 1798 1803 1761 1736 1768 1848 1877 1781\n",
      " 1728 1788 1829 1821 1809 1814 1836 1815 1792 1797 1832 1830 1796 1774\n",
      " 1743 1726 1730 1751]\n",
      "[1161 1130  871  774  794  747  681  657  631  692  747  788  744  681\n",
      "  654  657  678  666  666  712  736  738  747  778  772  748  728  732\n",
      "  762  817  879  893  892  902  935  989 1033 1067 1116 1174 1174 1189\n",
      " 1250 1287 1307 1354 1382 1374 1366 1392 1411 1419 1432 1445 1449 1462\n",
      " 1480 1492 1517 1542 1540 1539 1559 1574 1569 1567 1595 1616 1642 1653\n",
      " 1673 1711 1740 1725 1702 1706 1725 1733 1764 1795 1824 1834 1824 1779\n",
      " 1760 1782 1795 1807 1810 1805 1791 1758 1721 1748 1779 1811 1813 1777\n",
      " 1769 1777 1739 1725]\n"
     ]
    }
   ],
   "source": [
    "print(arr[100][3])\n",
    "print(arr[100][2])"
   ]
  },
  {
   "cell_type": "code",
   "execution_count": 6,
   "metadata": {},
   "outputs": [],
   "source": [
    "import scipy.io\n",
    "mat = scipy.io.loadmat('/home/aniruddha/deep-learning-projects/Siamese_Networks/Dataset/PaviaCentre_gt.mat')"
   ]
  },
  {
   "cell_type": "code",
   "execution_count": 7,
   "metadata": {},
   "outputs": [
    {
     "name": "stdout",
     "output_type": "stream",
     "text": [
      "(1096, 715)\n"
     ]
    }
   ],
   "source": [
    "arr1 = mat['pavia_gt']\n",
    "arr1 = np.array(arr1)\n",
    "print(arr1.shape)"
   ]
  },
  {
   "cell_type": "code",
   "execution_count": 8,
   "metadata": {},
   "outputs": [
    {
     "name": "stdout",
     "output_type": "stream",
     "text": [
      "[0 0 0 0 0 0 0 0 0 0 0 0 8 8 8 8 8 8 8 8 8 8 8 8 8 8 8 0 0 0 0 0 0 0 0 0 0\n",
      " 0 0 0 0 0 0 0 0 8 8 8 8 8 8 8 0 0 0 0 0 0 0 0 0 0 8 8 8 0 0 0 0 0 0 0 0 0\n",
      " 8 8 0 0 0 0 0 0 0 0 0 0 0 0 0 8 8 8 8 8 8 8 8 8 8 8 8 8 8 8 8 0 0 0 0 0 0\n",
      " 0 0 0 0 0 0 0 0 0 0 0 0 0 0 0 0 0 0 0 0 0 0 0 0 0 0 0 0 0 0 0 0 0 0 0 0 0\n",
      " 0 0 0 0 0 0 0 0 0 0 0 0 0 0 0 0 0 0 0 0 0 0 0 0 0 0 0 0 0 0 0 0 0 0 0 0 0\n",
      " 0 0 0 0 0 0 0 0 0 0 0 0 0 0 0 0 0 0 0 0 0 0 0 0 0 0 0 0 0 0 0 0 0 0 0 0 0\n",
      " 0 0 0 0 0 0 0 0 0 0 0 0 0 6 6 6 0 0 0 0 0 0 9 0 0 0 0 0 0 0 0 0 0 0 0 0 0\n",
      " 0 0 1 1 1 1 1 1 1 1 1 1 1 1 1 1 1 1 1 1 1 1 1 1 1 1 1 1 1 1 1 1 1 1 1 1 1\n",
      " 1 1 1 1 1 1 1 1 1 1 1 1 1 1 1 1 1 1 1 1 1 1 1 1 1 1 1 1 1 1 1 1 1 1 1 1 1\n",
      " 1 1 1 1 1 1 1 1 1 1 1 1 1 1 1 1 1 1 1 1 1 1 1 1 1 1 1 1 1 1 1 1 1 1 1 1 1\n",
      " 1 1 1 1 1 1 1 1 1 1 1 1 1 1 1 1 1 1 1 1 1 1 1 1 1 1 1 1 1 1 1 1 1 1 1 1 1\n",
      " 1 1 1 1 1 1 1 1 1 1 1 1 1 1 1 1 1 1 1 1 1 1 1 1 1 1 1 1 1 1 1 1 1 1 1 1 1\n",
      " 1 1 1 1 1 1 1 1 1 1 1 1 1 1 1 1 1 1 1 1 1 1 1 1 1 1 1 1 1 1 1 1 1 1 1 1 1\n",
      " 1 1 1 1 1 1 1 1 1 1 1 1 1 1 1 1 1 1 1 1 1 1 1 1 1 1 1 1 1 1 1 1 1 1 1 1 1\n",
      " 1 1 1 1 1 1 1 1 1 1 1 1 1 1 1 1 1 1 1 1 1 1 1 1 1 1 1 1 1 1 1 1 1 1 1 1 1\n",
      " 1 1 1 1 1 1 1 1 1 1 1 0 0 0 0 0 0 0 0 0 0 0 0 0 0 0 0 0 5 5 0 0 0 0 0 0 0\n",
      " 0 0 0 0 0 0 0 0 0 0 0 0 0 0 0 0 0 0 0 0 0 2 2 2 2 2 0 0 0 0 0 0 0 0 0 0 0\n",
      " 0 0 2 0 0 0 0 0 0 2 0 0 0 0 0 0 0 0 0 0 0 0 0 2 2 2 2 2 0 0 0 0 0 0 0 0 0\n",
      " 0 0 0 0 0 0 0 0 0 0 0 0 0 0 0 0 0 0 0 0 0 0 0 0 0 0 0 0 0 0 3 3 3 0 0 0 3\n",
      " 3 3 3 3 3 3 3 3 3 3 3 3]\n"
     ]
    }
   ],
   "source": [
    "print(arr1[100])"
   ]
  },
  {
   "cell_type": "code",
   "execution_count": 10,
   "metadata": {},
   "outputs": [
    {
     "name": "stdout",
     "output_type": "stream",
     "text": [
      "9\n"
     ]
    }
   ],
   "source": [
    "print(arr1.max())"
   ]
  },
  {
   "cell_type": "code",
   "execution_count": 11,
   "metadata": {},
   "outputs": [
    {
     "name": "stdout",
     "output_type": "stream",
     "text": [
      "(783640, 102)\n",
      "(783640,)\n"
     ]
    }
   ],
   "source": [
    "a=[]\n",
    "label=[]\n",
    "k=0\n",
    "for i in range(0,arr1.shape[0]):\n",
    "    for j in range(0,arr1[i].shape[0]):\n",
    "        a.append(arr[i][j])\n",
    "        label.append(arr1[i][j])\n",
    "        \n",
    "a=np.array(a)\n",
    "label=np.array(label)\n",
    "print(a.shape)\n",
    "print(label.shape)"
   ]
  },
  {
   "cell_type": "code",
   "execution_count": 12,
   "metadata": {},
   "outputs": [
    {
     "name": "stdout",
     "output_type": "stream",
     "text": [
      "[ 619  436  419  553  671  829  900  875  944  905  892  816  751  788\n",
      "  864  885  874  871  875  897  918  925  924  918  919  935  925  922\n",
      "  921  918  888  845  845  885  917  949  950  945  948  951  950  944\n",
      "  940  935  937  945  924  907  916  946  978  972  939  950  965  960\n",
      "  963  965  965  956  955  956  952  953  959  957  946  924  943  957\n",
      "  971  976  978  963  942  970  980  972  976  986 1000 1000 1007  993\n",
      "  970  985 1001  987  976  972  973  993 1001  993  993  995  987  972\n",
      "  944  925  920  947]\n",
      "0\n"
     ]
    }
   ],
   "source": [
    "print(a[100])\n",
    "print(label[100])"
   ]
  },
  {
   "cell_type": "code",
   "execution_count": 17,
   "metadata": {},
   "outputs": [
    {
     "name": "stdout",
     "output_type": "stream",
     "text": [
      "(138705, 102)\n",
      "(138705,)\n"
     ]
    }
   ],
   "source": [
    "X_train=[]\n",
    "y_train=[]\n",
    "for i in range (0,a.shape[0]):\n",
    "    if(label[i]==1):\n",
    "        y_train.append(0)\n",
    "    if(label[i]==2):\n",
    "        y_train.append(1)\n",
    "    if(label[i]==3):\n",
    "        y_train.append(2)\n",
    "    if(label[i]==4):\n",
    "        y_train.append(3)\n",
    "    if(label[i]==6):\n",
    "        y_train.append(4)\n",
    "    if(label[i]==7):\n",
    "        y_train.append(5)\n",
    "    if(label[i]==8):\n",
    "        y_train.append(6)\n",
    "    if (label[i]==1 or label[i]==2 or label[i]==3 or label[i]==4 or label[i]==6 or label[i]==7 or label[i]==8):\n",
    "        X_train.append(a[i])\n",
    "X_train=np.array(X_train)\n",
    "y_train=np.array(y_train)\n",
    "print(X_train.shape)\n",
    "print(y_train.shape)\n",
    "        "
   ]
  },
  {
   "cell_type": "code",
   "execution_count": 18,
   "metadata": {},
   "outputs": [],
   "source": [
    "from sklearn.utils import shuffle\n",
    "X_train, y_train = shuffle(X_train, y_train, random_state = 0)"
   ]
  },
  {
   "cell_type": "code",
   "execution_count": 19,
   "metadata": {},
   "outputs": [],
   "source": [
    "import scipy.io\n",
    "mat = scipy.io.loadmat('/home/aniruddha/deep-learning-projects/Siamese_Networks/Dataset/PaviaU.mat')"
   ]
  },
  {
   "cell_type": "code",
   "execution_count": 21,
   "metadata": {},
   "outputs": [
    {
     "name": "stdout",
     "output_type": "stream",
     "text": [
      "(610, 340, 103)\n"
     ]
    }
   ],
   "source": [
    "arr = mat['paviaU']\n",
    "arr = np.array(arr)\n",
    "print(arr.shape)"
   ]
  },
  {
   "cell_type": "code",
   "execution_count": 26,
   "metadata": {},
   "outputs": [],
   "source": [
    "import scipy.io\n",
    "mat = scipy.io.loadmat('/home/aniruddha/deep-learning-projects/Siamese_Networks/Dataset/PaviaU_gt.mat')"
   ]
  },
  {
   "cell_type": "code",
   "execution_count": 27,
   "metadata": {},
   "outputs": [
    {
     "name": "stdout",
     "output_type": "stream",
     "text": [
      "(610, 340)\n"
     ]
    }
   ],
   "source": [
    "arr1 = mat['paviaU_gt']\n",
    "arr1 = np.array(arr1)\n",
    "print(arr1.shape)"
   ]
  },
  {
   "cell_type": "code",
   "execution_count": 29,
   "metadata": {},
   "outputs": [
    {
     "name": "stdout",
     "output_type": "stream",
     "text": [
      "[0 0 0 0 0 0 0 0 0 0 0 0 0 0 0 0 0 0 0 0 0 0 0 0 0 0 0 0 0 0 0 0 0 0 0 0 0\n",
      " 0 0 0 0 0 0 0 0 0 0 0 0 0 0 0 0 0 0 0 0 0 0 0 0 0 0 0 0 0 0 0 0 0 0 0 0 0\n",
      " 0 0 0 0 0 0 0 0 0 0 0 0 0 0 0 0 0 1 1 1 1 1 1 1 1 0 0 0 0 0 0 0 0 0 0 0 0\n",
      " 0 1 1 1 1 1 0 0 0 0 0 0 0 0 0 0 0 0 0 0 0 0 0 0 0 0 0 0 0 0 0 0 0 0 0 0 0\n",
      " 0 0 0 0 0 0 0 0 0 0 0 0 0 0 0 0 0 0 0 0 0 0 4 4 4 4 4 4 4 4 4 4 4 4 0 0 0\n",
      " 0 0 0 0 0 0 0 0 0 0 0 0 0 0 0 0 0 0 0 0 0 0 0 0 0 0 0 0 0 0 0 0 0 0 0 0 0\n",
      " 0 0 0 0 0 0 0 0 0 0 0 0 0 0 0 0 0 0 0 0 0 0 0 0 0 0 0 0 0 0 0 0 0 0 0 0 0\n",
      " 0 0 0 0 0 0 0 0 0 0 0 0 0 0 0 0 0 0 0 0 0 0 0 0 0 0 0 0 0 0 0 0 0 0 0 0 0\n",
      " 0 0 0 0 0 0 0 0 0 0 0 0 0 0 0 0 0 0 0 0 0 0 0 0 0 0 0 0 0 0 0 0 0 0 0 0 0\n",
      " 0 0 0 0 0 0 0]\n"
     ]
    }
   ],
   "source": [
    "print(arr1[0])"
   ]
  },
  {
   "cell_type": "code",
   "execution_count": 30,
   "metadata": {},
   "outputs": [
    {
     "name": "stdout",
     "output_type": "stream",
     "text": [
      "(207400, 103)\n",
      "(207400,)\n"
     ]
    }
   ],
   "source": [
    "a=[]\n",
    "label=[]\n",
    "k=0\n",
    "for i in range(0,arr1.shape[0]):\n",
    "    for j in range(0,arr1[i].shape[0]):\n",
    "        a.append(arr[i][j])\n",
    "        label.append(arr1[i][j])\n",
    "        \n",
    "a=np.array(a)\n",
    "label=np.array(label)\n",
    "print(a.shape)\n",
    "print(label.shape)"
   ]
  },
  {
   "cell_type": "code",
   "execution_count": 31,
   "metadata": {},
   "outputs": [
    {
     "name": "stdout",
     "output_type": "stream",
     "text": [
      "(184740, 103)\n",
      "(184740,)\n"
     ]
    }
   ],
   "source": [
    "X_train1=[]\n",
    "y_train1=[]\n",
    "for i in range (0,a.shape[0]):\n",
    "    if(label[i]==3):\n",
    "        y_train1.append(0)\n",
    "    if(label[i]==0):\n",
    "        y_train1.append(1)\n",
    "    if(label[i]==7):\n",
    "        y_train1.append(2)\n",
    "    if(label[i]==6):\n",
    "        y_train1.append(3)\n",
    "    if(label[i]==8):\n",
    "        y_train1.append(4)\n",
    "    if(label[i]==1):\n",
    "        y_train1.append(5)\n",
    "    if(label[i]==5):\n",
    "        y_train1.append(6)\n",
    "    if (label[i]==3 or label[i]==0 or label[i]==7 or label[i]==6 or label[i]==8 or label[i]==1 or label[i]==5):\n",
    "        X_train1.append(a[i])\n",
    "X_train1=np.array(X_train1)\n",
    "y_train1=np.array(y_train1)\n",
    "print(X_train1.shape)\n",
    "print(y_train1.shape)\n",
    "        "
   ]
  },
  {
   "cell_type": "code",
   "execution_count": 32,
   "metadata": {},
   "outputs": [],
   "source": [
    "from sklearn.utils import shuffle\n",
    "X_train1, y_train1 = shuffle(X_train1, y_train1, random_state = 0)"
   ]
  },
  {
   "cell_type": "code",
   "execution_count": 38,
   "metadata": {},
   "outputs": [
    {
     "name": "stdout",
     "output_type": "stream",
     "text": [
      "[  0   0  30 154 240 228 215 152 228 300 288 278 279 279 280 279 315 332\n",
      " 342 336 310 308 342 359 355 381 417 427 440 453 454 464 468 452 452 469\n",
      " 457 436 438 439 415 376 327 287 263 255 239 248 270 263 244 234 227 224\n",
      " 220 224 205 185 172 159 158 182 188 165 153 155 134 116 101  75  74  73\n",
      "  54  27  15  29  40  25  13  12  10   5   0   0  27  41  32  15   7  23\n",
      "  31  24  23  28  24   0   0   0   2  24  41  23]\n",
      "[ 802  607  669  821  846  847  840  698  586  649  745  778  750  785\n",
      "  832  832  840  876  912  908  886  865  866  888  942  984  990 1004\n",
      " 1036 1060 1061 1075 1090 1115 1146 1171 1208 1279 1344 1362 1377 1403\n",
      " 1452 1492 1515 1536 1545 1540 1554 1561 1582 1611 1661 1672 1651 1634\n",
      " 1635 1642 1681 1722 1747 1761 1747 1750 1759 1743 1781 1810 1828 1859\n",
      " 1886 1907 1876 1847 1885 1912 1909 1909 1930 1948 1959 1982 1986 1912\n",
      " 1859 1883 1918 1926 1927 1927 1918 1899 1919 1938 1929 1913 1882 1858\n",
      " 1843 1815 1817 1836]\n",
      "0\n",
      "6\n"
     ]
    }
   ],
   "source": [
    "print(X_train[100])\n",
    "print(X_train[10000])\n",
    "print(y_train[100])\n",
    "print(y_train[10000])"
   ]
  },
  {
   "cell_type": "code",
   "execution_count": 41,
   "metadata": {},
   "outputs": [
    {
     "name": "stderr",
     "output_type": "stream",
     "text": [
      "/home/aniruddha/anaconda3/envs/tensorflow/lib/python3.5/site-packages/sklearn/utils/validation.py:475: DataConversionWarning: Data with input dtype uint16 was converted to float64 by StandardScaler.\n",
      "  warnings.warn(msg, DataConversionWarning)\n"
     ]
    },
    {
     "name": "stdout",
     "output_type": "stream",
     "text": [
      "[-0.5987657  -0.20141909 -0.37718137 -0.58349374 -0.75344376 -0.99558269\n",
      " -1.07248813 -1.01551233 -0.97702595 -0.84565065 -0.81867816 -0.8756142\n",
      " -0.92063077 -0.91692369 -0.88100695 -0.90641084 -0.90521145 -0.90105895\n",
      " -0.92715977 -0.99039067 -1.06009572 -1.09559987 -1.10127383 -1.11451962\n",
      " -1.13691611 -1.1718671  -1.21738531 -1.26067795 -1.29694883 -1.33617316\n",
      " -1.36550714 -1.37642463 -1.40265046 -1.42167376 -1.4057887  -1.4005116\n",
      " -1.41871045 -1.4062724  -1.39067754 -1.39386309 -1.37976323 -1.36999027\n",
      " -1.38325579 -1.38181893 -1.37957934 -1.38985038 -1.38637825 -1.38261497\n",
      " -1.38558361 -1.41521377 -1.42260509 -1.38452591 -1.36031597 -1.34980058\n",
      " -1.34441102 -1.35057803 -1.3408363  -1.34153001 -1.33055725 -1.32318237\n",
      " -1.31944475 -1.33939308 -1.36046443 -1.35086011 -1.35265308 -1.38701327\n",
      " -1.4287243  -1.45958998 -1.51234656 -1.58490144 -1.6404652  -1.69544847\n",
      " -1.70403083 -1.65683253 -1.58143855 -1.46103341 -1.36896448 -1.27897936\n",
      " -1.20431145 -1.15539978 -1.1168379  -1.09518327 -1.07352379 -0.93284213\n",
      " -0.80741784 -0.83641873 -0.85492425 -0.84678472 -0.82322097 -0.79891427\n",
      " -0.78512439 -0.7439721  -0.73192049 -0.7160049  -0.65427695 -0.61425507\n",
      " -0.59024378 -0.55096653 -0.51640509 -0.51789354 -0.51257992 -0.47778355\n",
      " -0.4681046 ]\n"
     ]
    }
   ],
   "source": [
    "from sklearn.preprocessing import StandardScaler\n",
    "x=X_train1\n",
    "x = StandardScaler().fit_transform(x)\n",
    "print(x[100])"
   ]
  },
  {
   "cell_type": "code",
   "execution_count": 42,
   "metadata": {},
   "outputs": [
    {
     "name": "stdout",
     "output_type": "stream",
     "text": [
      "(184740, 50)\n"
     ]
    }
   ],
   "source": [
    "from sklearn.decomposition import PCA\n",
    "pca = PCA(n_components=50)\n",
    "principalComponents = pca.fit_transform(x)\n",
    "print(principalComponents.shape)\n"
   ]
  },
  {
   "cell_type": "code",
   "execution_count": 43,
   "metadata": {},
   "outputs": [
    {
     "name": "stdout",
     "output_type": "stream",
     "text": [
      "[-1.13670500e+01 -2.75604667e+00  1.50038577e+00  8.09963891e-01\n",
      "  5.71875684e-01 -4.06355956e-01 -6.20082616e-01  6.22962574e-01\n",
      "  6.99515623e-02 -7.01710789e-02 -1.65370110e-01 -1.50507030e-01\n",
      " -1.85494846e-01  1.75634413e-01  9.52377280e-02 -7.78752333e-02\n",
      "  6.96115934e-02  5.50198988e-03 -4.19637720e-03  3.08792296e-02\n",
      "  4.49275545e-02 -2.01565423e-02  7.80304063e-02 -1.18887050e-01\n",
      " -1.29893489e-02  4.23406651e-03 -1.26645111e-02 -1.16906591e-02\n",
      "  1.52452897e-02  5.35971595e-02 -2.80558012e-03  3.84323549e-02\n",
      " -1.48172303e-02  4.51111453e-03 -2.99352766e-02 -1.41979731e-02\n",
      " -1.42121738e-02  2.06523455e-02 -5.65173058e-02  4.49130498e-02\n",
      " -3.37018207e-02  2.51853978e-02  1.56719846e-02 -4.01579371e-03\n",
      "  6.73870660e-03 -2.33660636e-02 -1.26052267e-02  3.23707942e-03\n",
      "  1.02133865e-02  1.08656364e-02]\n"
     ]
    }
   ],
   "source": [
    "x=principalComponents\n",
    "print(x[100])"
   ]
  }
 ],
 "metadata": {
  "kernelspec": {
   "display_name": "Python 3",
   "language": "python",
   "name": "python3"
  },
  "language_info": {
   "codemirror_mode": {
    "name": "ipython",
    "version": 3
   },
   "file_extension": ".py",
   "mimetype": "text/x-python",
   "name": "python",
   "nbconvert_exporter": "python",
   "pygments_lexer": "ipython3",
   "version": "3.5.4"
  }
 },
 "nbformat": 4,
 "nbformat_minor": 2
}
