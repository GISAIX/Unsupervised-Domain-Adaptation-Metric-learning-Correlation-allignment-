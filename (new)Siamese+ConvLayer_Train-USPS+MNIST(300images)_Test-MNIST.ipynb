{
 "cells": [
  {
   "cell_type": "code",
   "execution_count": 1,
   "metadata": {},
   "outputs": [
    {
     "name": "stderr",
     "output_type": "stream",
     "text": [
      "/home/aniruddha/anaconda3/envs/tensorflow/lib/python3.5/site-packages/h5py/__init__.py:36: FutureWarning: Conversion of the second argument of issubdtype from `float` to `np.floating` is deprecated. In future, it will be treated as `np.float64 == np.dtype(float).type`.\n",
      "  from ._conv import register_converters as _register_converters\n",
      "Using TensorFlow backend.\n"
     ]
    }
   ],
   "source": [
    "from __future__ import absolute_import\n",
    "from __future__ import print_function\n",
    "import numpy as np\n",
    "import numpy\n",
    "import PIL\n",
    "from PIL import Image\n",
    "np.random.seed(1337)  # for reproducibility\n",
    "\n",
    "import random\n",
    "from keras.datasets import mnist\n",
    "from keras.models import Sequential, Model\n",
    "from keras.layers import Dense, Dropout, Input, Lambda\n",
    "from keras.layers.convolutional import Conv2D\n",
    "from keras.layers.convolutional import MaxPooling2D\n",
    "from keras.layers import Flatten\n",
    "from keras.optimizers import RMSprop\n",
    "from keras import backend as K\n",
    "from keras.layers import Concatenate, Dense, LSTM, Input, concatenate\n",
    "\n",
    "\n",
    "def euclidean_distance(x, y):\n",
    "    return K.sqrt(K.sum(K.square(x - y), axis=1, keepdims=True))\n",
    "\n",
    "\n",
    "def eucl_dist_output_shape(shapes):\n",
    "    shape1, shape2 = shapes\n",
    "    return (shape1[0], 1)\n",
    "\n",
    "def conc(vects):\n",
    "    x, y = vects\n",
    "    conc1 = concatenate([x,y])\n",
    "    return conc1\n",
    "\n",
    "def conc_shape(shapes):\n",
    "    shape1, shape2 = shapes\n",
    "    return (shape1[0],256)\n",
    "\n",
    "def kl_div(p,q):\n",
    "    return K.sum((p*K.abs(K.log(p)-K.log(q)))/K.max((p*K.abs(K.log(p)-K.log(q)))\n",
    "                            , axis=1, keepdims=True),axis=1, keepdims=True)\n",
    "\n",
    "def contrastive_loss(y_true, y_pred):\n",
    "    '''Contrastive loss from Hadsell-et-al.'06\n",
    "    http://yann.lecun.com/exdb/publis/pdf/hadsell-chopra-lecun-06.pdf\n",
    "    '''\n",
    "    x = y_pred[:,0:128]\n",
    "    y = y_pred[:,128:268]\n",
    "    y_pred1 = euclidean_distance(x,y)\n",
    "    p = x\n",
    "    q = y\n",
    "    p = K.clip(p, K.epsilon(), 1)\n",
    "    q = K.clip(q, K.epsilon(), 1)\n",
    "    #y_true1 = y_true[:,0]\n",
    "    #y_true1 = K.reshape(y_true1,(-1,))\n",
    "    #print(y_true1)\n",
    "    #tr_same = y_true[:,1]\n",
    "    #tr_same = K.reshape(tr_same, (-1,))\n",
    "    y_true1 = y_true\n",
    "    tr_same = K.round(y_true/3)\n",
    "    margin = 1\n",
    "    test = 0.01*kl_div(p,q)\n",
    "    contra = (y_true1 * K.square(y_pred1) + (1 - y_true1) * K.square(K.maximum(margin - y_pred1, 0)))\n",
    "    return K.mean((1-tr_same)*contra\n",
    "                 + (tr_same)*test)\n",
    "    \n",
    "\n",
    "def create_pairs(x, y, digit_indices):\n",
    "    '''Positive and negative pair creation.\n",
    "    Alternates between positive and negative pairs.\n",
    "    '''\n",
    "    pairs = []\n",
    "    labels = []\n",
    "    n = min([len(digit_indices[d]) for d in range(10)]) - 1\n",
    "    for d in range(10):\n",
    "        for i in range(n):\n",
    "            z1, z2 = digit_indices[d][i], digit_indices[d][i + 1]\n",
    "            pairs += [[x[z1], x[z2]]]\n",
    "            inc = random.randrange(1, 10)\n",
    "            dn = (d + inc) % 10\n",
    "            z1, z2 = digit_indices[d][i], digit_indices[dn][i]\n",
    "            pairs += [[x[z1], x[z2]]]\n",
    "            labels += [1, 0]\n",
    "    for i in range(0,3000):\n",
    "        k1 = random.randrange(0,x.shape[0])\n",
    "        k2 = random.randrange(0, y.shape[0])\n",
    "        pairs+= [[x[k1],y[k2]]]\n",
    "        labels += [3]\n",
    "    return np.array(pairs), np.array(labels)\n",
    "\n",
    "\n",
    "def create_base_network():\n",
    "    '''Base network to be shared (eq. to feature extraction).\n",
    "    '''\n",
    "    seq = Sequential()\n",
    "    seq.add(Conv2D(30, (5, 5), input_shape=(28, 28,1), activation='relu'))\n",
    "    seq.add(MaxPooling2D(pool_size=(2, 2)))\n",
    "    seq.add(Dropout(0.2))\n",
    "    seq.add(Flatten())\n",
    "    seq.add(Dense(128, activation='relu'))\n",
    "    seq.add(Dropout(0.1))\n",
    "    seq.add(Dense(128, activation='relu'))\n",
    "    return seq\n",
    "\n",
    "\n",
    "def compute_accuracy(predictions, labels):\n",
    "    '''Compute classification accuracy with a fixed threshold on distances.\n",
    "    '''\n",
    "    return labels[predictions.ravel() < 0.5].mean()\n",
    "\n"
   ]
  },
  {
   "cell_type": "code",
   "execution_count": 2,
   "metadata": {},
   "outputs": [],
   "source": [
    "seed=7\n",
    "numpy.random.seed(seed)"
   ]
  },
  {
   "cell_type": "code",
   "execution_count": 3,
   "metadata": {},
   "outputs": [
    {
     "name": "stdout",
     "output_type": "stream",
     "text": [
      "(2000, 784)\n"
     ]
    }
   ],
   "source": [
    "X_test=[]\n",
    "for i in range(0,10):\n",
    "    for j in range(1,201):\n",
    "        img = PIL.Image.open(\"/home/aniruddha/Documents/USPSdataset/%d/%d.jpg\" %(i,j)).convert(\"L\")\n",
    "        arr = np.array(img)\n",
    "        # ravel to convert 28x28 to 784 1D array\n",
    "        arr=arr.ravel()\n",
    "        X_test.append(arr)\n",
    "X_test=np.array(X_test)\n",
    "#X_train=X_train.reshape(2000,784)\n",
    "X_test=X_test.astype('float32')\n",
    "\n",
    "print(X_test.shape)"
   ]
  },
  {
   "cell_type": "code",
   "execution_count": 4,
   "metadata": {},
   "outputs": [
    {
     "name": "stdout",
     "output_type": "stream",
     "text": [
      "(2000,)\n"
     ]
    }
   ],
   "source": [
    "y_test=[]\n",
    "\n",
    "for i in range(0,10):\n",
    "    for j in range(1,201):\n",
    "        y_test.append(i)\n",
    "        \n",
    "y_test=np.array(y_test)\n",
    "\n",
    "num_classes = 10\n",
    "print(y_test.shape)"
   ]
  },
  {
   "cell_type": "code",
   "execution_count": 5,
   "metadata": {},
   "outputs": [
    {
     "name": "stdout",
     "output_type": "stream",
     "text": [
      "(16000, 784)\n"
     ]
    }
   ],
   "source": [
    "X_train= []\n",
    "for i in range(0,10):\n",
    "    for j in range(201,1801):\n",
    "        img = PIL.Image.open(\"/home/aniruddha/Documents/USPSdataset/%d/%d.jpg\" %(i,j)).convert(\"L\")\n",
    "        arr = np.array(img)\n",
    "        # ravel to convert 28x28 to 784 1D array\n",
    "        arr=arr.ravel()\n",
    "        X_train.append(arr)\n",
    "X_train=np.array(X_train)\n",
    "#X_train=X_train.reshape(19000,784)\n",
    "X_train=X_train.astype('float32')\n",
    "\n",
    "print(X_train.shape)"
   ]
  },
  {
   "cell_type": "code",
   "execution_count": 6,
   "metadata": {},
   "outputs": [
    {
     "name": "stdout",
     "output_type": "stream",
     "text": [
      "(16000, 784)\n",
      "(2000, 784)\n"
     ]
    }
   ],
   "source": [
    "#X_train = X_train.reshape(X_train.shape[0], 1, 28, 28).astype('float32')\n",
    "#X_test = X_test.reshape(X_test.shape[0], 1, 28, 28).astype('float32')\n",
    "\n",
    "print(X_train.shape)\n",
    "print(X_test.shape)"
   ]
  },
  {
   "cell_type": "code",
   "execution_count": 7,
   "metadata": {},
   "outputs": [],
   "source": [
    "X_train=X_train/255\n",
    "X_test=X_test/255"
   ]
  },
  {
   "cell_type": "code",
   "execution_count": 8,
   "metadata": {},
   "outputs": [
    {
     "name": "stdout",
     "output_type": "stream",
     "text": [
      "(16000,)\n",
      "(2000,)\n"
     ]
    }
   ],
   "source": [
    "y_train=[]\n",
    "\n",
    "for i in range(0,10):\n",
    "    for j in range(201,1801):\n",
    "        y_train.append(i)\n",
    "        \n",
    "y_train=np.array(y_train)\n",
    "\n",
    "num_classes = 10\n",
    "print(y_train.shape)\n",
    "print(y_test.shape)"
   ]
  },
  {
   "cell_type": "code",
   "execution_count": 9,
   "metadata": {},
   "outputs": [
    {
     "name": "stdout",
     "output_type": "stream",
     "text": [
      "[0 0 0 ... 9 9 9]\n",
      "[0 0 0 ... 9 9 9]\n"
     ]
    }
   ],
   "source": [
    "print(y_train)\n",
    "print(y_test)"
   ]
  },
  {
   "cell_type": "code",
   "execution_count": 10,
   "metadata": {},
   "outputs": [],
   "source": [
    "input_dim = 784\n",
    "nb_epoch = 5"
   ]
  },
  {
   "cell_type": "code",
   "execution_count": 11,
   "metadata": {},
   "outputs": [],
   "source": [
    "(X1_train,y1_train), (X1_test, y1_test) = mnist.load_data()\n",
    "X1_train=X1_train/255\n",
    "X1_test=X1_test/255\n",
    "X1_train = X1_train.astype('float32')\n",
    "X1_test = X1_test.astype('float32')\n",
    "X1_train = X1_train.reshape(-1,784)\n",
    "X1_test = X1_test.reshape(-1,784)"
   ]
  },
  {
   "cell_type": "code",
   "execution_count": 12,
   "metadata": {},
   "outputs": [],
   "source": [
    "# create training+test positive and negative pairs\n",
    "digit_indices = [np.where(y_train == i)[0] for i in range(10)]\n",
    "tr_pairs, tr_y = create_pairs(X_train, X1_train, digit_indices)\n",
    "\n",
    "digit_indices = [np.where(y_test == i)[0] for i in range(10)]\n",
    "te_pairs, te_y = create_pairs(X_test, X1_test, digit_indices)"
   ]
  },
  {
   "cell_type": "code",
   "execution_count": 13,
   "metadata": {},
   "outputs": [],
   "source": [
    "base_network = create_base_network()"
   ]
  },
  {
   "cell_type": "code",
   "execution_count": 14,
   "metadata": {},
   "outputs": [
    {
     "name": "stdout",
     "output_type": "stream",
     "text": [
      "(28, 28, 1)\n"
     ]
    }
   ],
   "source": [
    "\n",
    "X_temp=X_train.reshape(-1,28,28,1)\n",
    "input_dim = X_temp.shape[1:]\n",
    "print(input_dim)"
   ]
  },
  {
   "cell_type": "code",
   "execution_count": 15,
   "metadata": {},
   "outputs": [
    {
     "name": "stdout",
     "output_type": "stream",
     "text": [
      "(?, 28, 28, 1)\n"
     ]
    }
   ],
   "source": [
    "\n",
    "# network definition\n",
    "base_network = create_base_network()\n",
    "\n",
    "input_a = Input(shape=input_dim)\n",
    "input_b = Input(shape=input_dim)\n",
    "\n",
    "#input_a=K.reshape(input_a,(28,28,1))\n",
    "#input_b=K.reshape(input_b,(28,28,1))\n",
    "# because we re-use the same instance `base_network`,\n",
    "# the weights of the network\n",
    "# will be shared across the two branches\n",
    "print(input_b.shape)"
   ]
  },
  {
   "cell_type": "code",
   "execution_count": 16,
   "metadata": {},
   "outputs": [
    {
     "name": "stderr",
     "output_type": "stream",
     "text": [
      "/home/aniruddha/anaconda3/envs/tensorflow/lib/python3.5/site-packages/ipykernel_launcher.py:6: UserWarning: Update your `Model` call to the Keras 2 API: `Model(inputs=[<tf.Tenso..., outputs=Tensor(\"la...)`\n",
      "  \n"
     ]
    }
   ],
   "source": [
    "processed_a = base_network(input_a)\n",
    "processed_b = base_network(input_b)\n",
    "\n",
    "distance = Lambda(conc, output_shape=conc_shape)([processed_a, processed_b])\n",
    "\n",
    "model = Model(input=[input_a, input_b], output=distance)"
   ]
  },
  {
   "cell_type": "code",
   "execution_count": 17,
   "metadata": {
    "scrolled": false
   },
   "outputs": [
    {
     "name": "stdout",
     "output_type": "stream",
     "text": [
      "(?, 256)\n",
      "(?, 256)\n"
     ]
    }
   ],
   "source": [
    "print(distance.shape)\n",
    "r = distance\n",
    "r = K.reshape(r, (-1,256))\n",
    "print(r.shape)"
   ]
  },
  {
   "cell_type": "code",
   "execution_count": 18,
   "metadata": {},
   "outputs": [
    {
     "name": "stderr",
     "output_type": "stream",
     "text": [
      "/home/aniruddha/anaconda3/envs/tensorflow/lib/python3.5/site-packages/ipykernel_launcher.py:1: UserWarning: Update your `Model` call to the Keras 2 API: `Model(inputs=Tensor(\"in..., outputs=Tensor(\"se...)`\n",
      "  \"\"\"Entry point for launching an IPython kernel.\n"
     ]
    }
   ],
   "source": [
    "test_model = Model(input = input_a, output = processed_a)"
   ]
  },
  {
   "cell_type": "code",
   "execution_count": 19,
   "metadata": {},
   "outputs": [
    {
     "name": "stdout",
     "output_type": "stream",
     "text": [
      "(34980, 2, 28, 28, 1)\n",
      "(6980, 2, 28, 28, 1)\n"
     ]
    }
   ],
   "source": [
    "tr_pairs1=tr_pairs.reshape(-1,2,28,28,1)\n",
    "te_pairs1=te_pairs.reshape(-1,2,28,28,1)\n",
    "\n",
    "print(tr_pairs1.shape)\n",
    "print(te_pairs1.shape)"
   ]
  },
  {
   "cell_type": "code",
   "execution_count": 20,
   "metadata": {},
   "outputs": [
    {
     "name": "stdout",
     "output_type": "stream",
     "text": [
      "(34980, 28, 28, 1)\n"
     ]
    }
   ],
   "source": [
    "print(tr_pairs1[:,0].shape)"
   ]
  },
  {
   "cell_type": "code",
   "execution_count": 21,
   "metadata": {},
   "outputs": [
    {
     "name": "stdout",
     "output_type": "stream",
     "text": [
      "[[0.         0.00784314 0.         ... 0.         0.         0.        ]\n",
      " [0.         0.00392157 0.00392157 ... 0.         0.         0.        ]\n",
      " [0.         0.00784314 0.         ... 0.         0.         0.        ]\n",
      " ...\n",
      " [0.         0.         0.         ... 0.         0.         0.        ]\n",
      " [0.         0.         0.         ... 0.         0.         0.        ]\n",
      " [0.         0.         0.         ... 0.         0.         0.        ]]\n"
     ]
    }
   ],
   "source": [
    "print(tr_pairs[:, 1])"
   ]
  },
  {
   "cell_type": "code",
   "execution_count": 265,
   "metadata": {},
   "outputs": [
    {
     "data": {
      "image/svg+xml": [
       "<svg height=\"191pt\" viewBox=\"0.00 0.00 276.00 191.00\" width=\"276pt\" xmlns=\"http://www.w3.org/2000/svg\" xmlns:xlink=\"http://www.w3.org/1999/xlink\">\n",
       "<g class=\"graph\" id=\"graph0\" transform=\"scale(1 1) rotate(0) translate(4 187)\">\n",
       "<title>G</title>\n",
       "<polygon fill=\"#ffffff\" points=\"-4,4 -4,-187 272,-187 272,4 -4,4\" stroke=\"transparent\"/>\n",
       "<!-- 140588416442040 -->\n",
       "<g class=\"node\" id=\"node1\">\n",
       "<title>140588416442040</title>\n",
       "<polygon fill=\"none\" points=\"0,-146.5 0,-182.5 125,-182.5 125,-146.5 0,-146.5\" stroke=\"#000000\"/>\n",
       "<text fill=\"#000000\" font-family=\"Times,serif\" font-size=\"14.00\" text-anchor=\"middle\" x=\"62.5\" y=\"-160.8\">input_7: InputLayer</text>\n",
       "</g>\n",
       "<!-- 140588416441648 -->\n",
       "<g class=\"node\" id=\"node3\">\n",
       "<title>140588416441648</title>\n",
       "<polygon fill=\"none\" points=\"59,-73.5 59,-109.5 208,-109.5 208,-73.5 59,-73.5\" stroke=\"#000000\"/>\n",
       "<text fill=\"#000000\" font-family=\"Times,serif\" font-size=\"14.00\" text-anchor=\"middle\" x=\"133.5\" y=\"-87.8\">sequential_8: Sequential</text>\n",
       "</g>\n",
       "<!-- 140588416442040&#45;&gt;140588416441648 -->\n",
       "<g class=\"edge\" id=\"edge1\">\n",
       "<title>140588416442040-&gt;140588416441648</title>\n",
       "<path d=\"M80.0506,-146.4551C88.755,-137.5054 99.4132,-126.547 108.9156,-116.7769\" fill=\"none\" stroke=\"#000000\"/>\n",
       "<polygon fill=\"#000000\" points=\"111.4421,-119.1992 115.9053,-109.5904 106.424,-114.3187 111.4421,-119.1992\" stroke=\"#000000\"/>\n",
       "</g>\n",
       "<!-- 140588435873576 -->\n",
       "<g class=\"node\" id=\"node2\">\n",
       "<title>140588435873576</title>\n",
       "<polygon fill=\"none\" points=\"143,-146.5 143,-182.5 268,-182.5 268,-146.5 143,-146.5\" stroke=\"#000000\"/>\n",
       "<text fill=\"#000000\" font-family=\"Times,serif\" font-size=\"14.00\" text-anchor=\"middle\" x=\"205.5\" y=\"-160.8\">input_8: InputLayer</text>\n",
       "</g>\n",
       "<!-- 140588435873576&#45;&gt;140588416441648 -->\n",
       "<g class=\"edge\" id=\"edge2\">\n",
       "<title>140588435873576-&gt;140588416441648</title>\n",
       "<path d=\"M187.7022,-146.4551C178.8752,-137.5054 168.0669,-126.547 158.4307,-116.7769\" fill=\"none\" stroke=\"#000000\"/>\n",
       "<polygon fill=\"#000000\" points=\"160.8566,-114.2523 151.3425,-109.5904 155.8728,-119.1678 160.8566,-114.2523\" stroke=\"#000000\"/>\n",
       "</g>\n",
       "<!-- 140588518054376 -->\n",
       "<g class=\"node\" id=\"node4\">\n",
       "<title>140588518054376</title>\n",
       "<polygon fill=\"none\" points=\"72,-.5 72,-36.5 195,-36.5 195,-.5 72,-.5\" stroke=\"#000000\"/>\n",
       "<text fill=\"#000000\" font-family=\"Times,serif\" font-size=\"14.00\" text-anchor=\"middle\" x=\"133.5\" y=\"-14.8\">lambda_4: Lambda</text>\n",
       "</g>\n",
       "<!-- 140588416441648&#45;&gt;140588518054376 -->\n",
       "<g class=\"edge\" id=\"edge3\">\n",
       "<title>140588416441648-&gt;140588518054376</title>\n",
       "<path d=\"M133.5,-73.4551C133.5,-65.3828 133.5,-55.6764 133.5,-46.6817\" fill=\"none\" stroke=\"#000000\"/>\n",
       "<polygon fill=\"#000000\" points=\"137.0001,-46.5903 133.5,-36.5904 130.0001,-46.5904 137.0001,-46.5903\" stroke=\"#000000\"/>\n",
       "</g>\n",
       "</g>\n",
       "</svg>"
      ],
      "text/plain": [
       "<IPython.core.display.SVG object>"
      ]
     },
     "execution_count": 265,
     "metadata": {},
     "output_type": "execute_result"
    }
   ],
   "source": [
    "from IPython.display import SVG\n",
    "from keras.utils.vis_utils import model_to_dot\n",
    "\n",
    "SVG(model_to_dot(model).create(prog='dot', format='svg'))"
   ]
  },
  {
   "cell_type": "code",
   "execution_count": 18,
   "metadata": {},
   "outputs": [
    {
     "data": {
      "image/svg+xml": [
       "<svg height=\"556pt\" viewBox=\"0.00 0.00 215.00 556.00\" width=\"215pt\" xmlns=\"http://www.w3.org/2000/svg\" xmlns:xlink=\"http://www.w3.org/1999/xlink\">\n",
       "<g class=\"graph\" id=\"graph0\" transform=\"scale(1 1) rotate(0) translate(4 552)\">\n",
       "<title>G</title>\n",
       "<polygon fill=\"#ffffff\" points=\"-4,4 -4,-552 211,-552 211,4 -4,4\" stroke=\"transparent\"/>\n",
       "<!-- 140593939344688 -->\n",
       "<g class=\"node\" id=\"node1\">\n",
       "<title>140593939344688</title>\n",
       "<polygon fill=\"none\" points=\"17.5,-511.5 17.5,-547.5 189.5,-547.5 189.5,-511.5 17.5,-511.5\" stroke=\"#000000\"/>\n",
       "<text fill=\"#000000\" font-family=\"Times,serif\" font-size=\"14.00\" text-anchor=\"middle\" x=\"103.5\" y=\"-525.8\">conv2d_2_input: InputLayer</text>\n",
       "</g>\n",
       "<!-- 140593939344296 -->\n",
       "<g class=\"node\" id=\"node2\">\n",
       "<title>140593939344296</title>\n",
       "<polygon fill=\"none\" points=\"42,-438.5 42,-474.5 165,-474.5 165,-438.5 42,-438.5\" stroke=\"#000000\"/>\n",
       "<text fill=\"#000000\" font-family=\"Times,serif\" font-size=\"14.00\" text-anchor=\"middle\" x=\"103.5\" y=\"-452.8\">conv2d_2: Conv2D</text>\n",
       "</g>\n",
       "<!-- 140593939344688&#45;&gt;140593939344296 -->\n",
       "<g class=\"edge\" id=\"edge1\">\n",
       "<title>140593939344688-&gt;140593939344296</title>\n",
       "<path d=\"M103.5,-511.4551C103.5,-503.3828 103.5,-493.6764 103.5,-484.6817\" fill=\"none\" stroke=\"#000000\"/>\n",
       "<polygon fill=\"#000000\" points=\"107.0001,-484.5903 103.5,-474.5904 100.0001,-484.5904 107.0001,-484.5903\" stroke=\"#000000\"/>\n",
       "</g>\n",
       "<!-- 140593939344800 -->\n",
       "<g class=\"node\" id=\"node3\">\n",
       "<title>140593939344800</title>\n",
       "<polygon fill=\"none\" points=\"0,-365.5 0,-401.5 207,-401.5 207,-365.5 0,-365.5\" stroke=\"#000000\"/>\n",
       "<text fill=\"#000000\" font-family=\"Times,serif\" font-size=\"14.00\" text-anchor=\"middle\" x=\"103.5\" y=\"-379.8\">max_pooling2d_2: MaxPooling2D</text>\n",
       "</g>\n",
       "<!-- 140593939344296&#45;&gt;140593939344800 -->\n",
       "<g class=\"edge\" id=\"edge2\">\n",
       "<title>140593939344296-&gt;140593939344800</title>\n",
       "<path d=\"M103.5,-438.4551C103.5,-430.3828 103.5,-420.6764 103.5,-411.6817\" fill=\"none\" stroke=\"#000000\"/>\n",
       "<polygon fill=\"#000000\" points=\"107.0001,-411.5903 103.5,-401.5904 100.0001,-411.5904 107.0001,-411.5903\" stroke=\"#000000\"/>\n",
       "</g>\n",
       "<!-- 140593939427112 -->\n",
       "<g class=\"node\" id=\"node4\">\n",
       "<title>140593939427112</title>\n",
       "<polygon fill=\"none\" points=\"41,-292.5 41,-328.5 166,-328.5 166,-292.5 41,-292.5\" stroke=\"#000000\"/>\n",
       "<text fill=\"#000000\" font-family=\"Times,serif\" font-size=\"14.00\" text-anchor=\"middle\" x=\"103.5\" y=\"-306.8\">dropout_3: Dropout</text>\n",
       "</g>\n",
       "<!-- 140593939344800&#45;&gt;140593939427112 -->\n",
       "<g class=\"edge\" id=\"edge3\">\n",
       "<title>140593939344800-&gt;140593939427112</title>\n",
       "<path d=\"M103.5,-365.4551C103.5,-357.3828 103.5,-347.6764 103.5,-338.6817\" fill=\"none\" stroke=\"#000000\"/>\n",
       "<polygon fill=\"#000000\" points=\"107.0001,-338.5903 103.5,-328.5904 100.0001,-338.5904 107.0001,-338.5903\" stroke=\"#000000\"/>\n",
       "</g>\n",
       "<!-- 140593939424592 -->\n",
       "<g class=\"node\" id=\"node5\">\n",
       "<title>140593939424592</title>\n",
       "<polygon fill=\"none\" points=\"48.5,-219.5 48.5,-255.5 158.5,-255.5 158.5,-219.5 48.5,-219.5\" stroke=\"#000000\"/>\n",
       "<text fill=\"#000000\" font-family=\"Times,serif\" font-size=\"14.00\" text-anchor=\"middle\" x=\"103.5\" y=\"-233.8\">flatten_2: Flatten</text>\n",
       "</g>\n",
       "<!-- 140593939427112&#45;&gt;140593939424592 -->\n",
       "<g class=\"edge\" id=\"edge4\">\n",
       "<title>140593939427112-&gt;140593939424592</title>\n",
       "<path d=\"M103.5,-292.4551C103.5,-284.3828 103.5,-274.6764 103.5,-265.6817\" fill=\"none\" stroke=\"#000000\"/>\n",
       "<polygon fill=\"#000000\" points=\"107.0001,-265.5903 103.5,-255.5904 100.0001,-265.5904 107.0001,-265.5903\" stroke=\"#000000\"/>\n",
       "</g>\n",
       "<!-- 140593939482832 -->\n",
       "<g class=\"node\" id=\"node6\">\n",
       "<title>140593939482832</title>\n",
       "<polygon fill=\"none\" points=\"52.5,-146.5 52.5,-182.5 154.5,-182.5 154.5,-146.5 52.5,-146.5\" stroke=\"#000000\"/>\n",
       "<text fill=\"#000000\" font-family=\"Times,serif\" font-size=\"14.00\" text-anchor=\"middle\" x=\"103.5\" y=\"-160.8\">dense_3: Dense</text>\n",
       "</g>\n",
       "<!-- 140593939424592&#45;&gt;140593939482832 -->\n",
       "<g class=\"edge\" id=\"edge5\">\n",
       "<title>140593939424592-&gt;140593939482832</title>\n",
       "<path d=\"M103.5,-219.4551C103.5,-211.3828 103.5,-201.6764 103.5,-192.6817\" fill=\"none\" stroke=\"#000000\"/>\n",
       "<polygon fill=\"#000000\" points=\"107.0001,-192.5903 103.5,-182.5904 100.0001,-192.5904 107.0001,-192.5903\" stroke=\"#000000\"/>\n",
       "</g>\n",
       "<!-- 140593939183936 -->\n",
       "<g class=\"node\" id=\"node7\">\n",
       "<title>140593939183936</title>\n",
       "<polygon fill=\"none\" points=\"41,-73.5 41,-109.5 166,-109.5 166,-73.5 41,-73.5\" stroke=\"#000000\"/>\n",
       "<text fill=\"#000000\" font-family=\"Times,serif\" font-size=\"14.00\" text-anchor=\"middle\" x=\"103.5\" y=\"-87.8\">dropout_4: Dropout</text>\n",
       "</g>\n",
       "<!-- 140593939482832&#45;&gt;140593939183936 -->\n",
       "<g class=\"edge\" id=\"edge6\">\n",
       "<title>140593939482832-&gt;140593939183936</title>\n",
       "<path d=\"M103.5,-146.4551C103.5,-138.3828 103.5,-128.6764 103.5,-119.6817\" fill=\"none\" stroke=\"#000000\"/>\n",
       "<polygon fill=\"#000000\" points=\"107.0001,-119.5903 103.5,-109.5904 100.0001,-119.5904 107.0001,-119.5903\" stroke=\"#000000\"/>\n",
       "</g>\n",
       "<!-- 140593939183320 -->\n",
       "<g class=\"node\" id=\"node8\">\n",
       "<title>140593939183320</title>\n",
       "<polygon fill=\"none\" points=\"52.5,-.5 52.5,-36.5 154.5,-36.5 154.5,-.5 52.5,-.5\" stroke=\"#000000\"/>\n",
       "<text fill=\"#000000\" font-family=\"Times,serif\" font-size=\"14.00\" text-anchor=\"middle\" x=\"103.5\" y=\"-14.8\">dense_4: Dense</text>\n",
       "</g>\n",
       "<!-- 140593939183936&#45;&gt;140593939183320 -->\n",
       "<g class=\"edge\" id=\"edge7\">\n",
       "<title>140593939183936-&gt;140593939183320</title>\n",
       "<path d=\"M103.5,-73.4551C103.5,-65.3828 103.5,-55.6764 103.5,-46.6817\" fill=\"none\" stroke=\"#000000\"/>\n",
       "<polygon fill=\"#000000\" points=\"107.0001,-46.5903 103.5,-36.5904 100.0001,-46.5904 107.0001,-46.5903\" stroke=\"#000000\"/>\n",
       "</g>\n",
       "</g>\n",
       "</svg>"
      ],
      "text/plain": [
       "<IPython.core.display.SVG object>"
      ]
     },
     "execution_count": 18,
     "metadata": {},
     "output_type": "execute_result"
    }
   ],
   "source": [
    "from IPython.display import SVG\n",
    "from keras.utils.vis_utils import model_to_dot\n",
    "\n",
    "SVG(model_to_dot(base_network).create(prog='dot', format='svg'))"
   ]
  },
  {
   "cell_type": "code",
   "execution_count": 22,
   "metadata": {},
   "outputs": [],
   "source": [
    "nb_epoch=5"
   ]
  },
  {
   "cell_type": "code",
   "execution_count": 23,
   "metadata": {},
   "outputs": [
    {
     "name": "stderr",
     "output_type": "stream",
     "text": [
      "/home/aniruddha/anaconda3/envs/tensorflow/lib/python3.5/site-packages/ipykernel_launcher.py:7: UserWarning: The `nb_epoch` argument in `fit` has been renamed `epochs`.\n",
      "  import sys\n"
     ]
    },
    {
     "name": "stdout",
     "output_type": "stream",
     "text": [
      "Train on 34980 samples, validate on 6980 samples\n",
      "Epoch 1/5\n",
      "34980/34980 [==============================] - 30s 854us/step - loss: 0.1282 - val_loss: 0.0676\n",
      "Epoch 2/5\n",
      "34980/34980 [==============================] - 29s 828us/step - loss: 0.0664 - val_loss: 0.0526\n",
      "Epoch 3/5\n",
      "34980/34980 [==============================] - 30s 865us/step - loss: 0.0450 - val_loss: 0.0463\n",
      "Epoch 4/5\n",
      "34980/34980 [==============================] - 33s 943us/step - loss: 0.0323 - val_loss: 0.0435\n",
      "Epoch 5/5\n",
      "34980/34980 [==============================] - 30s 863us/step - loss: 0.0249 - val_loss: 0.0426\n"
     ]
    },
    {
     "data": {
      "text/plain": [
       "<keras.callbacks.History at 0x7f9800f72f28>"
      ]
     },
     "execution_count": 23,
     "metadata": {},
     "output_type": "execute_result"
    }
   ],
   "source": [
    "# train\n",
    "rms = RMSprop()\n",
    "model.compile(loss=contrastive_loss, optimizer=rms)\n",
    "model.fit([tr_pairs1[:,0], tr_pairs1[:, 1]], tr_y,\n",
    "          validation_data=([te_pairs1[:,0], te_pairs1[:, 1]], te_y),\n",
    "          batch_size=128,\n",
    "          nb_epoch=nb_epoch)\n",
    "\n"
   ]
  },
  {
   "cell_type": "code",
   "execution_count": 43,
   "metadata": {},
   "outputs": [],
   "source": [
    "(X_train1,y_train1),(X_test1,y_test1)=mnist.load_data()\n",
    "X_test1 = X_test1/255\n",
    "X_test1 = X_test1.astype('float32')"
   ]
  },
  {
   "cell_type": "code",
   "execution_count": 44,
   "metadata": {},
   "outputs": [
    {
     "name": "stdout",
     "output_type": "stream",
     "text": [
      "(10000, 28, 28, 1)\n"
     ]
    }
   ],
   "source": [
    "X_test1 = X_test1.reshape(-1,28,28,1)\n",
    "print(X_test1.shape)"
   ]
  },
  {
   "cell_type": "code",
   "execution_count": 26,
   "metadata": {},
   "outputs": [],
   "source": [
    "%matplotlib inline\n",
    "\n",
    "from time import time\n",
    "\n",
    "import numpy as np\n",
    "import matplotlib.pyplot as plt\n",
    "from matplotlib import offsetbox\n",
    "from sklearn import manifold, datasets, decomposition, ensemble, discriminant_analysis, random_projection"
   ]
  },
  {
   "cell_type": "code",
   "execution_count": 27,
   "metadata": {},
   "outputs": [],
   "source": [
    "def plot_embedding(mu, Y, title=None):\n",
    "    num_class = 1000 # data points per class\n",
    "#     x_min, x_max = np.min(mu, 0), np.max(mu, 0)\n",
    "#     mu = (mu - x_min) / (x_max - x_min)\n",
    "    \n",
    "#     classes = [0, 1, 2, 3, 4, 6, 7, 8, 9, 10, 11, 12, 15, 16, 18, 19, \n",
    "#                20, 21, 22, 25, 26, 27, 28, 29, 30, 31, 32, 34, 35, 36, 37, 39, 40, 42, 43, 44, 45, 46, 48, 49]\n",
    "    \n",
    "    classes = [0,1,2,3,4,5,6,7,8,9]\n",
    "    data = [[] for i in classes]\n",
    "    for i, y in enumerate(Y):\n",
    "        data[classes.index(y)].append(np.array(mu[i]))\n",
    "            \n",
    "    colors = ['b', 'g', 'r', 'c', 'm', 'y', 'k', 'olive', 'orange', 'mediumpurple']\n",
    "    l = [i for i in range(10)]\n",
    "    alphas = 0.3 * np.ones(10)\n",
    "\n",
    "    fig = plt.figure()\n",
    "    ax = fig.add_subplot(111)\n",
    "    ax.set_aspect(1)\n",
    "    font_size = 13\n",
    "    for i in range(10):\n",
    "        temp = np.array(data[i])\n",
    "        l[i] = plt.scatter(temp[:num_class, 0], temp[:num_class, 1], s = 5, c = colors[i], edgecolors = 'face', alpha=alphas[i])\n",
    "    leg = plt.legend((l[0],l[1],l[2],l[3],l[4],l[5],l[6],l[7],l[8],l[9]), \n",
    "               ('0','1','2','3','4','5','6','7','8','9'), loc='center left', bbox_to_anchor=(1, 0.5), fontsize=font_size)\n",
    "    leg.get_frame().set_linewidth(0.0)\n",
    "    plt.xticks(fontsize=font_size)\n",
    "    plt.yticks(fontsize=font_size)"
   ]
  },
  {
   "cell_type": "code",
   "execution_count": 45,
   "metadata": {},
   "outputs": [],
   "source": [
    "X_test1=X_test1.reshape(-1,28,28,1)\n",
    "processed=test_model.predict(X_test1)"
   ]
  },
  {
   "cell_type": "code",
   "execution_count": 29,
   "metadata": {},
   "outputs": [],
   "source": [
    "X_train = X_train.reshape(-1,28,28,1)\n",
    "processed=test_model.predict(X_train)"
   ]
  },
  {
   "cell_type": "code",
   "execution_count": 30,
   "metadata": {},
   "outputs": [
    {
     "name": "stdout",
     "output_type": "stream",
     "text": [
      "(16000, 128)\n"
     ]
    }
   ],
   "source": [
    "print(processed.shape)"
   ]
  },
  {
   "cell_type": "code",
   "execution_count": 31,
   "metadata": {},
   "outputs": [
    {
     "name": "stdout",
     "output_type": "stream",
     "text": [
      "Computing t-SNE embedding\n"
     ]
    },
    {
     "data": {
      "image/png": "[encoded data removed]",
      "text/plain": [
       "<matplotlib.figure.Figure at 0x7f98008e9898>"
      ]
     },
     "metadata": {},
     "output_type": "display_data"
    }
   ],
   "source": [
    "#latest model\n",
    "#new\n",
    "#tsne of test - mnist dataset\n",
    "print(\"Computing t-SNE embedding\")\n",
    "tsne_pred = manifold.TSNE(n_components=2, init='pca', random_state=0)\n",
    "t0 = time()\n",
    "X_tsne_pred = tsne_pred.fit_transform(processed)\n",
    "\n",
    "plot_embedding(X_tsne_pred, y_train,\n",
    "               \"t-SNE embedding of the digits (time %.2fs)\" %\n",
    "               (time() - t0))"
   ]
  },
  {
   "cell_type": "code",
   "execution_count": 33,
   "metadata": {},
   "outputs": [
    {
     "name": "stdout",
     "output_type": "stream",
     "text": [
      "Computing t-SNE embedding\n"
     ]
    },
    {
     "data": {
      "image/png": "[encoded data removed]",
      "text/plain": [
       "<matplotlib.figure.Figure at 0x7f978b261908>"
      ]
     },
     "metadata": {},
     "output_type": "display_data"
    }
   ],
   "source": [
    "#new\n",
    "#tsne of test - mnist dataset\n",
    "print(\"Computing t-SNE embedding\")\n",
    "tsne_pred = manifold.TSNE(n_components=2, init='pca', random_state=0)\n",
    "t0 = time()\n",
    "X_tsne_pred = tsne_pred.fit_transform(processed)\n",
    "\n",
    "plot_embedding(X_tsne_pred, y_test1,\n",
    "               \"t-SNE embedding of the digits (time %.2fs)\" %\n",
    "               (time() - t0))"
   ]
  },
  {
   "cell_type": "code",
   "execution_count": 34,
   "metadata": {},
   "outputs": [],
   "source": [
    "X_train11=X_train.reshape(-1,28,28,1)\n",
    "X_test11=X_test.reshape(-1,28,28,1)"
   ]
  },
  {
   "cell_type": "code",
   "execution_count": 35,
   "metadata": {},
   "outputs": [],
   "source": [
    "processed_train=test_model.predict(X_train11)\n",
    "processed_test=test_model.predict(X_test11)"
   ]
  },
  {
   "cell_type": "code",
   "execution_count": 36,
   "metadata": {},
   "outputs": [
    {
     "name": "stdout",
     "output_type": "stream",
     "text": [
      "128\n",
      "(16000, 128)\n",
      "(2000, 128)\n"
     ]
    }
   ],
   "source": [
    "num_pixels = 128\n",
    "processed_train = processed_train.reshape(processed_train.shape[0], num_pixels).astype('float32')\n",
    "processed_test = processed_test.reshape(processed_test.shape[0], num_pixels).astype('float32')\n",
    "\n",
    "print(num_pixels)\n",
    "print(processed_train.shape)\n",
    "print(processed_test.shape)"
   ]
  },
  {
   "cell_type": "code",
   "execution_count": 37,
   "metadata": {},
   "outputs": [],
   "source": [
    "from keras.utils import np_utils\n",
    "y_train1 = np_utils.to_categorical(y_train)\n",
    "y_test1 = np_utils.to_categorical(y_test)\n",
    "num_classes = 10"
   ]
  },
  {
   "cell_type": "code",
   "execution_count": 38,
   "metadata": {},
   "outputs": [],
   "source": [
    "# define baseline model\n",
    "def baseline_model1():\n",
    "\t# create model\n",
    "\tmodel = Sequential()\n",
    "\tmodel.add(Dense(num_pixels, input_dim=num_pixels, kernel_initializer='normal', activation='relu'))\n",
    "\tmodel.add(Dense(num_classes, kernel_initializer='normal', activation='softmax'))\n",
    "\t# Compile model\n",
    "\tmodel.compile(loss='categorical_crossentropy', optimizer='adam', metrics=['accuracy'])\n",
    "\treturn model"
   ]
  },
  {
   "cell_type": "code",
   "execution_count": 39,
   "metadata": {},
   "outputs": [
    {
     "name": "stdout",
     "output_type": "stream",
     "text": [
      "Train on 16000 samples, validate on 2000 samples\n",
      "Epoch 1/10\n",
      "16000/16000 [==============================] - 0s 21us/step - loss: 1.9075 - acc: 0.9307 - val_loss: 1.3260 - val_acc: 0.9600\n",
      "Epoch 2/10\n",
      "16000/16000 [==============================] - 0s 13us/step - loss: 0.6694 - acc: 0.9948 - val_loss: 0.3749 - val_acc: 0.9580\n",
      "Epoch 3/10\n",
      "16000/16000 [==============================] - 0s 14us/step - loss: 0.1670 - acc: 0.9951 - val_loss: 0.2089 - val_acc: 0.9600\n",
      "Epoch 4/10\n",
      "16000/16000 [==============================] - 0s 14us/step - loss: 0.0748 - acc: 0.9952 - val_loss: 0.1707 - val_acc: 0.9590\n",
      "Epoch 5/10\n",
      "16000/16000 [==============================] - 0s 15us/step - loss: 0.0473 - acc: 0.9953 - val_loss: 0.1585 - val_acc: 0.9600\n",
      "Epoch 6/10\n",
      "16000/16000 [==============================] - 0s 14us/step - loss: 0.0357 - acc: 0.9953 - val_loss: 0.1540 - val_acc: 0.9605\n",
      "Epoch 7/10\n",
      "16000/16000 [==============================] - 0s 14us/step - loss: 0.0297 - acc: 0.9953 - val_loss: 0.1523 - val_acc: 0.9595\n",
      "Epoch 8/10\n",
      "16000/16000 [==============================] - 0s 14us/step - loss: 0.0262 - acc: 0.9954 - val_loss: 0.1517 - val_acc: 0.9615\n",
      "Epoch 9/10\n",
      "16000/16000 [==============================] - 0s 15us/step - loss: 0.0240 - acc: 0.9954 - val_loss: 0.1525 - val_acc: 0.9600\n",
      "Epoch 10/10\n",
      "16000/16000 [==============================] - 0s 15us/step - loss: 0.0224 - acc: 0.9955 - val_loss: 0.1528 - val_acc: 0.9605\n",
      "2000/2000 [==============================] - 0s 26us/step\n",
      "16000/16000 [==============================] - 0s 20us/step\n"
     ]
    }
   ],
   "source": [
    "\n",
    "# build the model\n",
    "model1 = baseline_model1()\n",
    "# Fit the model\n",
    "model1.fit(processed_train, y_train1, validation_data=(processed_test, y_test1), epochs=10, batch_size=200, verbose=1)\n",
    "# Final evaluation of the model\n",
    "scores_test = model1.evaluate(processed_test, y_test1, verbose=1)\n",
    "scores_train = model1.evaluate(processed_train, y_train1, verbose=1)\n"
   ]
  },
  {
   "cell_type": "code",
   "execution_count": 40,
   "metadata": {},
   "outputs": [
    {
     "name": "stdout",
     "output_type": "stream",
     "text": [
      "* Accuracy on training set: 99.55%\n",
      "* Accuracy on test set: 96.05%\n"
     ]
    }
   ],
   "source": [
    "#scores_train=scores_train/1.0\n",
    "#scores_test=scores_test/1.0\n",
    "print('* Accuracy on training set: %0.2f%%' % (100 * scores_train[1]))\n",
    "print('* Accuracy on test set: %0.2f%%' % (100 * scores_test[1]))"
   ]
  },
  {
   "cell_type": "code",
   "execution_count": 46,
   "metadata": {},
   "outputs": [],
   "source": [
    "from keras.utils import np_utils\n",
    "y_test1 = np_utils.to_categorical(y_test1)\n",
    "num_classes = 10"
   ]
  },
  {
   "cell_type": "code",
   "execution_count": 47,
   "metadata": {},
   "outputs": [
    {
     "name": "stdout",
     "output_type": "stream",
     "text": [
      "10000/10000 [==============================] - 0s 26us/step\n",
      "* Accuracy on test USPS set: 86.63%\n"
     ]
    }
   ],
   "source": [
    "scores_test_USPS=model1.evaluate(processed, y_test1, verbose=1)\n",
    "print('* Accuracy on test USPS set: %0.2f%%' % (100 * scores_test_USPS[1]))"
   ]
  },
  {
   "cell_type": "code",
   "execution_count": null,
   "metadata": {},
   "outputs": [],
   "source": []
  }
 ],
 "metadata": {
  "kernelspec": {
   "display_name": "Python 3",
   "language": "python",
   "name": "python3"
  },
  "language_info": {
   "codemirror_mode": {
    "name": "ipython",
    "version": 3
   },
   "file_extension": ".py",
   "mimetype": "text/x-python",
   "name": "python",
   "nbconvert_exporter": "python",
   "pygments_lexer": "ipython3",
   "version": "3.5.4"
  }
 },
 "nbformat": 4,
 "nbformat_minor": 2
}
